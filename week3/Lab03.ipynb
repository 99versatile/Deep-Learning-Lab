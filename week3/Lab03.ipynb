{
  "cells": [
    {
      "cell_type": "markdown",
      "metadata": {
        "id": "SEHO-jaFj9Zm"
      },
      "source": [
        "> ### EEE4423: Deep Learning Lab\n",
        "\n",
        "# LAB \\#3: CNN: VGG Net and ResNet"
      ]
    },
    {
      "cell_type": "markdown",
      "metadata": {
        "id": "HVdm1LA1j9Zo"
      },
      "source": [
        "<h4><div style=\"text-align: right\"> Due date: March 24, 2023.  </div> <br>\n",
        "<div style=\"text-align: right\"> Please upload your file @ LearnUs until the start of class in the form of [ID_Name_Lab03.ipynb]. </div></h4>"
      ]
    },
    {
      "cell_type": "markdown",
      "metadata": {
        "id": "8cl2DqlTj9Zp"
      },
      "source": [
        "### *Instructions:*\n",
        "- Write a program implementing a particular algorithm to solve a given problem.   \n",
        "- <span style=\"color:red\">**Report and discuss your results. Analyze the algorithm, theoretically and empirically.**</span> \n",
        "- Each team must write their own answers and codes (<span style=\"color:red\">**if not you will get a F grade**</span>)."
      ]
    },
    {
      "cell_type": "markdown",
      "metadata": {
        "id": "KKipoMbMj9Zq"
      },
      "source": [
        "<h2><span style=\"color:blue\">[2018142102] [Euijin Hong]</span> </h2>"
      ]
    },
    {
      "cell_type": "markdown",
      "source": [
        "#Discussion\n",
        "\n",
        "1. **VGGNet**\n",
        "\n",
        "> - 현재 구현된 VGGNet에서는 총 13개의 conv. layer와 3개의 fc layer를 통해 model이 구성된다. \n",
        "- 논문에서 볼 수 있었던 것처럼, 크기가 작은 conv. layer 여러 개를 연결함으로써 넓은 effective receptive field를 얻을 수 있었고, 더욱 깊은 layer와 feature map을 가질 수 있었다. \n",
        "- 총 20번의 학습 epoch마다 성능 평가를 했을 때, Cross Entropy Loss를 통해 얻은 최소 loss는 0.00041532100294716656, 최대 accuracy는 93.0%로 나타났다.\n",
        "- 전체 parameter의 수는 33617987개로, ResNet50의 23506499개와 비교했을 때 더 많은 수를 보인다. 그러나 epoch당 소요 시간은 VGGNet이 더 짧았는데, 이는 VGGNet의 layer 깊이가 더 얕고 parameter의 개수가 마지막 3개의 FC layer에 편중되어 있었기 때문에 back propagation에 걸리는 시간이 더 짧았을 것이라고 해석할 수 있다. \n",
        "- 상대적으로 얕은 layer깊이에도 accuracy가 크게 나온 이유는, Input image의 size가 32x32였기 때문에 각 이미지 당 feature의 개수가 적었고, 따라서 layer의 수가 적은 VGGNet이 가지는 effective receptive field로도 사진에서 충분한 양의 feature를 뽑아낼 수 있었기 때문에, 좋은 성능을 이끌어낼 수 있었다. \n",
        "- 논문에서는 구현되어 있지 않은 Batch Normalization을 각각의 convolutional layer의 output에 적용시켰기 때문에 gradient의 분포를 정규화할 수 있었을 것이고, 이것이 좋은 성능으로 이어진 요인 중 하나이다. \n",
        "- Channel의 개수는 현재 데이터셋으로 학습하는 데 있어서 크게 유의미하지 않았다. VGGNet은 최대 channel 개수가 512개, ResNet은 최대 2048개였으나, 결과적으로는 VGGNet의 성능이 더 좋았다. 이는 앞서 언급했던 image당 feature개수가 많지 않았기 때문이다. \n",
        "- Epoch를 거듭하면서 성능(accuracy)이 향상되는 속도는 VGGNet(20epoch동안 9.84% 향상)이 ResNet(15epoch동안 12.7% 향상)보다는 느렸다. 이는 VGGNet의 accuracy가 더 빨리 saturated 되었기 때문이라고 판단된다. 실제로 epoch 6 이후의 epoch들의 accuracy에서는 VGGNet의 성능 향상이 더디게 일어나는 것을 볼 수 있다. 이는 layer깊이가 saturation 속도에 영향을 미쳤기 때문이라고 볼 수 있다(깊이가 얕을수록 saturation이 더 빨리 일어난다). \n",
        "- 그렇지만, 첫 epoch에서 학습한 weight을 가지고 test set을 대상으로 얻은 accuracy는 VGGNet(83.16%)이 ResNet(72.7%)보다 높았다. 이 역시 VGGNet의 layer 깊이가 얕기 때문에 초기 training을 통해 weight들이 더 빨리 optimize 되었을 것이다. \n",
        "\n",
        "\n",
        "2. **ResNet**\n",
        "\n",
        "> - 현재 구현된 ResNet에서는 총 49개의 conv. layer와 1개의 FC layer로 모델이 구성된다. \n",
        "- 논문에서 볼 수 있었던 것처럼, residual learning을 통해 새로운 conv. layer들을 연결해도 gradient vanishing(미분되어 0으로 수렴) / exploding(미분을 거듭할수록 발산) 문제가 일어나지 않았고, degradation problem 역시 발생하지 않음을 확인할 수 있었다. 이를 통해 50개의 layer를 연결하여 training을 거듭할수록 성능이 향상되며 양호한 test accuracy를 내는 모델을 얻을 수 있었다. \n",
        "- 총 15번의 epoch마다 학습한 결과, Cross Entropy Loss로 구한 loss의 최소값은 0.009811549447476864, 최대 accuracy는 85.40%로 나타났다. \n",
        "- 전체 parameter의 수는 23506499개로, VGGNet의 33617987개와 비교했을 때 더 적은 수를 보인다. 그러나 epoch당 소요 시간은 VGGNet보다 더 길었는데, 이는 ResNet의 계층 깊이가 더 깊고, 따라서 backpropagation에 소요되는 시간 자체가 더 많이 소요되었기 때문이다. \n",
        "- 상대적으로 깊은 layer 깊이를 가짐에도 불구하고 성능이 좋게 나오지 못한 이유는, 각각의 layer들의 parameter들이 학습되는 데 epoch의 수가 충분하지 않았기 때문으로 볼 수 있다. Layer의 깊이가 더 깊기 때문에 weight들이 optimize 되는 데에는 더 많은 iteration이 필요하다. \n",
        "- 이렇게 생각할 수 있는 근거 중 하나로, 매 epoch를 거듭하면서 학습한 결과 15번째 epoch까지도 saturation이 일어나지 않았다는 것을 들 수 있다. Epoch 당 accuracy를 보면 72.7%부터 85.4%까지 꾸준히 성능이 향상되고 있음을 보인다. 이는 ResNet의 layer개수가 많고 깊이가 깊기 때문에 weight update가 더욱 작고 천천히 나타나기 때문이다. 따라서, 현재 얻은 accuracy는 unoptimized weight에 의한 것일 확률이 높고, 더 많은 epoch를 거쳐 training을 한다면 계속 optimize되어 saturation에 다다를 것이다. \n",
        "- 처음 epoch에서 학습한 weight을 가지고 accuracy를 측정했을 때 값이 상대적으로 작았는데(72.7% vs 83.16%), 이는 epoch마다 train iteration에서 일어나는 back propagation을 통해 weight들이 최적화되는 속도가 느리고 update되는 폭이 작기 때문이다. \n",
        "- 성능이 좋지 못한 또 하나의 이유는, ResNet을 통해 계층 깊이를 깊게 함으로써 얻을 수 있는 '더 넓은 receptive field를 두고, 더욱 다양한 feature를 학습할 수 있다'는 이점이 현재 사용한 32x32 데이터셋에는 적용될 수 없었기 때문이다. 애초에 32x32 이미지에서 feature 개수는 많지 않기 때문이다. 더 복잡한 분류 문제에서나 사이즈가 더 큰 이미지에서는 ResNet이 상대적으로 더 좋은 성능을 보였을 것이라 예상한다. \n"
      ],
      "metadata": {
        "id": "7usK3zxMwZPq"
      }
    },
    {
      "cell_type": "code",
      "execution_count": null,
      "metadata": {
        "colab": {
          "base_uri": "https://localhost:8080/"
        },
        "execution": {
          "iopub.execute_input": "2022-02-25T09:44:49.874164Z",
          "iopub.status.busy": "2022-02-25T09:44:49.873644Z",
          "iopub.status.idle": "2022-02-25T09:44:49.973560Z",
          "shell.execute_reply": "2022-02-25T09:44:49.972227Z",
          "shell.execute_reply.started": "2022-02-25T09:44:49.874109Z"
        },
        "id": "VL1pbTi2j9Zr",
        "outputId": "7a9b7e3c-b03d-4e6f-b03e-23aae0d8f396"
      },
      "outputs": [
        {
          "output_type": "stream",
          "name": "stdout",
          "text": [
            "This code is written at 2023-03-22 09:41:51.226577\n"
          ]
        }
      ],
      "source": [
        "import datetime\n",
        "print(\"This code is written at \" + str(datetime.datetime.now()))"
      ]
    },
    {
      "cell_type": "markdown",
      "metadata": {
        "id": "VpPLjwr8j9Zw"
      },
      "source": [
        "## 1. VGGNet with PyTorch"
      ]
    },
    {
      "cell_type": "markdown",
      "metadata": {
        "id": "IWeEYLiSj9Zx"
      },
      "source": [
        "### Implementing VGGNet\n",
        "\n",
        "> 1. **Dataset**\n",
        ">> - Images from the first three categories in CIFAR-10. (Due to the computational constraints.)  <br>\n",
        "     Three categories : plane, car, bird  /  The number of training images : 15,000   /  The number of test images : 3,000\n",
        ">> - Augmented with flipping and random cropping.\n",
        ">\n",
        "> 2. **Network architecture**\n",
        ">> - Type-D configuration in the paper (+ 3-way classifier after convolutional layers).\n",
        ">> - ReLU activation.\n",
        ">> - No dropout for simplicity.\n",
        ">> - We will apply **batch-normalization** after every convolution which is not used in the paper (otherwise, hard to optimize).\n",
        ">>\n",
        ">> <table><tr>\n",
        ">> <td> <img src=\"http://drive.google.com/uc?export=view&id=1jn7ICUJAcTF3WQ1XuUffOdmprgj4u1c3\" alt=\"no_image\" style=\"width: 550px;\"/> </td>\n",
        ">> <td> <img src=\"http://drive.google.com/uc?export=view&id=1Rz0iWW6VoLD_XGdRa3ofYyhCTTb6kR_k\" alt=\"no_image\" style=\"width: 250px;\"/> </td>\n",
        ">> </tr></table>\n",
        ">>\n",
        ">> <font size=\"0.5\"> Figure from <br>\n",
        ">> [1] https://www.quora.com/What-is-the-VGG-neural-network </font>\n",
        ">\n",
        "> 3. **Loss function**\n",
        ">> - Cross-entropy loss between outputs & ground-truths. <br>\n",
        "     Note that `nn.CrossEntroyLoss` takes logits before softmax as network outputs and scalar index (not one-hot vector) as ground-truths.<br>\n",
        "     See https://pytorch.org/docs/stable/nn.html#crossentropyloss for details.\n",
        ">\n",
        "> 4. **Training**\n",
        ">> - Default weight initialization for simplicity.\n",
        ">> - SGD optimizer with `learning rate = 1e-2`, `momentum = 0.9`, and `weight_decay = 5e-4`.\n",
        ">> - 20 epochs without learning rate scheduling.\n",
        ">\n",
        "> 5. **Evaluation metric**\n",
        ">> - Classification accuracy (i.e., the percentage of correct predictions).\n",
        ">\n",
        "> "
      ]
    },
    {
      "cell_type": "code",
      "execution_count": null,
      "metadata": {
        "execution": {
          "iopub.execute_input": "2022-02-25T09:44:50.978522Z",
          "iopub.status.busy": "2022-02-25T09:44:50.978032Z",
          "iopub.status.idle": "2022-02-25T09:45:04.679815Z",
          "shell.execute_reply": "2022-02-25T09:45:04.678372Z",
          "shell.execute_reply.started": "2022-02-25T09:44:50.978472Z"
        },
        "id": "LGgir5u7j9Zy"
      },
      "outputs": [],
      "source": [
        "import torch\n",
        "import torch.nn as nn\n",
        "import torch.optim as optim\n",
        "import torch.nn.functional as F\n",
        "import torchvision.transforms as transforms\n",
        "import torchvision.datasets as dsets \n",
        "import torchvision\n",
        "import time\n",
        "import os\n",
        "\n",
        "# os.environ[\"CUDA_VISIBLE_DEVICES\"]=\"0\""
      ]
    },
    {
      "cell_type": "code",
      "execution_count": null,
      "metadata": {
        "colab": {
          "base_uri": "https://localhost:8080/",
          "height": 103,
          "referenced_widgets": [
            "cc9a2c354a004a21b4cc5081f7659015",
            "65fc90aa98474a1f8908bd5ead41bcfd",
            "8b10843478d54e1bba0035c4ed7997d4",
            "6b350d3ea74b45d19abef5c60dd9558d",
            "d08fa87ff7ce4a189d990198dbdd57c7",
            "76efb5de043d4e1eac43e0f079d50771",
            "49ce614496874bf289a573d7ad7931b5",
            "27c90ed76814433ca1edb91ef73b1338",
            "9e76d61256c24abcb040ce66f64a8b8f",
            "984963096d044fbea23a1c7caaa43ff9",
            "79704994f497487aa285498e34a0e722"
          ]
        },
        "execution": {
          "iopub.execute_input": "2022-02-25T09:45:04.774519Z",
          "iopub.status.busy": "2022-02-25T09:45:04.774143Z",
          "iopub.status.idle": "2022-02-25T09:46:38.276105Z",
          "shell.execute_reply": "2022-02-25T09:46:38.274252Z",
          "shell.execute_reply.started": "2022-02-25T09:45:04.774475Z"
        },
        "id": "OwvpXFuaj9Z0",
        "outputId": "23c05b0c-dcdb-4367-95d0-d8a434dc388e"
      },
      "outputs": [
        {
          "output_type": "stream",
          "name": "stdout",
          "text": [
            "STEP 1: LOADING DATASET\n",
            "Downloading https://www.cs.toronto.edu/~kriz/cifar-10-python.tar.gz to ../dataset/lab03/cifar-10-python.tar.gz\n"
          ]
        },
        {
          "output_type": "display_data",
          "data": {
            "text/plain": [
              "  0%|          | 0/170498071 [00:00<?, ?it/s]"
            ],
            "application/vnd.jupyter.widget-view+json": {
              "version_major": 2,
              "version_minor": 0,
              "model_id": "cc9a2c354a004a21b4cc5081f7659015"
            }
          },
          "metadata": {}
        },
        {
          "output_type": "stream",
          "name": "stdout",
          "text": [
            "Extracting ../dataset/lab03/cifar-10-python.tar.gz to ../dataset/lab03\n"
          ]
        }
      ],
      "source": [
        "print('STEP 1: LOADING DATASET')\n",
        "\n",
        "transform_train = transforms.Compose([\n",
        "    transforms.RandomCrop(32, padding=4),\n",
        "    transforms.RandomHorizontalFlip(),\n",
        "    transforms.ToTensor(),\n",
        "    transforms.Normalize((0.4914, 0.4822, 0.4465), (0.2023, 0.1994, 0.2010)),\n",
        "])\n",
        "\n",
        "transform_test = transforms.Compose([\n",
        "    transforms.ToTensor(),\n",
        "    transforms.Normalize((0.4914, 0.4822, 0.4465), (0.2023, 0.1994, 0.2010)),\n",
        "])\n",
        "\n",
        "train_dataset = dsets.CIFAR10(root='../dataset/lab03', \n",
        "                            train=True, \n",
        "                            transform=transform_train,\n",
        "                            download=True)\n",
        "\n",
        "test_dataset = dsets.CIFAR10(root='../dataset/lab03', \n",
        "                           train=False, \n",
        "                           transform=transform_test)"
      ]
    },
    {
      "cell_type": "code",
      "execution_count": null,
      "metadata": {
        "execution": {
          "iopub.execute_input": "2022-02-25T09:46:38.574773Z",
          "iopub.status.busy": "2022-02-25T09:46:38.574244Z",
          "iopub.status.idle": "2022-02-25T09:51:22.080888Z",
          "shell.execute_reply": "2022-02-25T09:51:22.079134Z",
          "shell.execute_reply.started": "2022-02-25T09:46:38.574727Z"
        },
        "id": "DrK0ZHmLj9Z4"
      },
      "outputs": [],
      "source": [
        "# reducing the dataset\n",
        "reduced_train_dataset = []\n",
        "for images, labels in train_dataset:\n",
        "    if labels < 3:\n",
        "        reduced_train_dataset.append((images, labels))\n",
        "        \n",
        "reduced_test_dataset = []\n",
        "for images, labels in test_dataset:\n",
        "    if labels < 3:\n",
        "        reduced_test_dataset.append((images, labels))"
      ]
    },
    {
      "cell_type": "code",
      "source": [
        "print(reduced_test_dataset[0][0][0].shape)"
      ],
      "metadata": {
        "colab": {
          "base_uri": "https://localhost:8080/"
        },
        "id": "Nm3K17oySPCC",
        "outputId": "3365b43f-91e1-4cc4-b313-a8e71a877584"
      },
      "execution_count": null,
      "outputs": [
        {
          "output_type": "stream",
          "name": "stdout",
          "text": [
            "torch.Size([32, 32])\n"
          ]
        }
      ]
    },
    {
      "cell_type": "code",
      "execution_count": null,
      "metadata": {
        "id": "LWnYJ2cwj9Z6",
        "colab": {
          "base_uri": "https://localhost:8080/"
        },
        "outputId": "177bbe84-23fe-4112-d243-b51b4446fa09"
      },
      "outputs": [
        {
          "output_type": "stream",
          "name": "stdout",
          "text": [
            "The number of training images :  15000\n",
            "The number of test images :  3000\n"
          ]
        }
      ],
      "source": [
        "print(\"The number of training images : \", len(reduced_train_dataset))\n",
        "print(\"The number of test images : \", len(reduced_test_dataset))"
      ]
    },
    {
      "cell_type": "code",
      "execution_count": null,
      "metadata": {
        "colab": {
          "base_uri": "https://localhost:8080/"
        },
        "id": "WFq0isyCj9Z-",
        "outputId": "2f4e5791-7554-4626-becd-de778402ec89"
      },
      "outputs": [
        {
          "output_type": "stream",
          "name": "stdout",
          "text": [
            "STEP 2: MAKING DATASET ITERABLE\n"
          ]
        }
      ],
      "source": [
        "print('STEP 2: MAKING DATASET ITERABLE')\n",
        "\n",
        "train_loader = torch.utils.data.DataLoader(dataset=reduced_train_dataset, \n",
        "                                           batch_size=128, \n",
        "                                           shuffle=True)\n",
        "\n",
        "test_loader = torch.utils.data.DataLoader(dataset=reduced_test_dataset, \n",
        "                                          batch_size=100, \n",
        "                                          shuffle=False)\n",
        "\n",
        "class_names = ('plane', 'car', 'bird', 'cat', 'deer', 'dog', 'frog', 'horse', 'ship', 'truck')"
      ]
    },
    {
      "cell_type": "markdown",
      "metadata": {
        "id": "Wy7GW1lkj9aB"
      },
      "source": [
        "### Visualize a few images"
      ]
    },
    {
      "cell_type": "code",
      "execution_count": null,
      "metadata": {
        "id": "tJGv35Alj9aC"
      },
      "outputs": [],
      "source": [
        "import matplotlib.pyplot as plt\n",
        "%matplotlib inline  \n",
        "import numpy as np"
      ]
    },
    {
      "cell_type": "code",
      "execution_count": null,
      "metadata": {
        "id": "3PYou4Cuj9aE"
      },
      "outputs": [],
      "source": [
        "def imshow(inp, title=None):\n",
        "    \"\"\"Imshow for Tensor.\"\"\"\n",
        "    inp = inp.numpy().transpose((1, 2, 0))\n",
        "    mean = np.array([0.4914, 0.4822, 0.4465])\n",
        "    std = np.array([0.2023, 0.1994, 0.2010])\n",
        "    inp = std * inp + mean\n",
        "    inp = np.clip(inp, 0, 1)\n",
        "    plt.imshow(inp)\n",
        "    if title is not None:\n",
        "        plt.title(title)\n",
        "    plt.pause(0.001)  # pause a bit so that plots are updated"
      ]
    },
    {
      "cell_type": "code",
      "execution_count": null,
      "metadata": {
        "colab": {
          "base_uri": "https://localhost:8080/",
          "height": 151
        },
        "id": "jX59AE2pj9aH",
        "outputId": "9ca8df0a-cefc-4ea2-9813-590498b43c0b"
      },
      "outputs": [
        {
          "output_type": "display_data",
          "data": {
            "text/plain": [
              "<Figure size 432x288 with 1 Axes>"
            ],
            "image/png": "[encoded data removed]"
          },
          "metadata": {
            "needs_background": "light"
          }
        }
      ],
      "source": [
        "train_loader_sample = torch.utils.data.DataLoader(dataset=reduced_train_dataset, \n",
        "                                           batch_size=4, \n",
        "                                           shuffle=True)\n",
        "\n",
        "# Get a batch of training data\n",
        "inputs, classes = next(iter(train_loader_sample))\n",
        "\n",
        "# Make a grid from batch\n",
        "out = torchvision.utils.make_grid(inputs)\n",
        "\n",
        "imshow(out, title=[class_names[x] for x in classes])"
      ]
    },
    {
      "cell_type": "markdown",
      "metadata": {
        "id": "hzbc_fTrj9aM"
      },
      "source": [
        "### 1.1 Write code (VGG 16) [3 points]"
      ]
    },
    {
      "cell_type": "code",
      "execution_count": null,
      "metadata": {
        "colab": {
          "base_uri": "https://localhost:8080/"
        },
        "id": "gjeNHb89j9aN",
        "outputId": "0cc27975-0c25-4fc3-fe21-0fe5ebe83905"
      },
      "outputs": [
        {
          "output_type": "stream",
          "name": "stdout",
          "text": [
            "STEP 3: CREATE MODEL CLASS (VGG16)\n"
          ]
        }
      ],
      "source": [
        "print('STEP 3: CREATE MODEL CLASS (VGG16)')\n",
        "\n",
        "#############\n",
        "# CODE HERE #\n",
        "#############\n",
        "\n",
        "# basic configuration of convolutional layer(conv - BN - relu)\n",
        "class convBNrelu(nn.Module):\n",
        "  def __init__(self, in_ch, out_ch):\n",
        "    super(convBNrelu, self).__init__()\n",
        "    # using conv. layer that has kernel size of 3x3\n",
        "    self.conv = nn.Conv2d(in_ch, out_ch, kernel_size=3, padding=1, stride=1)\n",
        "    self.bn = nn.BatchNorm2d(out_ch)\n",
        "    self.relu = nn.ReLU()\n",
        "\n",
        "  # define forward propagation\n",
        "  def forward(self, x):\n",
        "    x = self.conv(x)\n",
        "    x = self.bn(x)\n",
        "    x = self.relu(x)\n",
        "    return x\n",
        "\n",
        "# VGG16 model by concatenating each conv. layer\n",
        "class VGG(nn.Module):\n",
        "  def __init__(self):\n",
        "    super(VGG, self).__init__()\n",
        "    self.conv1 = convBNrelu(3, 64)\n",
        "    self.conv2 = convBNrelu(64, 64)\n",
        "    self.conv3 = convBNrelu(64, 128)\n",
        "    self.conv4 = convBNrelu(128, 128)\n",
        "    self.conv5 = convBNrelu(128, 256)\n",
        "    self.conv6 = convBNrelu(256, 256)\n",
        "    self.conv7 = convBNrelu(256, 256)\n",
        "    self.conv8 = convBNrelu(256, 512)\n",
        "    self.conv9 = convBNrelu(512, 512)\n",
        "    self.conv10 = convBNrelu(512, 512)\n",
        "    self.conv11 = convBNrelu(512, 512)\n",
        "    self.conv12 = convBNrelu(512, 512)\n",
        "    self.conv13 = convBNrelu(512, 512)\n",
        "    self.maxpool = nn.MaxPool2d(2, stride=2)\n",
        "    self.relu = nn.ReLU()\n",
        "    self.linear1 = nn.Linear(1*1*512, 4096)\n",
        "    self.linear2 = nn.Linear(4096, 4096)\n",
        "    self.linear3 = nn.Linear(4096, 3)\n",
        "    # self.softmax = nn.Softmax()\n",
        "\n",
        "  # define forward propagation\n",
        "  def forward(self, x):\n",
        "    x = self.conv1(x)\n",
        "    x = self.conv2(x)\n",
        "    x = self.maxpool(x)\n",
        "\n",
        "    x = self.conv3(x)\n",
        "    x = self.conv4(x)\n",
        "    x = self.maxpool(x)\n",
        "\n",
        "    x = self.conv5(x)\n",
        "    x = self.conv6(x)\n",
        "    x = self.conv7(x)\n",
        "    x = self.maxpool(x)\n",
        "\n",
        "    x = self.conv8(x)\n",
        "    x = self.conv9(x)\n",
        "    x = self.conv10(x)\n",
        "    x = self.maxpool(x)\n",
        "\n",
        "    x = self.conv11(x)\n",
        "    x = self.conv12(x)\n",
        "    x = self.conv13(x)\n",
        "    x = self.maxpool(x)\n",
        "\n",
        "    # resize in order to match the input shape of FC layer\n",
        "    x = x.view(x.size(0), -1)\n",
        "\n",
        "    x = self.linear1(x)\n",
        "    x = self.relu(x)\n",
        "\n",
        "    x = self.linear2(x)\n",
        "    x = self.relu(x)\n",
        "\n",
        "    x = self.linear3(x)\n",
        "\n",
        "    return x"
      ]
    },
    {
      "cell_type": "code",
      "execution_count": null,
      "metadata": {
        "id": "iqoPZuR3j9aQ",
        "colab": {
          "base_uri": "https://localhost:8080/"
        },
        "outputId": "44dc9ef3-0863-4c2e-d2b4-d477d90f1bf8"
      },
      "outputs": [
        {
          "output_type": "stream",
          "name": "stdout",
          "text": [
            "STEP 4: INSTANTIATE MODEL CLASS\n",
            "The number of parameters :  33617987\n"
          ]
        },
        {
          "output_type": "execute_result",
          "data": {
            "text/plain": [
              "VGG(\n",
              "  (conv1): convBNrelu(\n",
              "    (conv): Conv2d(3, 64, kernel_size=(3, 3), stride=(1, 1), padding=(1, 1))\n",
              "    (bn): BatchNorm2d(64, eps=1e-05, momentum=0.1, affine=True, track_running_stats=True)\n",
              "    (relu): ReLU()\n",
              "  )\n",
              "  (conv2): convBNrelu(\n",
              "    (conv): Conv2d(64, 64, kernel_size=(3, 3), stride=(1, 1), padding=(1, 1))\n",
              "    (bn): BatchNorm2d(64, eps=1e-05, momentum=0.1, affine=True, track_running_stats=True)\n",
              "    (relu): ReLU()\n",
              "  )\n",
              "  (conv3): convBNrelu(\n",
              "    (conv): Conv2d(64, 128, kernel_size=(3, 3), stride=(1, 1), padding=(1, 1))\n",
              "    (bn): BatchNorm2d(128, eps=1e-05, momentum=0.1, affine=True, track_running_stats=True)\n",
              "    (relu): ReLU()\n",
              "  )\n",
              "  (conv4): convBNrelu(\n",
              "    (conv): Conv2d(128, 128, kernel_size=(3, 3), stride=(1, 1), padding=(1, 1))\n",
              "    (bn): BatchNorm2d(128, eps=1e-05, momentum=0.1, affine=True, track_running_stats=True)\n",
              "    (relu): ReLU()\n",
              "  )\n",
              "  (conv5): convBNrelu(\n",
              "    (conv): Conv2d(128, 256, kernel_size=(3, 3), stride=(1, 1), padding=(1, 1))\n",
              "    (bn): BatchNorm2d(256, eps=1e-05, momentum=0.1, affine=True, track_running_stats=True)\n",
              "    (relu): ReLU()\n",
              "  )\n",
              "  (conv6): convBNrelu(\n",
              "    (conv): Conv2d(256, 256, kernel_size=(3, 3), stride=(1, 1), padding=(1, 1))\n",
              "    (bn): BatchNorm2d(256, eps=1e-05, momentum=0.1, affine=True, track_running_stats=True)\n",
              "    (relu): ReLU()\n",
              "  )\n",
              "  (conv7): convBNrelu(\n",
              "    (conv): Conv2d(256, 256, kernel_size=(3, 3), stride=(1, 1), padding=(1, 1))\n",
              "    (bn): BatchNorm2d(256, eps=1e-05, momentum=0.1, affine=True, track_running_stats=True)\n",
              "    (relu): ReLU()\n",
              "  )\n",
              "  (conv8): convBNrelu(\n",
              "    (conv): Conv2d(256, 512, kernel_size=(3, 3), stride=(1, 1), padding=(1, 1))\n",
              "    (bn): BatchNorm2d(512, eps=1e-05, momentum=0.1, affine=True, track_running_stats=True)\n",
              "    (relu): ReLU()\n",
              "  )\n",
              "  (conv9): convBNrelu(\n",
              "    (conv): Conv2d(512, 512, kernel_size=(3, 3), stride=(1, 1), padding=(1, 1))\n",
              "    (bn): BatchNorm2d(512, eps=1e-05, momentum=0.1, affine=True, track_running_stats=True)\n",
              "    (relu): ReLU()\n",
              "  )\n",
              "  (conv10): convBNrelu(\n",
              "    (conv): Conv2d(512, 512, kernel_size=(3, 3), stride=(1, 1), padding=(1, 1))\n",
              "    (bn): BatchNorm2d(512, eps=1e-05, momentum=0.1, affine=True, track_running_stats=True)\n",
              "    (relu): ReLU()\n",
              "  )\n",
              "  (conv11): convBNrelu(\n",
              "    (conv): Conv2d(512, 512, kernel_size=(3, 3), stride=(1, 1), padding=(1, 1))\n",
              "    (bn): BatchNorm2d(512, eps=1e-05, momentum=0.1, affine=True, track_running_stats=True)\n",
              "    (relu): ReLU()\n",
              "  )\n",
              "  (conv12): convBNrelu(\n",
              "    (conv): Conv2d(512, 512, kernel_size=(3, 3), stride=(1, 1), padding=(1, 1))\n",
              "    (bn): BatchNorm2d(512, eps=1e-05, momentum=0.1, affine=True, track_running_stats=True)\n",
              "    (relu): ReLU()\n",
              "  )\n",
              "  (conv13): convBNrelu(\n",
              "    (conv): Conv2d(512, 512, kernel_size=(3, 3), stride=(1, 1), padding=(1, 1))\n",
              "    (bn): BatchNorm2d(512, eps=1e-05, momentum=0.1, affine=True, track_running_stats=True)\n",
              "    (relu): ReLU()\n",
              "  )\n",
              "  (maxpool): MaxPool2d(kernel_size=2, stride=2, padding=0, dilation=1, ceil_mode=False)\n",
              "  (relu): ReLU()\n",
              "  (linear1): Linear(in_features=512, out_features=4096, bias=True)\n",
              "  (linear2): Linear(in_features=4096, out_features=4096, bias=True)\n",
              "  (linear3): Linear(in_features=4096, out_features=3, bias=True)\n",
              ")"
            ]
          },
          "metadata": {},
          "execution_count": 12
        }
      ],
      "source": [
        "print('STEP 4: INSTANTIATE MODEL CLASS')\n",
        "\n",
        "\n",
        "model = VGG()\n",
        "num_total_params = sum(p.numel() for p in model.parameters())\n",
        "print(\"The number of parameters : \", num_total_params)\n",
        "#######################\n",
        "#  USE GPU FOR MODEL  #\n",
        "#######################\n",
        "\n",
        "device = torch.device(\"cuda:0\" if torch.cuda.is_available() else \"cpu\")\n",
        "model.to(device)"
      ]
    },
    {
      "cell_type": "code",
      "execution_count": null,
      "metadata": {
        "colab": {
          "base_uri": "https://localhost:8080/"
        },
        "id": "mFeamtXXj9aT",
        "outputId": "4836fd2d-821a-4d42-a43c-90545909aa9a"
      },
      "outputs": [
        {
          "output_type": "stream",
          "name": "stdout",
          "text": [
            "STEP 5: INSTANTIATE LOSS CLASS\n",
            "STEP 6: INSTANTIATE OPTIMIZER CLASS\n"
          ]
        }
      ],
      "source": [
        "print('STEP 5: INSTANTIATE LOSS CLASS')\n",
        "\n",
        "criterion = nn.CrossEntropyLoss()\n",
        "\n",
        "print('STEP 6: INSTANTIATE OPTIMIZER CLASS')\n",
        "\n",
        "learning_rate = 1e-2\n",
        "momentum = 0.9\n",
        "weight_decay = 5e-4\n",
        "\n",
        "optimizer = torch.optim.SGD(model.parameters(), lr=learning_rate, momentum = momentum, weight_decay = weight_decay)"
      ]
    },
    {
      "cell_type": "markdown",
      "metadata": {
        "id": "PaWErvoRj9aY"
      },
      "source": [
        "### 1.2 Train the VGG 16 model and print test accuracy for every epochs [2 points]"
      ]
    },
    {
      "cell_type": "code",
      "source": [
        "import time\n",
        "\n",
        "print('STEP 7: TRAIN THE MODEL')\n",
        "num_epochs = 20\n",
        "\n",
        "#############\n",
        "# CODE HERE #\n",
        "#############\n",
        "\n",
        "iter = 0\n",
        "for epochs in range(num_epochs):\n",
        "  start_time = time.time()\n",
        "  correct = 0\n",
        "  total = 0\n",
        "  for i, (images, labels) in enumerate(train_loader):\n",
        "    # use GPU for images, labels\n",
        "    x = images.to(device)\n",
        "    y = labels.to(device)\n",
        "    # clear gradients with respect to parameters\n",
        "    optimizer.zero_grad()\n",
        "    # forward propagation of model\n",
        "    outputs = model(x)\n",
        "    # evaluating loss by CELoss function\n",
        "    loss = criterion(outputs, y)\n",
        "    # get gradients with respect to parameters\n",
        "    loss.backward()\n",
        "    # update parameters\n",
        "    optimizer.step()\n",
        "    iter += 1\n",
        "  for images, labels in test_loader:\n",
        "    # use GPU for images, labels\n",
        "    x = images.to(device)\n",
        "    y = labels.to(device)\n",
        "    # forward propagation of model\n",
        "    outputs = model(x)\n",
        "    # get prediction \n",
        "    _, predicted = torch.max(outputs.data, 1)\n",
        "    # Total number of labels\n",
        "    total += y.size(0)\n",
        "\n",
        "  # calculating the test accuracy for every epoch\n",
        "    if torch.cuda.is_available():\n",
        "      correct += (predicted.cpu() == y.cpu()).sum()\n",
        "    else:\n",
        "      correct += (predicted == y).sum()\n",
        "  acc = correct.item() / total * 100\n",
        "  \n",
        "  end_time = time.time()\n",
        "  print(f'Epochs: {epochs}. Loss: {loss.item()}. Accuracy: {acc}%. Elapsed time: {end_time - start_time} sec')"
      ],
      "metadata": {
        "colab": {
          "base_uri": "https://localhost:8080/"
        },
        "id": "FirAamF66-SJ",
        "outputId": "96bcc169-6800-482a-b608-5f8af3526787"
      },
      "execution_count": null,
      "outputs": [
        {
          "output_type": "stream",
          "name": "stdout",
          "text": [
            "STEP 7: TRAIN THE MODEL\n",
            "Epochs: 0. Loss: 0.29931196570396423. Accuracy: 83.16666666666667%. Elapsed time: 14.683469295501709 sec\n",
            "Epochs: 1. Loss: 0.21983899176120758. Accuracy: 87.43333333333332%. Elapsed time: 7.92712664604187 sec\n",
            "Epochs: 2. Loss: 0.41874396800994873. Accuracy: 89.53333333333333%. Elapsed time: 7.972936630249023 sec\n",
            "Epochs: 3. Loss: 0.08389822393655777. Accuracy: 89.06666666666668%. Elapsed time: 8.016444683074951 sec\n",
            "Epochs: 4. Loss: 0.14379319548606873. Accuracy: 90.76666666666667%. Elapsed time: 8.057169675827026 sec\n",
            "Epochs: 5. Loss: 0.37026992440223694. Accuracy: 88.43333333333334%. Elapsed time: 8.131429195404053 sec\n",
            "Epochs: 6. Loss: 0.12070580571889877. Accuracy: 91.06666666666666%. Elapsed time: 8.11867356300354 sec\n",
            "Epochs: 7. Loss: 0.04987487196922302. Accuracy: 90.9%. Elapsed time: 8.153318166732788 sec\n",
            "Epochs: 8. Loss: 0.3299599587917328. Accuracy: 90.7%. Elapsed time: 8.178426027297974 sec\n",
            "Epochs: 9. Loss: 0.2803879678249359. Accuracy: 91.36666666666666%. Elapsed time: 8.213037967681885 sec\n",
            "Epochs: 10. Loss: 0.0334489643573761. Accuracy: 92.66666666666666%. Elapsed time: 8.248221397399902 sec\n",
            "Epochs: 11. Loss: 0.016670256853103638. Accuracy: 93.0%. Elapsed time: 8.276146411895752 sec\n",
            "Epochs: 12. Loss: 0.17009304463863373. Accuracy: 91.93333333333334%. Elapsed time: 8.325021028518677 sec\n",
            "Epochs: 13. Loss: 0.012138969264924526. Accuracy: 91.93333333333334%. Elapsed time: 8.33836054801941 sec\n",
            "Epochs: 14. Loss: 0.005514029413461685. Accuracy: 92.53333333333333%. Elapsed time: 8.361225843429565 sec\n",
            "Epochs: 15. Loss: 0.003294143592938781. Accuracy: 92.60000000000001%. Elapsed time: 8.54021692276001 sec\n",
            "Epochs: 16. Loss: 0.00041532100294716656. Accuracy: 92.56666666666666%. Elapsed time: 8.56628942489624 sec\n",
            "Epochs: 17. Loss: 0.0012762428959831595. Accuracy: 92.56666666666666%. Elapsed time: 8.605815887451172 sec\n",
            "Epochs: 18. Loss: 0.00593980960547924. Accuracy: 92.86666666666666%. Elapsed time: 8.554760456085205 sec\n",
            "Epochs: 19. Loss: 0.20797787606716156. Accuracy: 92.06666666666666%. Elapsed time: 8.494128227233887 sec\n"
          ]
        }
      ]
    },
    {
      "cell_type": "markdown",
      "metadata": {
        "id": "Tb-Zo5yOj9ac"
      },
      "source": [
        "## 2. ResNet with PyTorch"
      ]
    },
    {
      "cell_type": "markdown",
      "metadata": {
        "id": "MQeESvzij9ad"
      },
      "source": [
        "### Implementing ResNet\n",
        "\n",
        "> 1. **Dataset**\n",
        ">> - The same dataset used for VGGNet\n",
        ">\n",
        "> 2. **Network architecture**\n",
        ">> - 50-layer ResNet with **bottleneck blocks**. <br>\n",
        "     Note. The initial convolution layer (i.e., conv1) is different from the one in the paper &<br>\n",
        "     the initial max-pooling layer is removed (because the size of CIFAR-10 images is too small).\n",
        ">> - ReLU activation.\n",
        ">> - Strided convolution for down-sampling instead of max-pooling layer. <br>\n",
        "     Note. Once down-sampled, a $1\\times1$ convolution/stride 2 is applied to residual for expanding the channel of the residual.\n",
        ">> - No dropout for simplicity.\n",
        ">> - Batch-normalization after every convolution.\n",
        ">>\n",
        ">>\n",
        ">> <table><tr>\n",
        ">> <td> <img src=\"http://drive.google.com/uc?export=view&id=1l3rC40WnBXZBagFIuME48SPvcqVY-56Y\" alt=\"no_image\" style=\"width: 500px;\"/> </td>\n",
        ">> <td> <img src=\"http://drive.google.com/uc?export=view&id=1r92UcNqn6ZT5pOk3emEijjTKlWdAYvCk\" alt=\"no_image\" style=\"width: 300px;\"/> </td>\n",
        ">> </tr></table>\n",
        ">>\n",
        ">> <img src=\"http://drive.google.com/uc?export=view&id=1n0NYyWWbDBd9PHjNEs7AHpOhMci5q6qk\" alt=\"no_image\" style=\"width: 870px;\"/>\n",
        ">>\n",
        ">> <font size=\"0.5\"> Figures from <br> \n",
        ">> [1] https://www.codeproject.com/Articles/1248963/Deep-Learning-using-Python-plus-Keras-Chapter-Re  <br> \n",
        ">> [2] Rezende et al., *Signal Processing: Image Communication*, 2018. </font>\n",
        ">\n",
        "> 3. **Loss function**\n",
        ">> - Cross-entropy loss between outputs & ground-truths. <br>\n",
        ">\n",
        "> 4. **Training**\n",
        ">> - Default weight initialization for simplicity.\n",
        ">> - SGD optimizer with `learning rate = 1e-2`, `momentum = 0.9`, and `weight_decay = 5e-4`.\n",
        ">> - 15 epochs without learning rate scheduling.\n",
        ">\n",
        "> 5. **Evaluation metric**\n",
        ">> - Classification accuracy (i.e., the percentage of correct predictions).\n",
        ">\n",
        "> "
      ]
    },
    {
      "cell_type": "markdown",
      "metadata": {
        "id": "j-guPbqGj9ae"
      },
      "source": [
        "### 2.1 Implement ResNet50 and train it with the CIFAR 10 dataset [4 points] "
      ]
    },
    {
      "cell_type": "code",
      "execution_count": null,
      "metadata": {
        "id": "21UwX-8Kj9af",
        "colab": {
          "base_uri": "https://localhost:8080/"
        },
        "outputId": "1f42b447-91d8-4e46-8b42-ad517723023e"
      },
      "outputs": [
        {
          "output_type": "stream",
          "name": "stdout",
          "text": [
            "STEP 3: CREATE MODEL CLASS (ResNet-50)\n",
            "STEP 4: INSTANTIATE MODEL CLASS\n",
            "The number of parameters :  23506499\n"
          ]
        },
        {
          "output_type": "execute_result",
          "data": {
            "text/plain": [
              "ResNet50(\n",
              "  (conv1): Sequential(\n",
              "    (0): Conv2d(3, 64, kernel_size=(3, 3), stride=(1, 1), padding=(1, 1), bias=False)\n",
              "    (1): BatchNorm2d(64, eps=1e-05, momentum=0.1, affine=True, track_running_stats=True)\n",
              "    (2): ReLU()\n",
              "  )\n",
              "  (conv2_x): Sequential(\n",
              "    (0): BottleneckBlock(\n",
              "      (residual): Sequential(\n",
              "        (0): Conv2d(64, 64, kernel_size=(1, 1), stride=(1, 1), bias=False)\n",
              "        (1): BatchNorm2d(64, eps=1e-05, momentum=0.1, affine=True, track_running_stats=True)\n",
              "        (2): ReLU()\n",
              "        (3): Conv2d(64, 64, kernel_size=(3, 3), stride=(1, 1), padding=(1, 1), bias=False)\n",
              "        (4): BatchNorm2d(64, eps=1e-05, momentum=0.1, affine=True, track_running_stats=True)\n",
              "        (5): ReLU()\n",
              "        (6): Conv2d(64, 256, kernel_size=(1, 1), stride=(1, 1), bias=False)\n",
              "        (7): BatchNorm2d(256, eps=1e-05, momentum=0.1, affine=True, track_running_stats=True)\n",
              "      )\n",
              "      (shortcut): Sequential(\n",
              "        (0): Conv2d(64, 256, kernel_size=(1, 1), stride=(1, 1), bias=False)\n",
              "        (1): BatchNorm2d(256, eps=1e-05, momentum=0.1, affine=True, track_running_stats=True)\n",
              "      )\n",
              "      (relu): ReLU()\n",
              "    )\n",
              "    (1): BottleneckBlock(\n",
              "      (residual): Sequential(\n",
              "        (0): Conv2d(256, 64, kernel_size=(1, 1), stride=(1, 1), bias=False)\n",
              "        (1): BatchNorm2d(64, eps=1e-05, momentum=0.1, affine=True, track_running_stats=True)\n",
              "        (2): ReLU()\n",
              "        (3): Conv2d(64, 64, kernel_size=(3, 3), stride=(1, 1), padding=(1, 1), bias=False)\n",
              "        (4): BatchNorm2d(64, eps=1e-05, momentum=0.1, affine=True, track_running_stats=True)\n",
              "        (5): ReLU()\n",
              "        (6): Conv2d(64, 256, kernel_size=(1, 1), stride=(1, 1), bias=False)\n",
              "        (7): BatchNorm2d(256, eps=1e-05, momentum=0.1, affine=True, track_running_stats=True)\n",
              "      )\n",
              "      (shortcut): Sequential()\n",
              "      (relu): ReLU()\n",
              "    )\n",
              "    (2): BottleneckBlock(\n",
              "      (residual): Sequential(\n",
              "        (0): Conv2d(256, 64, kernel_size=(1, 1), stride=(1, 1), bias=False)\n",
              "        (1): BatchNorm2d(64, eps=1e-05, momentum=0.1, affine=True, track_running_stats=True)\n",
              "        (2): ReLU()\n",
              "        (3): Conv2d(64, 64, kernel_size=(3, 3), stride=(1, 1), padding=(1, 1), bias=False)\n",
              "        (4): BatchNorm2d(64, eps=1e-05, momentum=0.1, affine=True, track_running_stats=True)\n",
              "        (5): ReLU()\n",
              "        (6): Conv2d(64, 256, kernel_size=(1, 1), stride=(1, 1), bias=False)\n",
              "        (7): BatchNorm2d(256, eps=1e-05, momentum=0.1, affine=True, track_running_stats=True)\n",
              "      )\n",
              "      (shortcut): Sequential()\n",
              "      (relu): ReLU()\n",
              "    )\n",
              "  )\n",
              "  (conv3_x): Sequential(\n",
              "    (0): BottleneckBlock(\n",
              "      (residual): Sequential(\n",
              "        (0): Conv2d(256, 128, kernel_size=(1, 1), stride=(2, 2), bias=False)\n",
              "        (1): BatchNorm2d(128, eps=1e-05, momentum=0.1, affine=True, track_running_stats=True)\n",
              "        (2): ReLU()\n",
              "        (3): Conv2d(128, 128, kernel_size=(3, 3), stride=(1, 1), padding=(1, 1), bias=False)\n",
              "        (4): BatchNorm2d(128, eps=1e-05, momentum=0.1, affine=True, track_running_stats=True)\n",
              "        (5): ReLU()\n",
              "        (6): Conv2d(128, 512, kernel_size=(1, 1), stride=(1, 1), bias=False)\n",
              "        (7): BatchNorm2d(512, eps=1e-05, momentum=0.1, affine=True, track_running_stats=True)\n",
              "      )\n",
              "      (shortcut): Sequential(\n",
              "        (0): Conv2d(256, 512, kernel_size=(1, 1), stride=(2, 2), bias=False)\n",
              "        (1): BatchNorm2d(512, eps=1e-05, momentum=0.1, affine=True, track_running_stats=True)\n",
              "      )\n",
              "      (relu): ReLU()\n",
              "    )\n",
              "    (1): BottleneckBlock(\n",
              "      (residual): Sequential(\n",
              "        (0): Conv2d(512, 128, kernel_size=(1, 1), stride=(1, 1), bias=False)\n",
              "        (1): BatchNorm2d(128, eps=1e-05, momentum=0.1, affine=True, track_running_stats=True)\n",
              "        (2): ReLU()\n",
              "        (3): Conv2d(128, 128, kernel_size=(3, 3), stride=(1, 1), padding=(1, 1), bias=False)\n",
              "        (4): BatchNorm2d(128, eps=1e-05, momentum=0.1, affine=True, track_running_stats=True)\n",
              "        (5): ReLU()\n",
              "        (6): Conv2d(128, 512, kernel_size=(1, 1), stride=(1, 1), bias=False)\n",
              "        (7): BatchNorm2d(512, eps=1e-05, momentum=0.1, affine=True, track_running_stats=True)\n",
              "      )\n",
              "      (shortcut): Sequential()\n",
              "      (relu): ReLU()\n",
              "    )\n",
              "    (2): BottleneckBlock(\n",
              "      (residual): Sequential(\n",
              "        (0): Conv2d(512, 128, kernel_size=(1, 1), stride=(1, 1), bias=False)\n",
              "        (1): BatchNorm2d(128, eps=1e-05, momentum=0.1, affine=True, track_running_stats=True)\n",
              "        (2): ReLU()\n",
              "        (3): Conv2d(128, 128, kernel_size=(3, 3), stride=(1, 1), padding=(1, 1), bias=False)\n",
              "        (4): BatchNorm2d(128, eps=1e-05, momentum=0.1, affine=True, track_running_stats=True)\n",
              "        (5): ReLU()\n",
              "        (6): Conv2d(128, 512, kernel_size=(1, 1), stride=(1, 1), bias=False)\n",
              "        (7): BatchNorm2d(512, eps=1e-05, momentum=0.1, affine=True, track_running_stats=True)\n",
              "      )\n",
              "      (shortcut): Sequential()\n",
              "      (relu): ReLU()\n",
              "    )\n",
              "    (3): BottleneckBlock(\n",
              "      (residual): Sequential(\n",
              "        (0): Conv2d(512, 128, kernel_size=(1, 1), stride=(1, 1), bias=False)\n",
              "        (1): BatchNorm2d(128, eps=1e-05, momentum=0.1, affine=True, track_running_stats=True)\n",
              "        (2): ReLU()\n",
              "        (3): Conv2d(128, 128, kernel_size=(3, 3), stride=(1, 1), padding=(1, 1), bias=False)\n",
              "        (4): BatchNorm2d(128, eps=1e-05, momentum=0.1, affine=True, track_running_stats=True)\n",
              "        (5): ReLU()\n",
              "        (6): Conv2d(128, 512, kernel_size=(1, 1), stride=(1, 1), bias=False)\n",
              "        (7): BatchNorm2d(512, eps=1e-05, momentum=0.1, affine=True, track_running_stats=True)\n",
              "      )\n",
              "      (shortcut): Sequential()\n",
              "      (relu): ReLU()\n",
              "    )\n",
              "  )\n",
              "  (conv4_x): Sequential(\n",
              "    (0): BottleneckBlock(\n",
              "      (residual): Sequential(\n",
              "        (0): Conv2d(512, 256, kernel_size=(1, 1), stride=(2, 2), bias=False)\n",
              "        (1): BatchNorm2d(256, eps=1e-05, momentum=0.1, affine=True, track_running_stats=True)\n",
              "        (2): ReLU()\n",
              "        (3): Conv2d(256, 256, kernel_size=(3, 3), stride=(1, 1), padding=(1, 1), bias=False)\n",
              "        (4): BatchNorm2d(256, eps=1e-05, momentum=0.1, affine=True, track_running_stats=True)\n",
              "        (5): ReLU()\n",
              "        (6): Conv2d(256, 1024, kernel_size=(1, 1), stride=(1, 1), bias=False)\n",
              "        (7): BatchNorm2d(1024, eps=1e-05, momentum=0.1, affine=True, track_running_stats=True)\n",
              "      )\n",
              "      (shortcut): Sequential(\n",
              "        (0): Conv2d(512, 1024, kernel_size=(1, 1), stride=(2, 2), bias=False)\n",
              "        (1): BatchNorm2d(1024, eps=1e-05, momentum=0.1, affine=True, track_running_stats=True)\n",
              "      )\n",
              "      (relu): ReLU()\n",
              "    )\n",
              "    (1): BottleneckBlock(\n",
              "      (residual): Sequential(\n",
              "        (0): Conv2d(1024, 256, kernel_size=(1, 1), stride=(1, 1), bias=False)\n",
              "        (1): BatchNorm2d(256, eps=1e-05, momentum=0.1, affine=True, track_running_stats=True)\n",
              "        (2): ReLU()\n",
              "        (3): Conv2d(256, 256, kernel_size=(3, 3), stride=(1, 1), padding=(1, 1), bias=False)\n",
              "        (4): BatchNorm2d(256, eps=1e-05, momentum=0.1, affine=True, track_running_stats=True)\n",
              "        (5): ReLU()\n",
              "        (6): Conv2d(256, 1024, kernel_size=(1, 1), stride=(1, 1), bias=False)\n",
              "        (7): BatchNorm2d(1024, eps=1e-05, momentum=0.1, affine=True, track_running_stats=True)\n",
              "      )\n",
              "      (shortcut): Sequential()\n",
              "      (relu): ReLU()\n",
              "    )\n",
              "    (2): BottleneckBlock(\n",
              "      (residual): Sequential(\n",
              "        (0): Conv2d(1024, 256, kernel_size=(1, 1), stride=(1, 1), bias=False)\n",
              "        (1): BatchNorm2d(256, eps=1e-05, momentum=0.1, affine=True, track_running_stats=True)\n",
              "        (2): ReLU()\n",
              "        (3): Conv2d(256, 256, kernel_size=(3, 3), stride=(1, 1), padding=(1, 1), bias=False)\n",
              "        (4): BatchNorm2d(256, eps=1e-05, momentum=0.1, affine=True, track_running_stats=True)\n",
              "        (5): ReLU()\n",
              "        (6): Conv2d(256, 1024, kernel_size=(1, 1), stride=(1, 1), bias=False)\n",
              "        (7): BatchNorm2d(1024, eps=1e-05, momentum=0.1, affine=True, track_running_stats=True)\n",
              "      )\n",
              "      (shortcut): Sequential()\n",
              "      (relu): ReLU()\n",
              "    )\n",
              "    (3): BottleneckBlock(\n",
              "      (residual): Sequential(\n",
              "        (0): Conv2d(1024, 256, kernel_size=(1, 1), stride=(1, 1), bias=False)\n",
              "        (1): BatchNorm2d(256, eps=1e-05, momentum=0.1, affine=True, track_running_stats=True)\n",
              "        (2): ReLU()\n",
              "        (3): Conv2d(256, 256, kernel_size=(3, 3), stride=(1, 1), padding=(1, 1), bias=False)\n",
              "        (4): BatchNorm2d(256, eps=1e-05, momentum=0.1, affine=True, track_running_stats=True)\n",
              "        (5): ReLU()\n",
              "        (6): Conv2d(256, 1024, kernel_size=(1, 1), stride=(1, 1), bias=False)\n",
              "        (7): BatchNorm2d(1024, eps=1e-05, momentum=0.1, affine=True, track_running_stats=True)\n",
              "      )\n",
              "      (shortcut): Sequential()\n",
              "      (relu): ReLU()\n",
              "    )\n",
              "    (4): BottleneckBlock(\n",
              "      (residual): Sequential(\n",
              "        (0): Conv2d(1024, 256, kernel_size=(1, 1), stride=(1, 1), bias=False)\n",
              "        (1): BatchNorm2d(256, eps=1e-05, momentum=0.1, affine=True, track_running_stats=True)\n",
              "        (2): ReLU()\n",
              "        (3): Conv2d(256, 256, kernel_size=(3, 3), stride=(1, 1), padding=(1, 1), bias=False)\n",
              "        (4): BatchNorm2d(256, eps=1e-05, momentum=0.1, affine=True, track_running_stats=True)\n",
              "        (5): ReLU()\n",
              "        (6): Conv2d(256, 1024, kernel_size=(1, 1), stride=(1, 1), bias=False)\n",
              "        (7): BatchNorm2d(1024, eps=1e-05, momentum=0.1, affine=True, track_running_stats=True)\n",
              "      )\n",
              "      (shortcut): Sequential()\n",
              "      (relu): ReLU()\n",
              "    )\n",
              "    (5): BottleneckBlock(\n",
              "      (residual): Sequential(\n",
              "        (0): Conv2d(1024, 256, kernel_size=(1, 1), stride=(1, 1), bias=False)\n",
              "        (1): BatchNorm2d(256, eps=1e-05, momentum=0.1, affine=True, track_running_stats=True)\n",
              "        (2): ReLU()\n",
              "        (3): Conv2d(256, 256, kernel_size=(3, 3), stride=(1, 1), padding=(1, 1), bias=False)\n",
              "        (4): BatchNorm2d(256, eps=1e-05, momentum=0.1, affine=True, track_running_stats=True)\n",
              "        (5): ReLU()\n",
              "        (6): Conv2d(256, 1024, kernel_size=(1, 1), stride=(1, 1), bias=False)\n",
              "        (7): BatchNorm2d(1024, eps=1e-05, momentum=0.1, affine=True, track_running_stats=True)\n",
              "      )\n",
              "      (shortcut): Sequential()\n",
              "      (relu): ReLU()\n",
              "    )\n",
              "  )\n",
              "  (conv5_x): Sequential(\n",
              "    (0): BottleneckBlock(\n",
              "      (residual): Sequential(\n",
              "        (0): Conv2d(1024, 512, kernel_size=(1, 1), stride=(2, 2), bias=False)\n",
              "        (1): BatchNorm2d(512, eps=1e-05, momentum=0.1, affine=True, track_running_stats=True)\n",
              "        (2): ReLU()\n",
              "        (3): Conv2d(512, 512, kernel_size=(3, 3), stride=(1, 1), padding=(1, 1), bias=False)\n",
              "        (4): BatchNorm2d(512, eps=1e-05, momentum=0.1, affine=True, track_running_stats=True)\n",
              "        (5): ReLU()\n",
              "        (6): Conv2d(512, 2048, kernel_size=(1, 1), stride=(1, 1), bias=False)\n",
              "        (7): BatchNorm2d(2048, eps=1e-05, momentum=0.1, affine=True, track_running_stats=True)\n",
              "      )\n",
              "      (shortcut): Sequential(\n",
              "        (0): Conv2d(1024, 2048, kernel_size=(1, 1), stride=(2, 2), bias=False)\n",
              "        (1): BatchNorm2d(2048, eps=1e-05, momentum=0.1, affine=True, track_running_stats=True)\n",
              "      )\n",
              "      (relu): ReLU()\n",
              "    )\n",
              "    (1): BottleneckBlock(\n",
              "      (residual): Sequential(\n",
              "        (0): Conv2d(2048, 512, kernel_size=(1, 1), stride=(1, 1), bias=False)\n",
              "        (1): BatchNorm2d(512, eps=1e-05, momentum=0.1, affine=True, track_running_stats=True)\n",
              "        (2): ReLU()\n",
              "        (3): Conv2d(512, 512, kernel_size=(3, 3), stride=(1, 1), padding=(1, 1), bias=False)\n",
              "        (4): BatchNorm2d(512, eps=1e-05, momentum=0.1, affine=True, track_running_stats=True)\n",
              "        (5): ReLU()\n",
              "        (6): Conv2d(512, 2048, kernel_size=(1, 1), stride=(1, 1), bias=False)\n",
              "        (7): BatchNorm2d(2048, eps=1e-05, momentum=0.1, affine=True, track_running_stats=True)\n",
              "      )\n",
              "      (shortcut): Sequential()\n",
              "      (relu): ReLU()\n",
              "    )\n",
              "    (2): BottleneckBlock(\n",
              "      (residual): Sequential(\n",
              "        (0): Conv2d(2048, 512, kernel_size=(1, 1), stride=(1, 1), bias=False)\n",
              "        (1): BatchNorm2d(512, eps=1e-05, momentum=0.1, affine=True, track_running_stats=True)\n",
              "        (2): ReLU()\n",
              "        (3): Conv2d(512, 512, kernel_size=(3, 3), stride=(1, 1), padding=(1, 1), bias=False)\n",
              "        (4): BatchNorm2d(512, eps=1e-05, momentum=0.1, affine=True, track_running_stats=True)\n",
              "        (5): ReLU()\n",
              "        (6): Conv2d(512, 2048, kernel_size=(1, 1), stride=(1, 1), bias=False)\n",
              "        (7): BatchNorm2d(2048, eps=1e-05, momentum=0.1, affine=True, track_running_stats=True)\n",
              "      )\n",
              "      (shortcut): Sequential()\n",
              "      (relu): ReLU()\n",
              "    )\n",
              "  )\n",
              "  (avgpool): AdaptiveAvgPool2d(output_size=(1, 1))\n",
              "  (linear): Linear(in_features=2048, out_features=3, bias=True)\n",
              ")"
            ]
          },
          "metadata": {},
          "execution_count": 15
        }
      ],
      "source": [
        "print('STEP 3: CREATE MODEL CLASS (ResNet-50)')\n",
        "#############\n",
        "# CODE HERE #\n",
        "#############\n",
        "\n",
        "# implement the single bottleneck block\n",
        "class BottleneckBlock(nn.Module):\n",
        "  exp = 4 # expansion by 4\n",
        "  def __init__(self, in_ch, out_ch, stride=1):  \n",
        "    super(BottleneckBlock, self).__init__()\n",
        "    self.residual = nn.Sequential(\n",
        "        nn.Conv2d(in_ch, out_ch, kernel_size=1, stride=stride, bias=False),  # stride of the first conv. layer: e.g.) stride = 2 when down-sampled\n",
        "        nn.BatchNorm2d(out_ch),\n",
        "        nn.ReLU(),\n",
        "        nn.Conv2d(out_ch, out_ch, kernel_size=3, stride=1, padding=1, bias=False),\n",
        "        nn.BatchNorm2d(out_ch),\n",
        "        nn.ReLU(),\n",
        "        nn.Conv2d(out_ch, out_ch * BottleneckBlock.exp, kernel_size=1, stride=1, bias=False),\n",
        "        nn.BatchNorm2d(out_ch * BottleneckBlock.exp)\n",
        "    )\n",
        "    self.shortcut = nn.Sequential()\n",
        "    self.relu = nn.ReLU()\n",
        "\n",
        "    # 1x1 convolution for resizing in case of residual connection with channel expanding\n",
        "    if stride != 1 or in_ch != out_ch * BottleneckBlock.exp:\n",
        "      self.shortcut = nn.Sequential(\n",
        "          nn.Conv2d(in_ch, out_ch * BottleneckBlock.exp, kernel_size=1, stride=stride, bias=False),\n",
        "          nn.BatchNorm2d(out_ch * BottleneckBlock.exp)\n",
        "      )\n",
        "\n",
        "  # define forward propagation by adding the conv block and the residual shortcut \n",
        "  def forward(self, x):\n",
        "    x = self.residual(x) + self.shortcut(x)\n",
        "    x = self.relu(x)\n",
        "    return x\n",
        "\n",
        "# configuration of ResNet50 by concatenating bottleneck blocks\n",
        "class ResNet50(nn.Module):\n",
        "  def __init__(self, blocks):\n",
        "    super(ResNet50, self).__init__()\n",
        "    self.in_ch = 64\n",
        "    self.conv1 = nn.Sequential(\n",
        "        nn.Conv2d(3, 64, kernel_size=3, stride=1, padding=1, bias=False), \n",
        "        nn.BatchNorm2d(64),\n",
        "        nn.ReLU()\n",
        "    )\n",
        "    self.conv2_x = self._make_layer(64, blocks[0], 1)\n",
        "    self.conv3_x = self._make_layer(128, blocks[1], 2)\n",
        "    self.conv4_x = self._make_layer(256, blocks[2], 2)\n",
        "    self.conv5_x = self._make_layer(512, blocks[3], 2)\n",
        "    self.avgpool = nn.AdaptiveAvgPool2d((1, 1))\n",
        "    self.linear = nn.Linear(512*BottleneckBlock.exp, 3)\n",
        "  \n",
        "  # generating each of the layer sets\n",
        "  def _make_layer(self, out_ch, block_num, stride):\n",
        "    strides = [stride] + ([1] * (block_num - 1))  # if down-sampled, stride of initial 1x1 conv. layer = 2, else stride = 1\n",
        "    layers = []\n",
        "    for stride in strides:\n",
        "      layers.append(BottleneckBlock(self.in_ch, out_ch, stride))\n",
        "      self.in_ch = out_ch * BottleneckBlock.exp  # update size of input channel to 4f\n",
        "    return nn.Sequential(*layers)  # concatenating the bottleneck layers \n",
        "\n",
        "  # define forward propagation\n",
        "  def forward(self, x):\n",
        "    x = self.conv1(x)\n",
        "    x = self.conv2_x(x)\n",
        "    x = self.conv3_x(x)\n",
        "    x = self.conv4_x(x)\n",
        "    x = self.conv5_x(x)\n",
        "    x = self.avgpool(x)\n",
        "    x = x.view(x.size(0), -1)\n",
        "    x = self.linear(x)\n",
        "    return x\n",
        "\n",
        "print('STEP 4: INSTANTIATE MODEL CLASS')\n",
        "#############\n",
        "# CODE HERE #\n",
        "#############\n",
        "\n",
        "# instantiate model\n",
        "model = ResNet50([3, 4, 6, 3])\n",
        "# view model info\n",
        "num_total_params = sum(p.numel() for p in model.parameters())\n",
        "print(\"The number of parameters : \", num_total_params)\n",
        "\n",
        "#######################\n",
        "#  USE GPU FOR MODEL  #\n",
        "#######################\n",
        "\n",
        "# model to gpu\n",
        "device = torch.device(\"cuda:0\" if torch.cuda.is_available() else \"cpu\")\n",
        "model.to(device)"
      ]
    },
    {
      "cell_type": "markdown",
      "metadata": {
        "id": "PTFU8J5Uj9aj"
      },
      "source": [
        "### 2.2 Print test accuracy for every epochs. [1 points]"
      ]
    },
    {
      "cell_type": "code",
      "source": [
        "print('STEP 5: INSTANTIATE LOSS CLASS')\n",
        "#############\n",
        "# CODE HERE #\n",
        "#############\n",
        "\n",
        "# Cross-entropy loss between outputs & ground-truths.\n",
        "criterion = nn.CrossEntropyLoss()\n",
        "\n",
        "print('STEP 6: INSTANTIATE OPTIMIZER CLASS')\n",
        "#############\n",
        "# CODE HERE #\n",
        "#############\n",
        "\n",
        "learning_rate = 1e-2\n",
        "momentum = 0.9\n",
        "weight_decay = 5e-4\n",
        "\n",
        "# SGD optimizer with learning rate = 1e-2, momentum = 0.9, and weight_decay = 5e-4.\n",
        "optimizer = torch.optim.SGD(model.parameters(), lr=learning_rate, momentum = momentum, weight_decay = weight_decay)\n",
        "\n",
        "print('STEP 7: TRAIN THE MODEL')\n",
        "\n",
        "#############\n",
        "# CODE HERE #\n",
        "#############\n",
        "import time\n",
        "\n",
        "num_epochs = 15\n",
        "iter = 0\n",
        "for epochs in range(num_epochs):\n",
        "  start_time = time.time()\n",
        "  correct = 0\n",
        "  total = 0\n",
        "  for i, (images, labels) in enumerate(train_loader):\n",
        "    # use GPU for images, labels\n",
        "    x = images.to(device)\n",
        "    y = labels.to(device)\n",
        "    # clear gradients with respect to parameters\n",
        "    optimizer.zero_grad()\n",
        "    # Forward propagation of model\n",
        "    outputs = model(x)\n",
        "    # Evaluating loss by CELoss function\n",
        "    loss = criterion(outputs, y)\n",
        "    # get gradients with respect to parameters\n",
        "    loss.backward()\n",
        "    # update parameters\n",
        "    optimizer.step()\n",
        "    iter += 1\n",
        "  for images, labels in test_loader:\n",
        "    # use GPU for images, labels\n",
        "    x = images.to(device)\n",
        "    y = labels.to(device)\n",
        "    # Forward propagation of model\n",
        "    outputs = model(x)\n",
        "    # get prediction \n",
        "    _, predicted = torch.max(outputs.data, 1)\n",
        "    # Total number of labels\n",
        "    total += y.size(0)\n",
        "\n",
        "  # calculate the test accuracy for every epoch\n",
        "    if torch.cuda.is_available():\n",
        "      correct += (predicted.cpu() == y.cpu()).sum()\n",
        "    else:\n",
        "      correct += (predicted == y).sum()\n",
        "  acc = correct.item() / total * 100\n",
        "  \n",
        "  end_time = time.time()\n",
        "  print(f'Epochs: {epochs}. Loss: {loss.item()}. Accuracy: {acc}%. Elapsed time: {end_time - start_time} sec')"
      ],
      "metadata": {
        "colab": {
          "base_uri": "https://localhost:8080/"
        },
        "id": "o0z-VoKxf5WU",
        "outputId": "a6e5b215-b82e-462b-9d14-72e5fdacf938"
      },
      "execution_count": null,
      "outputs": [
        {
          "output_type": "stream",
          "name": "stdout",
          "text": [
            "STEP 5: INSTANTIATE LOSS CLASS\n",
            "STEP 6: INSTANTIATE OPTIMIZER CLASS\n",
            "STEP 7: TRAIN THE MODEL\n",
            "Epochs: 0. Loss: 0.6427963376045227. Accuracy: 72.7%. Elapsed time: 43.467217683792114 sec\n",
            "Epochs: 1. Loss: 0.7724347114562988. Accuracy: 75.66666666666667%. Elapsed time: 44.06955647468567 sec\n",
            "Epochs: 2. Loss: 0.40925082564353943. Accuracy: 80.9%. Elapsed time: 43.99801778793335 sec\n",
            "Epochs: 3. Loss: 0.45517969131469727. Accuracy: 79.4%. Elapsed time: 44.2958447933197 sec\n",
            "Epochs: 4. Loss: 0.827409565448761. Accuracy: 82.13333333333334%. Elapsed time: 44.30492901802063 sec\n",
            "Epochs: 5. Loss: 0.11804942041635513. Accuracy: 82.5%. Elapsed time: 44.23716163635254 sec\n",
            "Epochs: 6. Loss: 0.4073950946331024. Accuracy: 83.86666666666667%. Elapsed time: 44.16420269012451 sec\n",
            "Epochs: 7. Loss: 0.044458404183387756. Accuracy: 83.7%. Elapsed time: 44.14481735229492 sec\n",
            "Epochs: 8. Loss: 0.06275071948766708. Accuracy: 83.86666666666667%. Elapsed time: 44.14321231842041 sec\n",
            "Epochs: 9. Loss: 0.21250970661640167. Accuracy: 83.83333333333334%. Elapsed time: 44.13740277290344 sec\n",
            "Epochs: 10. Loss: 0.177345409989357. Accuracy: 84.83333333333334%. Elapsed time: 44.08375811576843 sec\n",
            "Epochs: 11. Loss: 0.2963848114013672. Accuracy: 83.66666666666667%. Elapsed time: 44.115498304367065 sec\n",
            "Epochs: 12. Loss: 0.3310341536998749. Accuracy: 84.93333333333334%. Elapsed time: 44.1498749256134 sec\n",
            "Epochs: 13. Loss: 0.009811549447476864. Accuracy: 84.2%. Elapsed time: 44.11944270133972 sec\n",
            "Epochs: 14. Loss: 0.3024125397205353. Accuracy: 85.39999999999999%. Elapsed time: 44.14928102493286 sec\n"
          ]
        }
      ]
    },
    {
      "cell_type": "code",
      "source": [],
      "metadata": {
        "id": "0h8r5LBL7Ztb"
      },
      "execution_count": null,
      "outputs": []
    }
  ],
  "metadata": {
    "accelerator": "GPU",
    "colab": {
      "provenance": []
    },
    "kernelspec": {
      "display_name": "Python 3 (ipykernel)",
      "language": "python",
      "name": "python3"
    },
    "language_info": {
      "codemirror_mode": {
        "name": "ipython",
        "version": 3
      },
      "file_extension": ".py",
      "mimetype": "text/x-python",
      "name": "python",
      "nbconvert_exporter": "python",
      "pygments_lexer": "ipython3",
      "version": "3.7.10"
    },
    "widgets": {
      "application/vnd.jupyter.widget-state+json": {
        "cc9a2c354a004a21b4cc5081f7659015": {
          "model_module": "@jupyter-widgets/controls",
          "model_name": "HBoxModel",
          "model_module_version": "1.5.0",
          "state": {
            "_dom_classes": [],
            "_model_module": "@jupyter-widgets/controls",
            "_model_module_version": "1.5.0",
            "_model_name": "HBoxModel",
            "_view_count": null,
            "_view_module": "@jupyter-widgets/controls",
            "_view_module_version": "1.5.0",
            "_view_name": "HBoxView",
            "box_style": "",
            "children": [
              "IPY_MODEL_65fc90aa98474a1f8908bd5ead41bcfd",
              "IPY_MODEL_8b10843478d54e1bba0035c4ed7997d4",
              "IPY_MODEL_6b350d3ea74b45d19abef5c60dd9558d"
            ],
            "layout": "IPY_MODEL_d08fa87ff7ce4a189d990198dbdd57c7"
          }
        },
        "65fc90aa98474a1f8908bd5ead41bcfd": {
          "model_module": "@jupyter-widgets/controls",
          "model_name": "HTMLModel",
          "model_module_version": "1.5.0",
          "state": {
            "_dom_classes": [],
            "_model_module": "@jupyter-widgets/controls",
            "_model_module_version": "1.5.0",
            "_model_name": "HTMLModel",
            "_view_count": null,
            "_view_module": "@jupyter-widgets/controls",
            "_view_module_version": "1.5.0",
            "_view_name": "HTMLView",
            "description": "",
            "description_tooltip": null,
            "layout": "IPY_MODEL_76efb5de043d4e1eac43e0f079d50771",
            "placeholder": "​",
            "style": "IPY_MODEL_49ce614496874bf289a573d7ad7931b5",
            "value": "100%"
          }
        },
        "8b10843478d54e1bba0035c4ed7997d4": {
          "model_module": "@jupyter-widgets/controls",
          "model_name": "FloatProgressModel",
          "model_module_version": "1.5.0",
          "state": {
            "_dom_classes": [],
            "_model_module": "@jupyter-widgets/controls",
            "_model_module_version": "1.5.0",
            "_model_name": "FloatProgressModel",
            "_view_count": null,
            "_view_module": "@jupyter-widgets/controls",
            "_view_module_version": "1.5.0",
            "_view_name": "ProgressView",
            "bar_style": "success",
            "description": "",
            "description_tooltip": null,
            "layout": "IPY_MODEL_27c90ed76814433ca1edb91ef73b1338",
            "max": 170498071,
            "min": 0,
            "orientation": "horizontal",
            "style": "IPY_MODEL_9e76d61256c24abcb040ce66f64a8b8f",
            "value": 170498071
          }
        },
        "6b350d3ea74b45d19abef5c60dd9558d": {
          "model_module": "@jupyter-widgets/controls",
          "model_name": "HTMLModel",
          "model_module_version": "1.5.0",
          "state": {
            "_dom_classes": [],
            "_model_module": "@jupyter-widgets/controls",
            "_model_module_version": "1.5.0",
            "_model_name": "HTMLModel",
            "_view_count": null,
            "_view_module": "@jupyter-widgets/controls",
            "_view_module_version": "1.5.0",
            "_view_name": "HTMLView",
            "description": "",
            "description_tooltip": null,
            "layout": "IPY_MODEL_984963096d044fbea23a1c7caaa43ff9",
            "placeholder": "​",
            "style": "IPY_MODEL_79704994f497487aa285498e34a0e722",
            "value": " 170498071/170498071 [00:06&lt;00:00, 29692773.07it/s]"
          }
        },
        "d08fa87ff7ce4a189d990198dbdd57c7": {
          "model_module": "@jupyter-widgets/base",
          "model_name": "LayoutModel",
          "model_module_version": "1.2.0",
          "state": {
            "_model_module": "@jupyter-widgets/base",
            "_model_module_version": "1.2.0",
            "_model_name": "LayoutModel",
            "_view_count": null,
            "_view_module": "@jupyter-widgets/base",
            "_view_module_version": "1.2.0",
            "_view_name": "LayoutView",
            "align_content": null,
            "align_items": null,
            "align_self": null,
            "border": null,
            "bottom": null,
            "display": null,
            "flex": null,
            "flex_flow": null,
            "grid_area": null,
            "grid_auto_columns": null,
            "grid_auto_flow": null,
            "grid_auto_rows": null,
            "grid_column": null,
            "grid_gap": null,
            "grid_row": null,
            "grid_template_areas": null,
            "grid_template_columns": null,
            "grid_template_rows": null,
            "height": null,
            "justify_content": null,
            "justify_items": null,
            "left": null,
            "margin": null,
            "max_height": null,
            "max_width": null,
            "min_height": null,
            "min_width": null,
            "object_fit": null,
            "object_position": null,
            "order": null,
            "overflow": null,
            "overflow_x": null,
            "overflow_y": null,
            "padding": null,
            "right": null,
            "top": null,
            "visibility": null,
            "width": null
          }
        },
        "76efb5de043d4e1eac43e0f079d50771": {
          "model_module": "@jupyter-widgets/base",
          "model_name": "LayoutModel",
          "model_module_version": "1.2.0",
          "state": {
            "_model_module": "@jupyter-widgets/base",
            "_model_module_version": "1.2.0",
            "_model_name": "LayoutModel",
            "_view_count": null,
            "_view_module": "@jupyter-widgets/base",
            "_view_module_version": "1.2.0",
            "_view_name": "LayoutView",
            "align_content": null,
            "align_items": null,
            "align_self": null,
            "border": null,
            "bottom": null,
            "display": null,
            "flex": null,
            "flex_flow": null,
            "grid_area": null,
            "grid_auto_columns": null,
            "grid_auto_flow": null,
            "grid_auto_rows": null,
            "grid_column": null,
            "grid_gap": null,
            "grid_row": null,
            "grid_template_areas": null,
            "grid_template_columns": null,
            "grid_template_rows": null,
            "height": null,
            "justify_content": null,
            "justify_items": null,
            "left": null,
            "margin": null,
            "max_height": null,
            "max_width": null,
            "min_height": null,
            "min_width": null,
            "object_fit": null,
            "object_position": null,
            "order": null,
            "overflow": null,
            "overflow_x": null,
            "overflow_y": null,
            "padding": null,
            "right": null,
            "top": null,
            "visibility": null,
            "width": null
          }
        },
        "49ce614496874bf289a573d7ad7931b5": {
          "model_module": "@jupyter-widgets/controls",
          "model_name": "DescriptionStyleModel",
          "model_module_version": "1.5.0",
          "state": {
            "_model_module": "@jupyter-widgets/controls",
            "_model_module_version": "1.5.0",
            "_model_name": "DescriptionStyleModel",
            "_view_count": null,
            "_view_module": "@jupyter-widgets/base",
            "_view_module_version": "1.2.0",
            "_view_name": "StyleView",
            "description_width": ""
          }
        },
        "27c90ed76814433ca1edb91ef73b1338": {
          "model_module": "@jupyter-widgets/base",
          "model_name": "LayoutModel",
          "model_module_version": "1.2.0",
          "state": {
            "_model_module": "@jupyter-widgets/base",
            "_model_module_version": "1.2.0",
            "_model_name": "LayoutModel",
            "_view_count": null,
            "_view_module": "@jupyter-widgets/base",
            "_view_module_version": "1.2.0",
            "_view_name": "LayoutView",
            "align_content": null,
            "align_items": null,
            "align_self": null,
            "border": null,
            "bottom": null,
            "display": null,
            "flex": null,
            "flex_flow": null,
            "grid_area": null,
            "grid_auto_columns": null,
            "grid_auto_flow": null,
            "grid_auto_rows": null,
            "grid_column": null,
            "grid_gap": null,
            "grid_row": null,
            "grid_template_areas": null,
            "grid_template_columns": null,
            "grid_template_rows": null,
            "height": null,
            "justify_content": null,
            "justify_items": null,
            "left": null,
            "margin": null,
            "max_height": null,
            "max_width": null,
            "min_height": null,
            "min_width": null,
            "object_fit": null,
            "object_position": null,
            "order": null,
            "overflow": null,
            "overflow_x": null,
            "overflow_y": null,
            "padding": null,
            "right": null,
            "top": null,
            "visibility": null,
            "width": null
          }
        },
        "9e76d61256c24abcb040ce66f64a8b8f": {
          "model_module": "@jupyter-widgets/controls",
          "model_name": "ProgressStyleModel",
          "model_module_version": "1.5.0",
          "state": {
            "_model_module": "@jupyter-widgets/controls",
            "_model_module_version": "1.5.0",
            "_model_name": "ProgressStyleModel",
            "_view_count": null,
            "_view_module": "@jupyter-widgets/base",
            "_view_module_version": "1.2.0",
            "_view_name": "StyleView",
            "bar_color": null,
            "description_width": ""
          }
        },
        "984963096d044fbea23a1c7caaa43ff9": {
          "model_module": "@jupyter-widgets/base",
          "model_name": "LayoutModel",
          "model_module_version": "1.2.0",
          "state": {
            "_model_module": "@jupyter-widgets/base",
            "_model_module_version": "1.2.0",
            "_model_name": "LayoutModel",
            "_view_count": null,
            "_view_module": "@jupyter-widgets/base",
            "_view_module_version": "1.2.0",
            "_view_name": "LayoutView",
            "align_content": null,
            "align_items": null,
            "align_self": null,
            "border": null,
            "bottom": null,
            "display": null,
            "flex": null,
            "flex_flow": null,
            "grid_area": null,
            "grid_auto_columns": null,
            "grid_auto_flow": null,
            "grid_auto_rows": null,
            "grid_column": null,
            "grid_gap": null,
            "grid_row": null,
            "grid_template_areas": null,
            "grid_template_columns": null,
            "grid_template_rows": null,
            "height": null,
            "justify_content": null,
            "justify_items": null,
            "left": null,
            "margin": null,
            "max_height": null,
            "max_width": null,
            "min_height": null,
            "min_width": null,
            "object_fit": null,
            "object_position": null,
            "order": null,
            "overflow": null,
            "overflow_x": null,
            "overflow_y": null,
            "padding": null,
            "right": null,
            "top": null,
            "visibility": null,
            "width": null
          }
        },
        "79704994f497487aa285498e34a0e722": {
          "model_module": "@jupyter-widgets/controls",
          "model_name": "DescriptionStyleModel",
          "model_module_version": "1.5.0",
          "state": {
            "_model_module": "@jupyter-widgets/controls",
            "_model_module_version": "1.5.0",
            "_model_name": "DescriptionStyleModel",
            "_view_count": null,
            "_view_module": "@jupyter-widgets/base",
            "_view_module_version": "1.2.0",
            "_view_name": "StyleView",
            "description_width": ""
          }
        }
      }
    },
    "gpuClass": "standard"
  },
  "nbformat": 4,
  "nbformat_minor": 0
}
