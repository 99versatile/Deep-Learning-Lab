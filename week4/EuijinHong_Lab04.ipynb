{
  "cells": [
    {
      "cell_type": "markdown",
      "metadata": {
        "id": "eXFfI0wi2OWc"
      },
      "source": [
        "> ### EEE4423: Deep Learning Lab\n",
        "\n",
        "# LAB \\#4: Limitation: Spatial Transformer Network(STN)"
      ]
    },
    {
      "cell_type": "markdown",
      "metadata": {
        "id": "E_TAt1ul2OWd"
      },
      "source": [
        "<h4><div style=\"text-align: right\"> Due date: April 1, 2022.  </div> <br>\n",
        "<div style=\"text-align: right\"> Please upload your file @ LearnUs by 9 AM in the form of [ID_Name_Lab04.ipynb]. </div></h4>"
      ]
    },
    {
      "cell_type": "markdown",
      "metadata": {
        "id": "JAd1A1R52OWe"
      },
      "source": [
        "### *Instructions:*\n",
        "- Write a program implementing a particular algorithm to solve a given problem.   \n",
        "- <span style=\"color:red\">**Report and discuss your results. Analyze the algorithm, theoretically and empirically.**</span> \n",
        "- Each team must write their own answers and codes (<span style=\"color:red\">**if not you will get a F grade**</span>)."
      ]
    },
    {
      "cell_type": "markdown",
      "metadata": {
        "id": "7v-RdgrF2OWf"
      },
      "source": [
        "<h2><span style=\"color:blue\">[2018142102] [Euijin Hong]</span> </h2>"
      ]
    },
    {
      "cell_type": "code",
      "execution_count": 1,
      "metadata": {
        "id": "QsMlF0RR2OWg",
        "outputId": "0fa52c77-5805-4f4b-b097-65b72c436156",
        "colab": {
          "base_uri": "https://localhost:8080/"
        }
      },
      "outputs": [
        {
          "output_type": "stream",
          "name": "stdout",
          "text": [
            "This code is written at 2023-03-28 04:39:21.531333\n"
          ]
        }
      ],
      "source": [
        "import datetime\n",
        "print(\"This code is written at \" + str(datetime.datetime.now()))"
      ]
    },
    {
      "cell_type": "markdown",
      "metadata": {
        "id": "SxWW19iY2OWm"
      },
      "source": [
        "## Spatial Transformer Network for classification of distorted MNIST dataset"
      ]
    },
    {
      "cell_type": "markdown",
      "metadata": {
        "id": "hzBuF0OV2OWn"
      },
      "source": [
        "## Spatial Transformer Network(STN) [1]\n",
        ">- CNNs are limited by the lack of ability to be spatially invariant to the input data\n",
        ">- Learnable module which explicitly allows the spatial manipulation of data within the network\n",
        ">- This differentiable module can be inserted into existing convolutional architectures\n",
        "\n",
        "<img src=\"http://drive.google.com/uc?export=view&id=1GV2Ix6wuikWdq6-tGkZv2vMQbqMokDbf\" alt=\"no_image\" style=\"width: 900px;\"/>\n",
        "\n",
        "### STN module\n",
        ">1. Localization Network\n",
        ">>- With given input feature map, this network outputs the parameters of the spatial transformation (e.g. 6 parameters for affine transformation)\n",
        ">>- Reference for affine transformation : [2],[3] <br>\n",
        ">> <img src=\"http://drive.google.com/uc?export=view&id=1qho08Gzea5qDTpmsnii0rvwiLzwy54K6\" alt=\"no_image\" style=\"width: 900px;\"/>\n",
        "\n",
        ">2. Parameterised sampling grid (Grid generator)\n",
        ">>- Set of points where the input feature map is sampled to produce the transformation which is a output of localization network  \n",
        ">>- Target coordinate and source coordinate are normalised ($ -1\\le(x_i^t, y_i^t)\\le1$,$ -1\\le(x_i^s, y_i^s)\\le1$ )\n",
        "<img src=\"http://drive.google.com/uc?export=view&id=1pRWzwevo1KjWi3WIC4K8SCkK4oYCD7FZ\" alt=\"no_image\" style=\"width: 500px;\"/>\n",
        ">3. Differentiable Image Sampling (Sampler)\n",
        ">>- Ouput feature map is produced by differentiable bilinear interpolation with input feature map and parameterised sampling grid\n",
        "    \n",
        "<img src=\"http://drive.google.com/uc?export=view&id=1EjoZ6CVLTD3QNl1CKbg1w3YiNf1CzOmH\" alt=\"no_image\" style=\"width: 900px;\"/>\n"
      ]
    },
    {
      "cell_type": "code",
      "execution_count": 2,
      "metadata": {
        "id": "0AoHVrM52OWo"
      },
      "outputs": [],
      "source": [
        "import warnings\n",
        "import numpy as np\n",
        "import torch\n",
        "import torch.nn as nn\n",
        "import torch.optim as optim\n",
        "import torch.nn.init as init\n",
        "import torchvision.datasets as dset\n",
        "import torchvision.transforms as transforms\n",
        "from torch.utils.data import DataLoader\n",
        "from torch.autograd import Variable\n",
        "import torch.nn.functional as F\n",
        "import torchvision.utils as v_utils\n",
        "import matplotlib.pyplot as plt\n",
        "from PIL import Image\n",
        "import cv2\n",
        "import io\n",
        "import requests\n",
        "import os \n",
        "import copy\n",
        "import time\n",
        "%matplotlib inline\n",
        "\n",
        "warnings.filterwarnings(\"ignore\")"
      ]
    },
    {
      "cell_type": "code",
      "execution_count": 3,
      "metadata": {
        "colab": {
          "base_uri": "https://localhost:8080/",
          "height": 36
        },
        "id": "g84YJUCD2OWr",
        "outputId": "3aeb5231-a45b-4011-bb06-6c7732d18158"
      },
      "outputs": [
        {
          "output_type": "execute_result",
          "data": {
            "text/plain": [
              "'NVIDIA A100-SXM4-40GB'"
            ],
            "application/vnd.google.colaboratory.intrinsic+json": {
              "type": "string"
            }
          },
          "metadata": {},
          "execution_count": 3
        }
      ],
      "source": [
        "device0 = torch.device(\"cuda:0\" if torch.cuda.is_available() else \"cpu\")\n",
        "torch.cuda.get_device_name(0)"
      ]
    },
    {
      "cell_type": "code",
      "execution_count": 4,
      "metadata": {
        "id": "-gaJ_3Gv2OWv"
      },
      "outputs": [],
      "source": [
        "# parameters\n",
        "\n",
        "batch_size = 256\n",
        "learning_rate = 0.001\n",
        "num_epoch = 60\n",
        "num_classes = 10"
      ]
    },
    {
      "cell_type": "markdown",
      "metadata": {
        "id": "HHuhiUfN2OWy"
      },
      "source": [
        "### 1. Dataset (Distorted MNIST, details in Appendix A.4 Distorted MNIST) [1point]\n",
        ">- Generate RTS(rotated, translated, scaled) MNIST \n",
        ">>- Use *torchvision.transforms*\n",
        ">>- Randomly rotating between $-45^\\circ, 45^\\circ$\n",
        ">>- Randomly scaling the digit by a factor of between $0.7,1.2$\n",
        ">>- Placing the digit in a random location in a $40\\times40$ region of image's center\n",
        ">>- Zerp padding to increase image's size for the digit's translation ($80\\times80$ image)\n",
        ">>- Images to tensor \n",
        ">>- Normalize data with MNIST dataset's mean and standard deviation printed in the 5th cell below\n"
      ]
    },
    {
      "cell_type": "markdown",
      "metadata": {
        "id": "tFHJ42zM2OW0"
      },
      "source": [
        "#### 1.1 Write codes for dataset's transformation [1 point]\n"
      ]
    },
    {
      "cell_type": "code",
      "source": [
        "print('STEP 1: DEFINE DATASET')\n",
        "\n",
        "train_dataset = dset.MNIST(root='../dataset/lab04/MNIST', train=True, \n",
        "                        #############\n",
        "                        # CODE HERE #\n",
        "                        #############\n",
        "                        transform = transforms.Compose([\n",
        "                            transforms.ToTensor(),\n",
        "                            # zero-padding image to resize to 80x80\n",
        "                            transforms.Pad(26),\n",
        "                            # random rotate(-45, 45), scale(0.7, 1.2), translate(-20<x<20, -20<y<20) \n",
        "                            transforms.RandomAffine((-45, 45), translate=(0.25, 0.25), scale=(0.7, 1.2)),\n",
        "                            # normalize image with mean=0.1307 and std=0.3081\n",
        "                            transforms.Normalize((0.1307,), (0.3081,))\n",
        "                        ]),\n",
        "                        target_transform=None,\n",
        "                        download=True)\n",
        "test_dataset = dset.MNIST(root='../dataset/lab04/MNIST', train=False, \n",
        "                        #############\n",
        "                        # CODE HERE #\n",
        "                        #############\n",
        "                        transform = transforms.Compose([\n",
        "                            transforms.ToTensor(),\n",
        "                            # zero-padding image to resize to 80x80\n",
        "                            transforms.Pad(26),\n",
        "                            # random rotate(-45, 45), scale(0.7, 1.2), translate(-20<x<20, -20<y<20) \n",
        "                            transforms.RandomAffine((-45, 45), translate=(0.25, 0.25), scale=(0.7, 1.2)),\n",
        "                            # normalize image with mean=0.1307 and std=0.3081\n",
        "                            transforms.Normalize((0.1307,), (0.3081,))\n",
        "                        ]),\n",
        "                        target_transform=None,\n",
        "                        download=False)\n",
        "\n",
        "\n",
        "train_size = len(train_dataset)\n",
        "test_size = len(test_dataset)\n",
        "\n",
        "#dataset mean and std for normalization\n",
        "print('MNIST mean: ',train_dataset.train_data.float().mean()/255)\n",
        "print('MNIST std: ',train_dataset.train_data.float().std()/255)"
      ],
      "metadata": {
        "colab": {
          "base_uri": "https://localhost:8080/"
        },
        "id": "_Sfbuh6IC8wn",
        "outputId": "56facbf5-7071-43c3-ec3d-5dadcbdd9833"
      },
      "execution_count": 16,
      "outputs": [
        {
          "output_type": "stream",
          "name": "stdout",
          "text": [
            "STEP 1: DEFINE DATASET\n",
            "MNIST mean:  tensor(0.1307)\n",
            "MNIST std:  tensor(0.3081)\n"
          ]
        }
      ]
    },
    {
      "cell_type": "code",
      "execution_count": 17,
      "metadata": {
        "colab": {
          "base_uri": "https://localhost:8080/"
        },
        "id": "dmdruxLV2OW5",
        "outputId": "695170fe-f0d6-4330-cfb1-aa5eb4d4d1ba"
      },
      "outputs": [
        {
          "output_type": "stream",
          "name": "stdout",
          "text": [
            "Train dataset size: 60000\n",
            "Test dataset size: 10000\n"
          ]
        }
      ],
      "source": [
        "print('Train dataset size: {}'.format(len(train_dataset)))\n",
        "print('Test dataset size: {}'.format(len(test_dataset)))"
      ]
    },
    {
      "cell_type": "markdown",
      "metadata": {
        "id": "P9PliNxe2OW9"
      },
      "source": [
        "###  Visualize Dataset\n"
      ]
    },
    {
      "cell_type": "code",
      "source": [
        "figure = plt.figure()\n",
        "\n",
        "for i in range(train_size):\n",
        "    sample = train_dataset[i]\n",
        "    figure.add_subplot(1,4,i+1).set_title('Label:{}'.format(sample[1]))\n",
        "    imgplot = plt.imshow((sample[0].squeeze(0).cpu()+1)/2)\n",
        "    if i == 3:\n",
        "        plt.show()\n",
        "        break"
      ],
      "metadata": {
        "colab": {
          "base_uri": "https://localhost:8080/",
          "height": 137
        },
        "id": "SWX_n9xwDBUv",
        "outputId": "5bc66a31-e5f8-4bce-8e84-d43a1c62464b"
      },
      "execution_count": 18,
      "outputs": [
        {
          "output_type": "display_data",
          "data": {
            "text/plain": [
              "<Figure size 432x288 with 4 Axes>"
            ],
            "image/png": "[encoded data removed]"
          },
          "metadata": {
            "needs_background": "light"
          }
        }
      ]
    },
    {
      "cell_type": "code",
      "execution_count": 19,
      "metadata": {
        "colab": {
          "base_uri": "https://localhost:8080/"
        },
        "id": "h9wwuE7t2OXC",
        "outputId": "5ce9dcb3-7f5c-43f3-e453-5bc9c2a89518"
      },
      "outputs": [
        {
          "output_type": "stream",
          "name": "stdout",
          "text": [
            "STEP 2: LOADING DATASET\n"
          ]
        }
      ],
      "source": [
        "print('STEP 2: LOADING DATASET')\n",
        "\n",
        "train_loader = torch.utils.data.DataLoader(train_dataset,batch_size=batch_size, shuffle=True,num_workers=4,drop_last=True)\n",
        "test_loader = torch.utils.data.DataLoader(test_dataset,batch_size=batch_size, shuffle=False,num_workers=4,drop_last=True)"
      ]
    },
    {
      "cell_type": "markdown",
      "metadata": {
        "id": "WkYr7Cp_2OXG"
      },
      "source": [
        "##  Model\n",
        "### 2. CNN Model Setup (details in Appendix A.4 Distorted MNIST) [3points]\n",
        ">\n",
        ">1. CNN \n",
        ">>- 2 convolutional layers and 2 max-pooling layers before final classification layer\n",
        ">>- Two conv layers have 32 and 64 filters and use ReLU \n",
        ">2. Classifier\n",
        ">>- 2 fully-connected layers and the number of input features to the last layer is 128\n",
        ">>- Also use ReLU as an activation function\n",
        ">3. ST module\n",
        ">>- At the beginning of the network\n",
        ">>- 2 convolutional layer and 2 fully-connected layer in localization network\n",
        ">>- Initialize the *fc_loc*'s final regression layer with identity transformation\n",
        ">>- Produce affine transformation parameters for RTS dataset\n",
        ">>- Reference for grid generator function: [4] <br>\n",
        ">>- Reference for sampler function: [5] <br>\n",
        ">\n",
        "> **++Hint: All learnable parameters' sizes of model are in the 10th cell below** <br>\n",
        "> **++For RTS datasets, the network has average pooling layer after the ST module to downsample the output of the transformer by a factor of 2**\n",
        "\n",
        "| **Layer** | **Kernel size** | **stride** | **padding** |\n",
        "|:---:|:---:|:---:|:---:|\n",
        "| 1st Conv of *cnn* | 9 | 1 | 0 |\n",
        "| 2nd Conv of *cnn* | 7 | 1 | 0 |\n",
        "| 1st Conv of *localization* | 5 | 1 | 0 |\n",
        "| 2nd Conv of *localization* | 5 | 1 | 0 |\n",
        "| AvgPool | 2 | 2 | 0 |\n",
        "| MaxPool | 2 | 2 | 0 |\n"
      ]
    },
    {
      "cell_type": "markdown",
      "metadata": {
        "id": "cYHuW3KR2OXH"
      },
      "source": [
        "#### 2.1 Write codes for the model class (STN_CNN) [3 points]\n"
      ]
    },
    {
      "cell_type": "code",
      "execution_count": 32,
      "metadata": {
        "colab": {
          "base_uri": "https://localhost:8080/"
        },
        "id": "pT5hnJ6l2OXI",
        "outputId": "6b5e400d-ebf2-4c4a-fbcd-6405771cfab1",
        "scrolled": true
      },
      "outputs": [
        {
          "output_type": "stream",
          "name": "stdout",
          "text": [
            "STEP 3: CREATE MODEL CLASS (STN_CNN)\n"
          ]
        }
      ],
      "source": [
        "print('STEP 3: CREATE MODEL CLASS (STN_CNN)')\n",
        "\n",
        "\n",
        "class STN_CNN(nn.Module):\n",
        "    \n",
        "#############\n",
        "# CODE HERE #\n",
        "#############\n",
        "\n",
        "  def __init__(self):\n",
        "    super(STN_CNN, self).__init__()\n",
        "    \n",
        "    # define CNN module\n",
        "    self.cnn = nn.Sequential(\n",
        "      nn.AvgPool2d(2, stride=2),\n",
        "      nn.Conv2d(1, 32, kernel_size=9, stride=1, padding=0),\n",
        "      nn.MaxPool2d(2, stride=2),\n",
        "      nn.ReLU(True),\n",
        "      nn.Conv2d(32, 64, kernel_size=7, stride=1, padding=0),\n",
        "      nn.MaxPool2d(2, stride=2),\n",
        "      nn.ReLU(True)\n",
        "    )\n",
        "\n",
        "    # define FC classifier module\n",
        "    self.classifier = nn.Sequential(\n",
        "      nn.Linear(1600, 128),\n",
        "      nn.ReLU(True),\n",
        "      nn.Linear(128, 10)\n",
        "    )\n",
        "\n",
        "    # define spatial transformer localization-network\n",
        "    self.localization = nn.Sequential(\n",
        "      nn.Conv2d(1, 20, kernel_size=5),\n",
        "      nn.MaxPool2d(2, stride=2),\n",
        "      nn.ReLU(True),\n",
        "      nn.Conv2d(20, 20, kernel_size=5),\n",
        "      nn.ReLU(True)\n",
        "    )\n",
        "\n",
        "    # define regressor for the 3 * 2 affine matrix\n",
        "    self.fc_loc = nn.Sequential(\n",
        "      nn.Linear(23120, 20),  # 23120 = 34 * 34 * 20\n",
        "      nn.ReLU(True),\n",
        "      nn.Linear(20, 3 * 2)  # output = 3 * 2 affine matrix\n",
        "    )\n",
        "\n",
        "    # initialize the weights to zero and biases to identity transformation, with no autograd\n",
        "    with torch.no_grad():\n",
        "      self.fc_loc[2].weight.data.zero_()\n",
        "      self.fc_loc[2].bias.data = nn.parameter.Parameter(torch.tensor([1, 0, 0, 0, 1, 0], dtype=torch.float))\n",
        "\n",
        "  # define forward pass of STN to transform the input\n",
        "  def STN(self, x):\n",
        "    xs = self.localization(x)\n",
        "    xs = xs.view(-1, 23120)\n",
        "    th = self.fc_loc(xs)\n",
        "    th = th.view(-1, 2, 3)\n",
        "\n",
        "    grid = F.affine_grid(th, x.size())\n",
        "    x = F.grid_sample(x, grid)\n",
        "    return x\n",
        "\n",
        "  # define the overall forward propagation of the STN_CNN model\n",
        "  def forward(self, x):\n",
        "    # spatial transformation of the input\n",
        "    x = self.STN(x)\n",
        "\n",
        "    # apply forward propagation to regular CNN network\n",
        "    x = self.cnn(x)\n",
        "    x = x.view(-1, 1600)\n",
        "    x = self.classifier(x)\n",
        "    \n",
        "    return F.softmax(x, dim=1)"
      ]
    },
    {
      "cell_type": "code",
      "source": [
        "print('STEP 4: INSTANTIATE MODEL CLASS\\n')\n",
        "model = STN_CNN()\n",
        "\n",
        "print(\"STN_CNN's state_dict:\")\n",
        "os.makedirs('weights/lab04', exist_ok=True)\n",
        "for param_tensor in model.state_dict():\n",
        "    print(param_tensor, \"\\t\", model.state_dict()[param_tensor].size())"
      ],
      "metadata": {
        "colab": {
          "base_uri": "https://localhost:8080/"
        },
        "id": "2Vcfdze2btCH",
        "outputId": "bdae9889-6bbe-46a8-abc4-743b518fc6a1"
      },
      "execution_count": 33,
      "outputs": [
        {
          "output_type": "stream",
          "name": "stdout",
          "text": [
            "STEP 4: INSTANTIATE MODEL CLASS\n",
            "\n",
            "False\n",
            "False\n",
            "STN_CNN's state_dict:\n",
            "cnn.1.weight \t torch.Size([32, 1, 9, 9])\n",
            "cnn.1.bias \t torch.Size([32])\n",
            "cnn.4.weight \t torch.Size([64, 32, 7, 7])\n",
            "cnn.4.bias \t torch.Size([64])\n",
            "classifier.0.weight \t torch.Size([128, 1600])\n",
            "classifier.0.bias \t torch.Size([128])\n",
            "classifier.2.weight \t torch.Size([10, 128])\n",
            "classifier.2.bias \t torch.Size([10])\n",
            "localization.0.weight \t torch.Size([20, 1, 5, 5])\n",
            "localization.0.bias \t torch.Size([20])\n",
            "localization.3.weight \t torch.Size([20, 20, 5, 5])\n",
            "localization.3.bias \t torch.Size([20])\n",
            "fc_loc.0.weight \t torch.Size([20, 23120])\n",
            "fc_loc.0.bias \t torch.Size([20])\n",
            "fc_loc.2.weight \t torch.Size([6, 20])\n",
            "fc_loc.2.bias \t torch.Size([6])\n"
          ]
        }
      ]
    },
    {
      "cell_type": "markdown",
      "metadata": {
        "id": "SvfNJkk02OXQ"
      },
      "source": [
        "###  Parameter updates\n",
        "#### Scheduling (Annealing) the learning rate [6]\n",
        ">- In training deep networks, it is usually helpful to anneal the learning rate over time\n",
        ">>- With high learning rate, the optimizing system can't settle down into deeper parts of the loss function\n",
        ">- When to decay can be tricky\n",
        ">>- Slowly : Wasting computation with little improvement for a long time\n",
        ">>- Aggressively: Cooling too quickly, unable to find the best point\n",
        ">- 3 common types\n",
        ">>1. Step decay: Reduce the learning rate by some factor every few epochs (e.g. half every 5 epochs, or by 0.1 every 10 epochs)\n",
        ">>2. Exponential decay: In the form of mathematical formulation $\\alpha = \\alpha_0\\exp^{-kt}$, where $\\alpha_0, k$ are hyperparameters and $t$ is the iteration number(or units of epochs)\n",
        ">>3. $1/t$ decay : In the form of mathematical formulation $\\alpha = \\alpha_0/(1+kt)$, where $\\alpha_0, k$ are hyperparameters and $t$ is the iteration number\n",
        ">- In practice, the step decay is slightly preferable\n",
        "\n",
        "#### How to adjust learning rate in pytorch [7]\n",
        ">- *torch.optim.lr_scheduler* provides several methods based on the number of epochs\n",
        ">- For example, the step decay can be implemented by *torch.optim.lr_scheduler.StepLR* class (See reference for more types)\n",
        ">- We use *ReduceLROnPlateau* class in this lab which allows dynamic learning rate adjusting based on our validation measurements\n",
        ">>- Reduce the learning rate when our metric has stopped improving \n",
        ">>- The learning rate is reduced if no improvement of our metric is seen for a 'patience' number of epochs\n",
        ">>- See reference for more details \n"
      ]
    },
    {
      "cell_type": "code",
      "execution_count": 23,
      "metadata": {
        "colab": {
          "base_uri": "https://localhost:8080/"
        },
        "id": "jLusumF82OXR",
        "outputId": "ca91b8dd-1cb2-4bf8-aaa5-a5482fd744be"
      },
      "outputs": [
        {
          "output_type": "stream",
          "name": "stdout",
          "text": [
            "STEP 5: INSTANTIATE OPTIMIZER CLASS\n"
          ]
        }
      ],
      "source": [
        "print('STEP 5: INSTANTIATE OPTIMIZER CLASS')\n",
        "\n",
        "optimizer = torch.optim.Adam(model.parameters(), lr=learning_rate)\n",
        "scheduler = optim.lr_scheduler.ReduceLROnPlateau(optimizer, mode='max', factor = 0.1, patience=6)\n",
        "\n",
        "def get_lr(optimizer):\n",
        "    for param_group in optimizer.param_groups:\n",
        "        return param_group['lr']"
      ]
    },
    {
      "cell_type": "markdown",
      "metadata": {
        "id": "vvw4SWmz2OXY"
      },
      "source": [
        "### 3.Train/Test [2points]\n"
      ]
    },
    {
      "cell_type": "markdown",
      "metadata": {
        "id": "bCEa1yPU2OXa"
      },
      "source": [
        "#### 3.1Tirain the STN_CNN model and print accuracy for every epochs [2 points]\n"
      ]
    },
    {
      "cell_type": "code",
      "source": [
        "print('STEP 6: INSTANTIATE LOSS CLASS')\n",
        "#############\n",
        "# CODE HERE #\n",
        "#############\n",
        "\n",
        "# using CrossEntropyLoss function to evaluate loss\n",
        "criterion = nn.CrossEntropyLoss()\n",
        "\n",
        "# Model to GPU\n",
        "model.to(device0)\n",
        "\n",
        "print('STEP 7: TRAIN THE MODEL')\n",
        "best_acc = 0\n",
        "num_epoch = 60\n",
        "\n",
        "for epoch in range(num_epoch):\n",
        "    #TRAIN\n",
        "    model.train()\n",
        "    start = time.time()\n",
        "    correct = 0\n",
        "    \n",
        "    for j,(img,label) in enumerate(train_loader):\n",
        "        \n",
        "        #############\n",
        "        # CODE HERE #\n",
        "        #############\n",
        "\n",
        "        # use GPU for images, labels\n",
        "        x = img.to(device0)\n",
        "        y = label.to(device0)\n",
        "\n",
        "        # clear gradients with respect to parameters\n",
        "        optimizer.zero_grad()\n",
        "\n",
        "        # Forward propagation of model\n",
        "        outputs = model(x)\n",
        "\n",
        "        # Evaluating loss\n",
        "        loss = criterion(outputs, y)\n",
        "        \n",
        "        # get gradients with respect to parameters\n",
        "        loss.backward()\n",
        "\n",
        "        # update parameters\n",
        "        optimizer.step()\n",
        "\n",
        "        if j % 200 == 0:\n",
        "            \n",
        "            print('Train Epoch: {} [{}/{} ({:.0f}%) / Learning rate:{}]\\tLoss:{:.6f}  '.format(\n",
        "                    epoch, j * len(img), train_size,\n",
        "                    100. * j / len(train_loader),get_lr(optimizer), loss.item()))\n",
        "            \n",
        "           \n",
        "                    \n",
        "    #Test\n",
        "    model.eval()\n",
        "    #############\n",
        "    # CODE HERE #\n",
        "    #############\n",
        "    for img, label in test_loader:\n",
        "      # use GPU for images, labels\n",
        "      x = img.to(device0)\n",
        "      y = label.to(device0)\n",
        "\n",
        "      # Forward propagation of model\n",
        "      outputs = model(x)\n",
        "\n",
        "      # get prediction \n",
        "      _, predicted = torch.max(outputs.data, 1)\n",
        "\n",
        "      # sum up correct number of predicted labels\n",
        "      if torch.cuda.is_available():\n",
        "        correct += (predicted.cpu() == y.cpu()).sum()\n",
        "      else:\n",
        "        correct += (predicted == y).sum()\n",
        "\n",
        "    # calculate and print the test accuracy of this epoch\n",
        "    accuracy = correct.item() / 10000 * 100\n",
        "    print(f'Test set accuracy: {correct.item()}/10000 ({accuracy}%)')\n",
        "    print('////Epoch elapsed time: {}////\\n'.format(time.time() - start))  \n",
        "    \n",
        "    # updating the best accuracy and save the best weight model\n",
        "    if accuracy > best_acc :\n",
        "        torch.save({\n",
        "            'epoch': epoch,\n",
        "            'model_state_dict': model.state_dict(),\n",
        "            'optimizer_state_dict': optimizer.state_dict(),\n",
        "            'loss': loss,\n",
        "            'accuracy': accuracy\n",
        "            \n",
        "            }, './weights/lab04/best_model_STN.tar')\n",
        "       \n",
        "        best_acc = accuracy\n",
        "    \n",
        "    scheduler.step(accuracy)"
      ],
      "metadata": {
        "colab": {
          "base_uri": "https://localhost:8080/"
        },
        "id": "MNTMWTSy6wFH",
        "outputId": "8acf3d0b-d3de-46ce-f96a-e3294aad7918"
      },
      "execution_count": 24,
      "outputs": [
        {
          "output_type": "stream",
          "name": "stdout",
          "text": [
            "STEP 6: INSTANTIATE LOSS CLASS\n",
            "STEP 7: TRAIN THE MODEL\n",
            "Train Epoch: 0 [0/60000 (0%) / Learning rate:0.001]\tLoss:2.301746  \n",
            "Train Epoch: 0 [51200/60000 (85%) / Learning rate:0.001]\tLoss:1.934546  \n",
            "Test set accuracy: 5726/10000 (57.26%)\n",
            "////Epoch elapsed time: 19.5128173828125////\n",
            "\n",
            "Train Epoch: 1 [0/60000 (0%) / Learning rate:0.001]\tLoss:1.892667  \n",
            "Train Epoch: 1 [51200/60000 (85%) / Learning rate:0.001]\tLoss:1.673189  \n",
            "Test set accuracy: 8134/10000 (81.34%)\n",
            "////Epoch elapsed time: 17.36518621444702////\n",
            "\n",
            "Train Epoch: 2 [0/60000 (0%) / Learning rate:0.001]\tLoss:1.689139  \n",
            "Train Epoch: 2 [51200/60000 (85%) / Learning rate:0.001]\tLoss:1.605300  \n",
            "Test set accuracy: 8504/10000 (85.04%)\n",
            "////Epoch elapsed time: 17.433297157287598////\n",
            "\n",
            "Train Epoch: 3 [0/60000 (0%) / Learning rate:0.001]\tLoss:1.642036  \n",
            "Train Epoch: 3 [51200/60000 (85%) / Learning rate:0.001]\tLoss:1.583152  \n",
            "Test set accuracy: 8961/10000 (89.61%)\n",
            "////Epoch elapsed time: 17.401267051696777////\n",
            "\n",
            "Train Epoch: 4 [0/60000 (0%) / Learning rate:0.001]\tLoss:1.561908  \n",
            "Train Epoch: 4 [51200/60000 (85%) / Learning rate:0.001]\tLoss:1.567149  \n",
            "Test set accuracy: 9124/10000 (91.24%)\n",
            "////Epoch elapsed time: 17.190590381622314////\n",
            "\n",
            "Train Epoch: 5 [0/60000 (0%) / Learning rate:0.001]\tLoss:1.529593  \n",
            "Train Epoch: 5 [51200/60000 (85%) / Learning rate:0.001]\tLoss:1.534186  \n",
            "Test set accuracy: 9257/10000 (92.57%)\n",
            "////Epoch elapsed time: 17.431663274765015////\n",
            "\n",
            "Train Epoch: 6 [0/60000 (0%) / Learning rate:0.001]\tLoss:1.513063  \n",
            "Train Epoch: 6 [51200/60000 (85%) / Learning rate:0.001]\tLoss:1.499919  \n",
            "Test set accuracy: 9393/10000 (93.93%)\n",
            "////Epoch elapsed time: 17.317788124084473////\n",
            "\n",
            "Train Epoch: 7 [0/60000 (0%) / Learning rate:0.001]\tLoss:1.517299  \n",
            "Train Epoch: 7 [51200/60000 (85%) / Learning rate:0.001]\tLoss:1.510390  \n",
            "Test set accuracy: 9411/10000 (94.11%)\n",
            "////Epoch elapsed time: 17.248780727386475////\n",
            "\n",
            "Train Epoch: 8 [0/60000 (0%) / Learning rate:0.001]\tLoss:1.529859  \n",
            "Train Epoch: 8 [51200/60000 (85%) / Learning rate:0.001]\tLoss:1.522166  \n",
            "Test set accuracy: 9285/10000 (92.85%)\n",
            "////Epoch elapsed time: 17.158082485198975////\n",
            "\n",
            "Train Epoch: 9 [0/60000 (0%) / Learning rate:0.001]\tLoss:1.531621  \n",
            "Train Epoch: 9 [51200/60000 (85%) / Learning rate:0.001]\tLoss:1.539185  \n",
            "Test set accuracy: 9474/10000 (94.74000000000001%)\n",
            "////Epoch elapsed time: 17.21648597717285////\n",
            "\n",
            "Train Epoch: 10 [0/60000 (0%) / Learning rate:0.001]\tLoss:1.519953  \n",
            "Train Epoch: 10 [51200/60000 (85%) / Learning rate:0.001]\tLoss:1.530559  \n",
            "Test set accuracy: 9289/10000 (92.89%)\n",
            "////Epoch elapsed time: 17.28469204902649////\n",
            "\n",
            "Train Epoch: 11 [0/60000 (0%) / Learning rate:0.001]\tLoss:1.525795  \n",
            "Train Epoch: 11 [51200/60000 (85%) / Learning rate:0.001]\tLoss:1.498854  \n",
            "Test set accuracy: 9371/10000 (93.71000000000001%)\n",
            "////Epoch elapsed time: 17.176242351531982////\n",
            "\n",
            "Train Epoch: 12 [0/60000 (0%) / Learning rate:0.001]\tLoss:1.491184  \n",
            "Train Epoch: 12 [51200/60000 (85%) / Learning rate:0.001]\tLoss:1.501532  \n",
            "Test set accuracy: 9502/10000 (95.02000000000001%)\n",
            "////Epoch elapsed time: 17.202831506729126////\n",
            "\n",
            "Train Epoch: 13 [0/60000 (0%) / Learning rate:0.001]\tLoss:1.527964  \n",
            "Train Epoch: 13 [51200/60000 (85%) / Learning rate:0.001]\tLoss:1.510408  \n",
            "Test set accuracy: 9483/10000 (94.83%)\n",
            "////Epoch elapsed time: 17.254188060760498////\n",
            "\n",
            "Train Epoch: 14 [0/60000 (0%) / Learning rate:0.001]\tLoss:1.500512  \n",
            "Train Epoch: 14 [51200/60000 (85%) / Learning rate:0.001]\tLoss:1.524665  \n",
            "Test set accuracy: 9539/10000 (95.39%)\n",
            "////Epoch elapsed time: 17.230199813842773////\n",
            "\n",
            "Train Epoch: 15 [0/60000 (0%) / Learning rate:0.001]\tLoss:1.516778  \n",
            "Train Epoch: 15 [51200/60000 (85%) / Learning rate:0.001]\tLoss:1.509710  \n",
            "Test set accuracy: 9549/10000 (95.49%)\n",
            "////Epoch elapsed time: 17.38846445083618////\n",
            "\n",
            "Train Epoch: 16 [0/60000 (0%) / Learning rate:0.001]\tLoss:1.502663  \n",
            "Train Epoch: 16 [51200/60000 (85%) / Learning rate:0.001]\tLoss:1.503781  \n",
            "Test set accuracy: 9596/10000 (95.96000000000001%)\n",
            "////Epoch elapsed time: 17.17921757698059////\n",
            "\n",
            "Train Epoch: 17 [0/60000 (0%) / Learning rate:0.001]\tLoss:1.506798  \n",
            "Train Epoch: 17 [51200/60000 (85%) / Learning rate:0.001]\tLoss:1.492586  \n",
            "Test set accuracy: 9476/10000 (94.76%)\n",
            "////Epoch elapsed time: 17.200184106826782////\n",
            "\n",
            "Train Epoch: 18 [0/60000 (0%) / Learning rate:0.001]\tLoss:1.508976  \n",
            "Train Epoch: 18 [51200/60000 (85%) / Learning rate:0.001]\tLoss:1.498924  \n",
            "Test set accuracy: 9577/10000 (95.77%)\n",
            "////Epoch elapsed time: 17.15227508544922////\n",
            "\n",
            "Train Epoch: 19 [0/60000 (0%) / Learning rate:0.001]\tLoss:1.520074  \n",
            "Train Epoch: 19 [51200/60000 (85%) / Learning rate:0.001]\tLoss:1.501587  \n",
            "Test set accuracy: 9540/10000 (95.39999999999999%)\n",
            "////Epoch elapsed time: 17.48917531967163////\n",
            "\n",
            "Train Epoch: 20 [0/60000 (0%) / Learning rate:0.001]\tLoss:1.516384  \n",
            "Train Epoch: 20 [51200/60000 (85%) / Learning rate:0.001]\tLoss:1.515463  \n",
            "Test set accuracy: 9260/10000 (92.60000000000001%)\n",
            "////Epoch elapsed time: 17.224688291549683////\n",
            "\n",
            "Train Epoch: 21 [0/60000 (0%) / Learning rate:0.001]\tLoss:1.526047  \n",
            "Train Epoch: 21 [51200/60000 (85%) / Learning rate:0.001]\tLoss:1.509745  \n",
            "Test set accuracy: 9667/10000 (96.67%)\n",
            "////Epoch elapsed time: 17.331223964691162////\n",
            "\n",
            "Train Epoch: 22 [0/60000 (0%) / Learning rate:0.001]\tLoss:1.480328  \n",
            "Train Epoch: 22 [51200/60000 (85%) / Learning rate:0.001]\tLoss:1.507222  \n",
            "Test set accuracy: 9548/10000 (95.48%)\n",
            "////Epoch elapsed time: 17.23982071876526////\n",
            "\n",
            "Train Epoch: 23 [0/60000 (0%) / Learning rate:0.001]\tLoss:1.508334  \n",
            "Train Epoch: 23 [51200/60000 (85%) / Learning rate:0.001]\tLoss:1.525800  \n",
            "Test set accuracy: 9496/10000 (94.96%)\n",
            "////Epoch elapsed time: 17.33309030532837////\n",
            "\n",
            "Train Epoch: 24 [0/60000 (0%) / Learning rate:0.001]\tLoss:1.518542  \n",
            "Train Epoch: 24 [51200/60000 (85%) / Learning rate:0.001]\tLoss:1.496259  \n",
            "Test set accuracy: 9574/10000 (95.74000000000001%)\n",
            "////Epoch elapsed time: 17.294673681259155////\n",
            "\n",
            "Train Epoch: 25 [0/60000 (0%) / Learning rate:0.001]\tLoss:1.513207  \n",
            "Train Epoch: 25 [51200/60000 (85%) / Learning rate:0.001]\tLoss:1.498176  \n",
            "Test set accuracy: 9655/10000 (96.55%)\n",
            "////Epoch elapsed time: 17.41609263420105////\n",
            "\n",
            "Train Epoch: 26 [0/60000 (0%) / Learning rate:0.001]\tLoss:1.513666  \n",
            "Train Epoch: 26 [51200/60000 (85%) / Learning rate:0.001]\tLoss:1.516383  \n",
            "Test set accuracy: 9679/10000 (96.78999999999999%)\n",
            "////Epoch elapsed time: 17.247142791748047////\n",
            "\n",
            "Train Epoch: 27 [0/60000 (0%) / Learning rate:0.001]\tLoss:1.508581  \n",
            "Train Epoch: 27 [51200/60000 (85%) / Learning rate:0.001]\tLoss:1.508902  \n",
            "Test set accuracy: 9596/10000 (95.96000000000001%)\n",
            "////Epoch elapsed time: 17.41080617904663////\n",
            "\n",
            "Train Epoch: 28 [0/60000 (0%) / Learning rate:0.001]\tLoss:1.501915  \n",
            "Train Epoch: 28 [51200/60000 (85%) / Learning rate:0.001]\tLoss:1.492951  \n",
            "Test set accuracy: 9653/10000 (96.53%)\n",
            "////Epoch elapsed time: 17.310348510742188////\n",
            "\n",
            "Train Epoch: 29 [0/60000 (0%) / Learning rate:0.001]\tLoss:1.511943  \n",
            "Train Epoch: 29 [51200/60000 (85%) / Learning rate:0.001]\tLoss:1.511726  \n",
            "Test set accuracy: 9531/10000 (95.30999999999999%)\n",
            "////Epoch elapsed time: 17.32974100112915////\n",
            "\n",
            "Train Epoch: 30 [0/60000 (0%) / Learning rate:0.001]\tLoss:1.523572  \n",
            "Train Epoch: 30 [51200/60000 (85%) / Learning rate:0.001]\tLoss:1.491574  \n",
            "Test set accuracy: 9617/10000 (96.17%)\n",
            "////Epoch elapsed time: 17.35205078125////\n",
            "\n",
            "Train Epoch: 31 [0/60000 (0%) / Learning rate:0.001]\tLoss:1.509323  \n",
            "Train Epoch: 31 [51200/60000 (85%) / Learning rate:0.001]\tLoss:1.501997  \n",
            "Test set accuracy: 9636/10000 (96.36%)\n",
            "////Epoch elapsed time: 17.546780109405518////\n",
            "\n",
            "Train Epoch: 32 [0/60000 (0%) / Learning rate:0.001]\tLoss:1.495280  \n",
            "Train Epoch: 32 [51200/60000 (85%) / Learning rate:0.001]\tLoss:1.489067  \n",
            "Test set accuracy: 9644/10000 (96.44%)\n",
            "////Epoch elapsed time: 17.366254091262817////\n",
            "\n",
            "Train Epoch: 33 [0/60000 (0%) / Learning rate:0.001]\tLoss:1.503468  \n",
            "Train Epoch: 33 [51200/60000 (85%) / Learning rate:0.001]\tLoss:1.503431  \n",
            "Test set accuracy: 9614/10000 (96.14%)\n",
            "////Epoch elapsed time: 17.59104585647583////\n",
            "\n",
            "Train Epoch: 34 [0/60000 (0%) / Learning rate:0.0001]\tLoss:1.484241  \n",
            "Train Epoch: 34 [51200/60000 (85%) / Learning rate:0.0001]\tLoss:1.497672  \n",
            "Test set accuracy: 9736/10000 (97.36%)\n",
            "////Epoch elapsed time: 17.279968738555908////\n",
            "\n",
            "Train Epoch: 35 [0/60000 (0%) / Learning rate:0.0001]\tLoss:1.494039  \n",
            "Train Epoch: 35 [51200/60000 (85%) / Learning rate:0.0001]\tLoss:1.501765  \n",
            "Test set accuracy: 9760/10000 (97.6%)\n",
            "////Epoch elapsed time: 17.281022787094116////\n",
            "\n",
            "Train Epoch: 36 [0/60000 (0%) / Learning rate:0.0001]\tLoss:1.473415  \n",
            "Train Epoch: 36 [51200/60000 (85%) / Learning rate:0.0001]\tLoss:1.481988  \n",
            "Test set accuracy: 9762/10000 (97.61999999999999%)\n",
            "////Epoch elapsed time: 17.31114101409912////\n",
            "\n",
            "Train Epoch: 37 [0/60000 (0%) / Learning rate:0.0001]\tLoss:1.497806  \n",
            "Train Epoch: 37 [51200/60000 (85%) / Learning rate:0.0001]\tLoss:1.474530  \n",
            "Test set accuracy: 9772/10000 (97.72%)\n",
            "////Epoch elapsed time: 17.146583318710327////\n",
            "\n",
            "Train Epoch: 38 [0/60000 (0%) / Learning rate:0.0001]\tLoss:1.493628  \n",
            "Train Epoch: 38 [51200/60000 (85%) / Learning rate:0.0001]\tLoss:1.476966  \n",
            "Test set accuracy: 9754/10000 (97.54%)\n",
            "////Epoch elapsed time: 17.303683042526245////\n",
            "\n",
            "Train Epoch: 39 [0/60000 (0%) / Learning rate:0.0001]\tLoss:1.496423  \n",
            "Train Epoch: 39 [51200/60000 (85%) / Learning rate:0.0001]\tLoss:1.483207  \n",
            "Test set accuracy: 9778/10000 (97.78%)\n",
            "////Epoch elapsed time: 17.291346788406372////\n",
            "\n",
            "Train Epoch: 40 [0/60000 (0%) / Learning rate:0.0001]\tLoss:1.470617  \n",
            "Train Epoch: 40 [51200/60000 (85%) / Learning rate:0.0001]\tLoss:1.492040  \n",
            "Test set accuracy: 9773/10000 (97.72999999999999%)\n",
            "////Epoch elapsed time: 17.160146236419678////\n",
            "\n",
            "Train Epoch: 41 [0/60000 (0%) / Learning rate:0.0001]\tLoss:1.473041  \n",
            "Train Epoch: 41 [51200/60000 (85%) / Learning rate:0.0001]\tLoss:1.487607  \n",
            "Test set accuracy: 9764/10000 (97.64%)\n",
            "////Epoch elapsed time: 17.369024515151978////\n",
            "\n",
            "Train Epoch: 42 [0/60000 (0%) / Learning rate:0.0001]\tLoss:1.483515  \n",
            "Train Epoch: 42 [51200/60000 (85%) / Learning rate:0.0001]\tLoss:1.478164  \n",
            "Test set accuracy: 9771/10000 (97.71%)\n",
            "////Epoch elapsed time: 17.291728258132935////\n",
            "\n",
            "Train Epoch: 43 [0/60000 (0%) / Learning rate:0.0001]\tLoss:1.479497  \n",
            "Train Epoch: 43 [51200/60000 (85%) / Learning rate:0.0001]\tLoss:1.481757  \n",
            "Test set accuracy: 9770/10000 (97.7%)\n",
            "////Epoch elapsed time: 17.557304620742798////\n",
            "\n",
            "Train Epoch: 44 [0/60000 (0%) / Learning rate:0.0001]\tLoss:1.479857  \n",
            "Train Epoch: 44 [51200/60000 (85%) / Learning rate:0.0001]\tLoss:1.472485  \n",
            "Test set accuracy: 9775/10000 (97.75%)\n",
            "////Epoch elapsed time: 17.438705921173096////\n",
            "\n",
            "Train Epoch: 45 [0/60000 (0%) / Learning rate:0.0001]\tLoss:1.479768  \n",
            "Train Epoch: 45 [51200/60000 (85%) / Learning rate:0.0001]\tLoss:1.485747  \n",
            "Test set accuracy: 9801/10000 (98.00999999999999%)\n",
            "////Epoch elapsed time: 17.254130840301514////\n",
            "\n",
            "Train Epoch: 46 [0/60000 (0%) / Learning rate:0.0001]\tLoss:1.487438  \n",
            "Train Epoch: 46 [51200/60000 (85%) / Learning rate:0.0001]\tLoss:1.477030  \n",
            "Test set accuracy: 9780/10000 (97.8%)\n",
            "////Epoch elapsed time: 17.391904592514038////\n",
            "\n",
            "Train Epoch: 47 [0/60000 (0%) / Learning rate:0.0001]\tLoss:1.485063  \n",
            "Train Epoch: 47 [51200/60000 (85%) / Learning rate:0.0001]\tLoss:1.497533  \n",
            "Test set accuracy: 9780/10000 (97.8%)\n",
            "////Epoch elapsed time: 17.42774200439453////\n",
            "\n",
            "Train Epoch: 48 [0/60000 (0%) / Learning rate:0.0001]\tLoss:1.479484  \n",
            "Train Epoch: 48 [51200/60000 (85%) / Learning rate:0.0001]\tLoss:1.496532  \n",
            "Test set accuracy: 9794/10000 (97.94%)\n",
            "////Epoch elapsed time: 17.338315963745117////\n",
            "\n",
            "Train Epoch: 49 [0/60000 (0%) / Learning rate:0.0001]\tLoss:1.471355  \n",
            "Train Epoch: 49 [51200/60000 (85%) / Learning rate:0.0001]\tLoss:1.481256  \n",
            "Test set accuracy: 9768/10000 (97.68%)\n",
            "////Epoch elapsed time: 17.368529558181763////\n",
            "\n",
            "Train Epoch: 50 [0/60000 (0%) / Learning rate:0.0001]\tLoss:1.499276  \n",
            "Train Epoch: 50 [51200/60000 (85%) / Learning rate:0.0001]\tLoss:1.474338  \n",
            "Test set accuracy: 9801/10000 (98.00999999999999%)\n",
            "////Epoch elapsed time: 17.344037532806396////\n",
            "\n",
            "Train Epoch: 51 [0/60000 (0%) / Learning rate:0.0001]\tLoss:1.488173  \n",
            "Train Epoch: 51 [51200/60000 (85%) / Learning rate:0.0001]\tLoss:1.469185  \n",
            "Test set accuracy: 9783/10000 (97.83%)\n",
            "////Epoch elapsed time: 17.211628198623657////\n",
            "\n",
            "Train Epoch: 52 [0/60000 (0%) / Learning rate:0.0001]\tLoss:1.490898  \n",
            "Train Epoch: 52 [51200/60000 (85%) / Learning rate:0.0001]\tLoss:1.491873  \n",
            "Test set accuracy: 9788/10000 (97.88%)\n",
            "////Epoch elapsed time: 17.391620874404907////\n",
            "\n",
            "Train Epoch: 53 [0/60000 (0%) / Learning rate:1e-05]\tLoss:1.473851  \n",
            "Train Epoch: 53 [51200/60000 (85%) / Learning rate:1e-05]\tLoss:1.490159  \n",
            "Test set accuracy: 9789/10000 (97.89%)\n",
            "////Epoch elapsed time: 17.26242685317993////\n",
            "\n",
            "Train Epoch: 54 [0/60000 (0%) / Learning rate:1e-05]\tLoss:1.484228  \n",
            "Train Epoch: 54 [51200/60000 (85%) / Learning rate:1e-05]\tLoss:1.477153  \n",
            "Test set accuracy: 9795/10000 (97.95%)\n",
            "////Epoch elapsed time: 17.38466238975525////\n",
            "\n",
            "Train Epoch: 55 [0/60000 (0%) / Learning rate:1e-05]\tLoss:1.472091  \n",
            "Train Epoch: 55 [51200/60000 (85%) / Learning rate:1e-05]\tLoss:1.473629  \n",
            "Test set accuracy: 9816/10000 (98.16%)\n",
            "////Epoch elapsed time: 17.418909311294556////\n",
            "\n",
            "Train Epoch: 56 [0/60000 (0%) / Learning rate:1e-05]\tLoss:1.470483  \n",
            "Train Epoch: 56 [51200/60000 (85%) / Learning rate:1e-05]\tLoss:1.486787  \n",
            "Test set accuracy: 9792/10000 (97.92%)\n",
            "////Epoch elapsed time: 17.362719535827637////\n",
            "\n",
            "Train Epoch: 57 [0/60000 (0%) / Learning rate:1e-05]\tLoss:1.469120  \n",
            "Train Epoch: 57 [51200/60000 (85%) / Learning rate:1e-05]\tLoss:1.483048  \n",
            "Test set accuracy: 9819/10000 (98.19%)\n",
            "////Epoch elapsed time: 17.484977960586548////\n",
            "\n",
            "Train Epoch: 58 [0/60000 (0%) / Learning rate:1e-05]\tLoss:1.483252  \n",
            "Train Epoch: 58 [51200/60000 (85%) / Learning rate:1e-05]\tLoss:1.476634  \n",
            "Test set accuracy: 9820/10000 (98.2%)\n",
            "////Epoch elapsed time: 17.327792644500732////\n",
            "\n",
            "Train Epoch: 59 [0/60000 (0%) / Learning rate:1e-05]\tLoss:1.473295  \n",
            "Train Epoch: 59 [51200/60000 (85%) / Learning rate:1e-05]\tLoss:1.479914  \n",
            "Test set accuracy: 9816/10000 (98.16%)\n",
            "////Epoch elapsed time: 17.354133367538452////\n",
            "\n"
          ]
        }
      ]
    },
    {
      "cell_type": "markdown",
      "metadata": {
        "id": "yhPP8ATu2OXg"
      },
      "source": [
        "### 4. Visualize original inputs and transformed inputs with best pre-trained model  [3points]\n"
      ]
    },
    {
      "cell_type": "code",
      "source": [
        "model = STN_CNN()\n",
        "checkpoint = torch.load('./weights/lab04/best_model_STN.tar')\n",
        "model.load_state_dict(checkpoint['model_state_dict'])"
      ],
      "metadata": {
        "id": "HlM9qcZqLAyi",
        "colab": {
          "base_uri": "https://localhost:8080/"
        },
        "outputId": "63af0238-7298-44dc-bcfc-0dec37250dbc"
      },
      "execution_count": 25,
      "outputs": [
        {
          "output_type": "execute_result",
          "data": {
            "text/plain": [
              "<All keys matched successfully>"
            ]
          },
          "metadata": {},
          "execution_count": 25
        }
      ]
    },
    {
      "cell_type": "markdown",
      "metadata": {
        "id": "h6WD4pCv2OXk"
      },
      "source": [
        "#### Our pretrained model's best accuracy\n"
      ]
    },
    {
      "cell_type": "code",
      "source": [
        "print('Best accuracy of our model with ST module: ', checkpoint['accuracy'])"
      ],
      "metadata": {
        "id": "PUzavN0RLDSG",
        "colab": {
          "base_uri": "https://localhost:8080/"
        },
        "outputId": "63c38034-24f9-40bb-df2b-11042a0c7c68"
      },
      "execution_count": 26,
      "outputs": [
        {
          "output_type": "stream",
          "name": "stdout",
          "text": [
            "Best accuracy of our model with ST module:  98.2\n"
          ]
        }
      ]
    },
    {
      "cell_type": "code",
      "execution_count": 27,
      "metadata": {
        "id": "3F5ppqXP2OXr"
      },
      "outputs": [],
      "source": [
        "# Tensor image to array image\n",
        "def reprocess_image(img):\n",
        "    \n",
        "    img_re = copy.copy(img.cpu().data.numpy())\n",
        "    \n",
        "    mean = [-0.1307,-0.1307,-0.1307]\n",
        "    std = [1/0.3081,1/0.3081,1/0.3081]\n",
        "    \n",
        "    for c in range(3):\n",
        "        img_re[c,:,:] /= std[c]\n",
        "        img_re[c,:,:] -= mean[c]\n",
        "        \n",
        "    img_re[img_re > 1] = 1\n",
        "    img_re[img_re < 0] = 0\n",
        "    \n",
        "    img_re = img_re.transpose(1,2,0)\n",
        "    \n",
        "    return img_re"
      ]
    },
    {
      "cell_type": "markdown",
      "metadata": {
        "id": "suci-kWM2OXt"
      },
      "source": [
        "#### 4.1 Write codes for visualization of original inputsa and transformed inputs [3 points]\n",
        ">- VisualizeSTN class with an input of our pretrained model\n",
        ">- *forward_stn*: Forward pass of our pretrained STN module to produce transformed inputs\n",
        ">- *visualize*: Visualizing the original inputs and the transformed ones in a grid \n",
        ">>1. Forward pass of STN module to produce the transformed inputs\n",
        ">>2. Unnormalize both images using *reprocess_image* function\n",
        ">>3. Make grids of them \n",
        ">>4. Visualize \n"
      ]
    },
    {
      "cell_type": "code",
      "execution_count": 28,
      "metadata": {
        "id": "zcdkczCj2OXu"
      },
      "outputs": [],
      "source": [
        "class VisualizeSTN():\n",
        "    \n",
        "    def __init__(self, model):\n",
        "        self.model = model\n",
        "        self.model.to(device0)\n",
        "        self.model.eval()\n",
        "    \n",
        "    # Output transformed inputs\n",
        "    def forward_stn(self,x):\n",
        "        #############\n",
        "        # CODE HERE #\n",
        "        #############\n",
        "      x = self.model.STN(x)\n",
        "      return x\n",
        "\n",
        "    def visualize(self, img):\n",
        "        #############\n",
        "        # CODE HERE #\n",
        "        #############\n",
        "\n",
        "      # no auto gradient tracking while inference\n",
        "      with torch.no_grad():\n",
        "        # original input images tensor to CPU\n",
        "        input = img.cpu()\n",
        "        # transformed input images tensor to CPU\n",
        "        transformed_input = self.forward_stn(img).cpu()\n",
        "\n",
        "        # create grids of input(original) and output(transformed) images\n",
        "        in_grid = reprocess_image(\n",
        "            v_utils.make_grid(input, nrow = 4))  # select number of grid rows to 4\n",
        "        out_grid = reprocess_image(\n",
        "            v_utils.make_grid(transformed_input, nrow = 4))  # select number of grid rows to 4\n",
        "        \n",
        "        # plot the subplot of grids: original and transformed images\n",
        "        f, subplot = plt.subplots(1, 2)\n",
        "        subplot[0].imshow(in_grid)\n",
        "        subplot[0].set_title('Original Images')\n",
        "        subplot[1].imshow(out_grid)\n",
        "        subplot[1].set_title('Transformed Images')\n",
        "        \n",
        "      plt.ioff()\n",
        "      plt.show()"
      ]
    },
    {
      "cell_type": "code",
      "source": [
        "visualize_stn = VisualizeSTN(model)\n",
        "for i, (image,label) in enumerate(test_loader):\n",
        "    img = image[:16].to(device0)\n",
        "    visualize_stn.visualize(img)\n",
        "    \n",
        "    if (i+1) == 3:\n",
        "        break"
      ],
      "metadata": {
        "colab": {
          "base_uri": "https://localhost:8080/",
          "height": 614
        },
        "id": "-TqkWJds7ij2",
        "outputId": "fd9b4759-a4e8-4f9b-aa7a-91d18bb26bd3"
      },
      "execution_count": 29,
      "outputs": [
        {
          "output_type": "display_data",
          "data": {
            "text/plain": [
              "<Figure size 432x288 with 2 Axes>"
            ],
            "image/png": "[encoded data removed]"
          },
          "metadata": {
            "needs_background": "light"
          }
        },
        {
          "output_type": "display_data",
          "data": {
            "text/plain": [
              "<Figure size 432x288 with 2 Axes>"
            ],
            "image/png": "[encoded data removed]"
          },
          "metadata": {
            "needs_background": "light"
          }
        },
        {
          "output_type": "display_data",
          "data": {
            "text/plain": [
              "<Figure size 432x288 with 2 Axes>"
            ],
            "image/png": "[encoded data removed]"
          },
          "metadata": {
            "needs_background": "light"
          }
        }
      ]
    },
    {
      "cell_type": "markdown",
      "metadata": {
        "id": "HEjhSogi2OX0"
      },
      "source": [
        "### 5.Comparison with the cnn model without ST module [1point]\n",
        ">- Model composed of cnn and classifier modules same with our pretrained CNN_STN model \n",
        ">- Use *cnn* and *classifier* modules you implemented \n"
      ]
    },
    {
      "cell_type": "markdown",
      "metadata": {
        "id": "pecTLkVL2OX0"
      },
      "source": [
        "#### 5.1 Write codes for the model class"
      ]
    },
    {
      "cell_type": "code",
      "execution_count": 116,
      "metadata": {
        "id": "cnhjymoE2OX2"
      },
      "outputs": [],
      "source": [
        "#############\n",
        "# CODE HERE #\n",
        "#############\n",
        "class CNN(nn.Module):\n",
        "  def __init__(self):\n",
        "    super(CNN, self).__init__()\n",
        "\n",
        "    # define CNN module\n",
        "    self.cnn = nn.Sequential(\n",
        "      nn.AvgPool2d(2, stride=2),\n",
        "      nn.Conv2d(1, 32, kernel_size=9, stride=1, padding=0),\n",
        "      nn.MaxPool2d(2, stride=2),\n",
        "      nn.ReLU(True),\n",
        "      nn.Conv2d(32, 64, kernel_size=7, stride=1, padding=0),\n",
        "      nn.MaxPool2d(2, stride=2),\n",
        "      nn.ReLU(True)\n",
        "    )\n",
        "\n",
        "    # define FC classifier module\n",
        "    self.classifier = nn.Sequential(\n",
        "      nn.Linear(1600, 128),\n",
        "      nn.ReLU(True),\n",
        "      nn.Linear(128, 10)\n",
        "    )\n",
        "\n",
        "  # define overall forward pass of CNN model\n",
        "  def forward(self, x):\n",
        "    # apply forward propagation\n",
        "    x = self.cnn(x)\n",
        "    x = x.view(-1, 1600)\n",
        "    x = self.classifier(x)\n",
        "    \n",
        "    return F.softmax(x, dim=1)"
      ]
    },
    {
      "cell_type": "code",
      "execution_count": 117,
      "metadata": {
        "id": "M0dtTNMV2OX4",
        "outputId": "df05c558-1def-4c5d-b7de-282526a74b69",
        "colab": {
          "base_uri": "https://localhost:8080/"
        }
      },
      "outputs": [
        {
          "output_type": "stream",
          "name": "stdout",
          "text": [
            "CNN's state_dict:\n",
            "cnn.1.weight \t torch.Size([32, 1, 9, 9])\n",
            "cnn.1.bias \t torch.Size([32])\n",
            "cnn.4.weight \t torch.Size([64, 32, 7, 7])\n",
            "cnn.4.bias \t torch.Size([64])\n",
            "classifier.0.weight \t torch.Size([128, 1600])\n",
            "classifier.0.bias \t torch.Size([128])\n",
            "classifier.2.weight \t torch.Size([10, 128])\n",
            "classifier.2.bias \t torch.Size([10])\n"
          ]
        }
      ],
      "source": [
        "model_nostn = CNN()\n",
        "\n",
        "print(\"CNN's state_dict:\")\n",
        "for param_tensor in model_nostn.state_dict():\n",
        "    print(param_tensor, \"\\t\", model_nostn.state_dict()[param_tensor].size())"
      ]
    },
    {
      "cell_type": "code",
      "execution_count": 118,
      "metadata": {
        "id": "RTHfuIMJ2OX7"
      },
      "outputs": [],
      "source": [
        "optimizer = torch.optim.Adam(model_nostn.parameters(), lr=learning_rate)\n",
        "scheduler = optim.lr_scheduler.ReduceLROnPlateau(optimizer, mode='max', factor = 0.1, patience=6)\n",
        "\n",
        "def get_lr(optimizer):\n",
        "    for param_group in optimizer.param_groups:\n",
        "        return param_group['lr']"
      ]
    },
    {
      "cell_type": "markdown",
      "metadata": {
        "id": "y-jXzO1Y2OX-",
        "tags": []
      },
      "source": [
        "#### 5.2 Train/Test"
      ]
    },
    {
      "cell_type": "code",
      "source": [
        "print('STEP 6: INSTANTIATE LOSS CLASS')\n",
        "#############\n",
        "# CODE HERE #\n",
        "#############\n",
        "\n",
        "# using CrossEntropyLoss function to evaluate loss\n",
        "criterion = nn.CrossEntropyLoss()\n",
        "\n",
        "# Model to GPU\n",
        "model_nostn.to(device0)\n",
        "\n",
        "\n",
        "print('STEP 7: TRAIN THE MODEL')\n",
        "best_acc = 0\n",
        "num_epoch = 60\n",
        "\n",
        "for epoch in range(num_epoch):\n",
        "    #TRAIN\n",
        "    model_nostn.train()\n",
        "    start = time.time()\n",
        "    correct = 0\n",
        "    \n",
        "    for j,(img,label) in enumerate(train_loader):\n",
        "        \n",
        "        #############\n",
        "        # CODE HERE #\n",
        "        #############\n",
        "\n",
        "        # use GPU for images, labels\n",
        "        x = img.to(device0)\n",
        "        y = label.to(device0)\n",
        "\n",
        "        # clear gradients with respect to parameters\n",
        "        optimizer.zero_grad()\n",
        "\n",
        "        # Forward propagation of model\n",
        "        outputs = model_nostn(x)\n",
        "\n",
        "        # Evaluating loss\n",
        "        loss = criterion(outputs, y)\n",
        "\n",
        "        # get gradients with respect to parameters\n",
        "        loss.backward()\n",
        "\n",
        "        # update parameters\n",
        "        optimizer.step()\n",
        "\n",
        "        if j % 200 == 0:\n",
        "            \n",
        "            print('Train Epoch: {} [{}/{} ({:.0f}%) / Learning rate:{}]\\tLoss:{:.6f}  '.format(\n",
        "                    epoch, j * len(img), train_size,\n",
        "                    100. * j / len(train_loader),get_lr(optimizer), loss.item()))\n",
        "            \n",
        "           \n",
        "                    \n",
        "    #Test\n",
        "    model_nostn.eval()\n",
        "    #############\n",
        "    # CODE HERE #\n",
        "    #############\n",
        "    for img, label in test_loader:\n",
        "      # use GPU for images, labels\n",
        "      x = img.to(device0)\n",
        "      y = label.to(device0)\n",
        "\n",
        "      # Forward propagation of model\n",
        "      outputs = model_nostn(x)\n",
        "\n",
        "      # get prediction \n",
        "      _, predicted = torch.max(outputs.data, 1)\n",
        "\n",
        "      # sum up correct number of predicted labels\n",
        "      if torch.cuda.is_available():\n",
        "        correct += (predicted.cpu() == y.cpu()).sum()\n",
        "      else:\n",
        "        correct += (predicted == y).sum()\n",
        "\n",
        "    # calculate and print the test accuracy of this epoch\n",
        "    accuracy = correct.item() / 10000 * 100\n",
        "    print(f'Test set accuracy: {correct.item()}/10000 ({accuracy}%)')\n",
        "    print('////Epoch elapsed time: {}////\\n'.format(time.time() - start))  \n",
        "    \n",
        "    # updating the best accuracy\n",
        "    if accuracy > best_acc :\n",
        "        best_acc = accuracy\n",
        "    \n",
        "    scheduler.step(accuracy)"
      ],
      "metadata": {
        "colab": {
          "base_uri": "https://localhost:8080/"
        },
        "id": "jzw7_A2S9vgH",
        "outputId": "9e4a9999-37f5-4e87-c518-9de6733d2702"
      },
      "execution_count": 119,
      "outputs": [
        {
          "output_type": "stream",
          "name": "stdout",
          "text": [
            "STEP 6: INSTANTIATE LOSS CLASS\n",
            "STEP 7: TRAIN THE MODEL\n",
            "Train Epoch: 0 [0/60000 (0%) / Learning rate:0.001]\tLoss:2.301955  \n",
            "Train Epoch: 0 [51200/60000 (85%) / Learning rate:0.001]\tLoss:2.111056  \n",
            "Test set accuracy: 4378/10000 (43.78%)\n",
            "////Epoch elapsed time: 17.565263748168945////\n",
            "\n",
            "Train Epoch: 1 [0/60000 (0%) / Learning rate:0.001]\tLoss:2.061317  \n",
            "Train Epoch: 1 [51200/60000 (85%) / Learning rate:0.001]\tLoss:1.814774  \n",
            "Test set accuracy: 6689/10000 (66.89%)\n",
            "////Epoch elapsed time: 17.75007200241089////\n",
            "\n",
            "Train Epoch: 2 [0/60000 (0%) / Learning rate:0.001]\tLoss:1.786275  \n",
            "Train Epoch: 2 [51200/60000 (85%) / Learning rate:0.001]\tLoss:1.716251  \n",
            "Test set accuracy: 7273/10000 (72.72999999999999%)\n",
            "////Epoch elapsed time: 17.599939823150635////\n",
            "\n",
            "Train Epoch: 3 [0/60000 (0%) / Learning rate:0.001]\tLoss:1.743196  \n",
            "Train Epoch: 3 [51200/60000 (85%) / Learning rate:0.001]\tLoss:1.685829  \n",
            "Test set accuracy: 7589/10000 (75.89%)\n",
            "////Epoch elapsed time: 17.6587917804718////\n",
            "\n",
            "Train Epoch: 4 [0/60000 (0%) / Learning rate:0.001]\tLoss:1.732621  \n",
            "Train Epoch: 4 [51200/60000 (85%) / Learning rate:0.001]\tLoss:1.691020  \n",
            "Test set accuracy: 8326/10000 (83.26%)\n",
            "////Epoch elapsed time: 17.832037210464478////\n",
            "\n",
            "Train Epoch: 5 [0/60000 (0%) / Learning rate:0.001]\tLoss:1.606690  \n",
            "Train Epoch: 5 [51200/60000 (85%) / Learning rate:0.001]\tLoss:1.629729  \n",
            "Test set accuracy: 8565/10000 (85.65%)\n",
            "////Epoch elapsed time: 17.790863513946533////\n",
            "\n",
            "Train Epoch: 6 [0/60000 (0%) / Learning rate:0.001]\tLoss:1.618555  \n",
            "Train Epoch: 6 [51200/60000 (85%) / Learning rate:0.001]\tLoss:1.603963  \n",
            "Test set accuracy: 8811/10000 (88.11%)\n",
            "////Epoch elapsed time: 17.673870086669922////\n",
            "\n",
            "Train Epoch: 7 [0/60000 (0%) / Learning rate:0.001]\tLoss:1.580733  \n",
            "Train Epoch: 7 [51200/60000 (85%) / Learning rate:0.001]\tLoss:1.576655  \n",
            "Test set accuracy: 8820/10000 (88.2%)\n",
            "////Epoch elapsed time: 17.52746844291687////\n",
            "\n",
            "Train Epoch: 8 [0/60000 (0%) / Learning rate:0.001]\tLoss:1.610893  \n",
            "Train Epoch: 8 [51200/60000 (85%) / Learning rate:0.001]\tLoss:1.555815  \n",
            "Test set accuracy: 8989/10000 (89.89%)\n",
            "////Epoch elapsed time: 17.715253353118896////\n",
            "\n",
            "Train Epoch: 9 [0/60000 (0%) / Learning rate:0.001]\tLoss:1.588281  \n",
            "Train Epoch: 9 [51200/60000 (85%) / Learning rate:0.001]\tLoss:1.538754  \n",
            "Test set accuracy: 9043/10000 (90.42999999999999%)\n",
            "////Epoch elapsed time: 17.7155544757843////\n",
            "\n",
            "Train Epoch: 10 [0/60000 (0%) / Learning rate:0.001]\tLoss:1.573017  \n",
            "Train Epoch: 10 [51200/60000 (85%) / Learning rate:0.001]\tLoss:1.566347  \n",
            "Test set accuracy: 9143/10000 (91.43%)\n",
            "////Epoch elapsed time: 17.456838130950928////\n",
            "\n",
            "Train Epoch: 11 [0/60000 (0%) / Learning rate:0.001]\tLoss:1.583346  \n",
            "Train Epoch: 11 [51200/60000 (85%) / Learning rate:0.001]\tLoss:1.555982  \n",
            "Test set accuracy: 9145/10000 (91.45%)\n",
            "////Epoch elapsed time: 17.57511329650879////\n",
            "\n",
            "Train Epoch: 12 [0/60000 (0%) / Learning rate:0.001]\tLoss:1.552195  \n",
            "Train Epoch: 12 [51200/60000 (85%) / Learning rate:0.001]\tLoss:1.540890  \n",
            "Test set accuracy: 9150/10000 (91.5%)\n",
            "////Epoch elapsed time: 18.094099521636963////\n",
            "\n",
            "Train Epoch: 13 [0/60000 (0%) / Learning rate:0.001]\tLoss:1.524449  \n",
            "Train Epoch: 13 [51200/60000 (85%) / Learning rate:0.001]\tLoss:1.539648  \n",
            "Test set accuracy: 9173/10000 (91.73%)\n",
            "////Epoch elapsed time: 17.62551188468933////\n",
            "\n",
            "Train Epoch: 14 [0/60000 (0%) / Learning rate:0.001]\tLoss:1.542037  \n",
            "Train Epoch: 14 [51200/60000 (85%) / Learning rate:0.001]\tLoss:1.583586  \n",
            "Test set accuracy: 9219/10000 (92.19000000000001%)\n",
            "////Epoch elapsed time: 17.72352910041809////\n",
            "\n",
            "Train Epoch: 15 [0/60000 (0%) / Learning rate:0.001]\tLoss:1.569275  \n",
            "Train Epoch: 15 [51200/60000 (85%) / Learning rate:0.001]\tLoss:1.552613  \n",
            "Test set accuracy: 9261/10000 (92.61%)\n",
            "////Epoch elapsed time: 18.381335496902466////\n",
            "\n",
            "Train Epoch: 16 [0/60000 (0%) / Learning rate:0.001]\tLoss:1.523211  \n",
            "Train Epoch: 16 [51200/60000 (85%) / Learning rate:0.001]\tLoss:1.548014  \n",
            "Test set accuracy: 9321/10000 (93.21000000000001%)\n",
            "////Epoch elapsed time: 17.769639015197754////\n",
            "\n",
            "Train Epoch: 17 [0/60000 (0%) / Learning rate:0.001]\tLoss:1.526865  \n",
            "Train Epoch: 17 [51200/60000 (85%) / Learning rate:0.001]\tLoss:1.558542  \n",
            "Test set accuracy: 9231/10000 (92.31%)\n",
            "////Epoch elapsed time: 18.063605785369873////\n",
            "\n",
            "Train Epoch: 18 [0/60000 (0%) / Learning rate:0.001]\tLoss:1.523398  \n",
            "Train Epoch: 18 [51200/60000 (85%) / Learning rate:0.001]\tLoss:1.515852  \n",
            "Test set accuracy: 9276/10000 (92.75999999999999%)\n",
            "////Epoch elapsed time: 17.52118992805481////\n",
            "\n",
            "Train Epoch: 19 [0/60000 (0%) / Learning rate:0.001]\tLoss:1.535755  \n",
            "Train Epoch: 19 [51200/60000 (85%) / Learning rate:0.001]\tLoss:1.547200  \n",
            "Test set accuracy: 9328/10000 (93.28%)\n",
            "////Epoch elapsed time: 17.672460079193115////\n",
            "\n",
            "Train Epoch: 20 [0/60000 (0%) / Learning rate:0.001]\tLoss:1.550819  \n",
            "Train Epoch: 20 [51200/60000 (85%) / Learning rate:0.001]\tLoss:1.514771  \n",
            "Test set accuracy: 9182/10000 (91.82000000000001%)\n",
            "////Epoch elapsed time: 17.74060082435608////\n",
            "\n",
            "Train Epoch: 21 [0/60000 (0%) / Learning rate:0.001]\tLoss:1.569875  \n",
            "Train Epoch: 21 [51200/60000 (85%) / Learning rate:0.001]\tLoss:1.558536  \n",
            "Test set accuracy: 9395/10000 (93.95%)\n",
            "////Epoch elapsed time: 17.961236715316772////\n",
            "\n",
            "Train Epoch: 22 [0/60000 (0%) / Learning rate:0.001]\tLoss:1.539002  \n",
            "Train Epoch: 22 [51200/60000 (85%) / Learning rate:0.001]\tLoss:1.526679  \n",
            "Test set accuracy: 9377/10000 (93.77%)\n",
            "////Epoch elapsed time: 18.058141708374023////\n",
            "\n",
            "Train Epoch: 23 [0/60000 (0%) / Learning rate:0.001]\tLoss:1.542093  \n",
            "Train Epoch: 23 [51200/60000 (85%) / Learning rate:0.001]\tLoss:1.531028  \n",
            "Test set accuracy: 9384/10000 (93.84%)\n",
            "////Epoch elapsed time: 18.424019813537598////\n",
            "\n",
            "Train Epoch: 24 [0/60000 (0%) / Learning rate:0.001]\tLoss:1.522738  \n",
            "Train Epoch: 24 [51200/60000 (85%) / Learning rate:0.001]\tLoss:1.526344  \n",
            "Test set accuracy: 9413/10000 (94.13%)\n",
            "////Epoch elapsed time: 18.381734132766724////\n",
            "\n",
            "Train Epoch: 25 [0/60000 (0%) / Learning rate:0.001]\tLoss:1.511205  \n",
            "Train Epoch: 25 [51200/60000 (85%) / Learning rate:0.001]\tLoss:1.524286  \n",
            "Test set accuracy: 9241/10000 (92.41%)\n",
            "////Epoch elapsed time: 18.215206146240234////\n",
            "\n",
            "Train Epoch: 26 [0/60000 (0%) / Learning rate:0.001]\tLoss:1.530085  \n",
            "Train Epoch: 26 [51200/60000 (85%) / Learning rate:0.001]\tLoss:1.533832  \n",
            "Test set accuracy: 9409/10000 (94.08999999999999%)\n",
            "////Epoch elapsed time: 18.260231494903564////\n",
            "\n",
            "Train Epoch: 27 [0/60000 (0%) / Learning rate:0.001]\tLoss:1.533496  \n",
            "Train Epoch: 27 [51200/60000 (85%) / Learning rate:0.001]\tLoss:1.504601  \n",
            "Test set accuracy: 9468/10000 (94.67999999999999%)\n",
            "////Epoch elapsed time: 17.772109985351562////\n",
            "\n",
            "Train Epoch: 28 [0/60000 (0%) / Learning rate:0.001]\tLoss:1.495850  \n",
            "Train Epoch: 28 [51200/60000 (85%) / Learning rate:0.001]\tLoss:1.543415  \n",
            "Test set accuracy: 9348/10000 (93.47999999999999%)\n",
            "////Epoch elapsed time: 18.106792211532593////\n",
            "\n",
            "Train Epoch: 29 [0/60000 (0%) / Learning rate:0.001]\tLoss:1.530534  \n",
            "Train Epoch: 29 [51200/60000 (85%) / Learning rate:0.001]\tLoss:1.518502  \n",
            "Test set accuracy: 9405/10000 (94.05%)\n",
            "////Epoch elapsed time: 18.001054048538208////\n",
            "\n",
            "Train Epoch: 30 [0/60000 (0%) / Learning rate:0.001]\tLoss:1.500126  \n",
            "Train Epoch: 30 [51200/60000 (85%) / Learning rate:0.001]\tLoss:1.514486  \n",
            "Test set accuracy: 9436/10000 (94.36%)\n",
            "////Epoch elapsed time: 17.82623600959778////\n",
            "\n",
            "Train Epoch: 31 [0/60000 (0%) / Learning rate:0.001]\tLoss:1.521157  \n",
            "Train Epoch: 31 [51200/60000 (85%) / Learning rate:0.001]\tLoss:1.515451  \n",
            "Test set accuracy: 9326/10000 (93.26%)\n",
            "////Epoch elapsed time: 18.12597107887268////\n",
            "\n",
            "Train Epoch: 32 [0/60000 (0%) / Learning rate:0.001]\tLoss:1.521536  \n",
            "Train Epoch: 32 [51200/60000 (85%) / Learning rate:0.001]\tLoss:1.524722  \n",
            "Test set accuracy: 9412/10000 (94.12%)\n",
            "////Epoch elapsed time: 17.752843141555786////\n",
            "\n",
            "Train Epoch: 33 [0/60000 (0%) / Learning rate:0.001]\tLoss:1.514534  \n",
            "Train Epoch: 33 [51200/60000 (85%) / Learning rate:0.001]\tLoss:1.516783  \n",
            "Test set accuracy: 9423/10000 (94.23%)\n",
            "////Epoch elapsed time: 17.879743576049805////\n",
            "\n",
            "Train Epoch: 34 [0/60000 (0%) / Learning rate:0.001]\tLoss:1.507746  \n",
            "Train Epoch: 34 [51200/60000 (85%) / Learning rate:0.001]\tLoss:1.514152  \n",
            "Test set accuracy: 9370/10000 (93.7%)\n",
            "////Epoch elapsed time: 18.163750886917114////\n",
            "\n",
            "Train Epoch: 35 [0/60000 (0%) / Learning rate:0.0001]\tLoss:1.521607  \n",
            "Train Epoch: 35 [51200/60000 (85%) / Learning rate:0.0001]\tLoss:1.502988  \n",
            "Test set accuracy: 9557/10000 (95.57%)\n",
            "////Epoch elapsed time: 18.091213941574097////\n",
            "\n",
            "Train Epoch: 36 [0/60000 (0%) / Learning rate:0.0001]\tLoss:1.504377  \n",
            "Train Epoch: 36 [51200/60000 (85%) / Learning rate:0.0001]\tLoss:1.495412  \n",
            "Test set accuracy: 9565/10000 (95.65%)\n",
            "////Epoch elapsed time: 17.924749612808228////\n",
            "\n",
            "Train Epoch: 37 [0/60000 (0%) / Learning rate:0.0001]\tLoss:1.498044  \n",
            "Train Epoch: 37 [51200/60000 (85%) / Learning rate:0.0001]\tLoss:1.508894  \n",
            "Test set accuracy: 9593/10000 (95.93%)\n",
            "////Epoch elapsed time: 18.147502660751343////\n",
            "\n",
            "Train Epoch: 38 [0/60000 (0%) / Learning rate:0.0001]\tLoss:1.510209  \n",
            "Train Epoch: 38 [51200/60000 (85%) / Learning rate:0.0001]\tLoss:1.493254  \n",
            "Test set accuracy: 9540/10000 (95.39999999999999%)\n",
            "////Epoch elapsed time: 17.77875804901123////\n",
            "\n",
            "Train Epoch: 39 [0/60000 (0%) / Learning rate:0.0001]\tLoss:1.511463  \n",
            "Train Epoch: 39 [51200/60000 (85%) / Learning rate:0.0001]\tLoss:1.508372  \n",
            "Test set accuracy: 9585/10000 (95.85000000000001%)\n",
            "////Epoch elapsed time: 17.666488647460938////\n",
            "\n",
            "Train Epoch: 40 [0/60000 (0%) / Learning rate:0.0001]\tLoss:1.499233  \n",
            "Train Epoch: 40 [51200/60000 (85%) / Learning rate:0.0001]\tLoss:1.512763  \n",
            "Test set accuracy: 9573/10000 (95.73%)\n",
            "////Epoch elapsed time: 17.7429141998291////\n",
            "\n",
            "Train Epoch: 41 [0/60000 (0%) / Learning rate:0.0001]\tLoss:1.495847  \n",
            "Train Epoch: 41 [51200/60000 (85%) / Learning rate:0.0001]\tLoss:1.506387  \n",
            "Test set accuracy: 9536/10000 (95.36%)\n",
            "////Epoch elapsed time: 17.856194496154785////\n",
            "\n",
            "Train Epoch: 42 [0/60000 (0%) / Learning rate:0.0001]\tLoss:1.499078  \n",
            "Train Epoch: 42 [51200/60000 (85%) / Learning rate:0.0001]\tLoss:1.498890  \n",
            "Test set accuracy: 9569/10000 (95.69%)\n",
            "////Epoch elapsed time: 17.559294939041138////\n",
            "\n",
            "Train Epoch: 43 [0/60000 (0%) / Learning rate:0.0001]\tLoss:1.485192  \n",
            "Train Epoch: 43 [51200/60000 (85%) / Learning rate:0.0001]\tLoss:1.495669  \n",
            "Test set accuracy: 9600/10000 (96.0%)\n",
            "////Epoch elapsed time: 17.61839532852173////\n",
            "\n",
            "Train Epoch: 44 [0/60000 (0%) / Learning rate:0.0001]\tLoss:1.500437  \n",
            "Train Epoch: 44 [51200/60000 (85%) / Learning rate:0.0001]\tLoss:1.509335  \n",
            "Test set accuracy: 9548/10000 (95.48%)\n",
            "////Epoch elapsed time: 17.66842269897461////\n",
            "\n",
            "Train Epoch: 45 [0/60000 (0%) / Learning rate:0.0001]\tLoss:1.520441  \n",
            "Train Epoch: 45 [51200/60000 (85%) / Learning rate:0.0001]\tLoss:1.522483  \n",
            "Test set accuracy: 9581/10000 (95.81%)\n",
            "////Epoch elapsed time: 17.610485076904297////\n",
            "\n",
            "Train Epoch: 46 [0/60000 (0%) / Learning rate:0.0001]\tLoss:1.503061  \n",
            "Train Epoch: 46 [51200/60000 (85%) / Learning rate:0.0001]\tLoss:1.492090  \n",
            "Test set accuracy: 9602/10000 (96.02000000000001%)\n",
            "////Epoch elapsed time: 17.59720468521118////\n",
            "\n",
            "Train Epoch: 47 [0/60000 (0%) / Learning rate:0.0001]\tLoss:1.512201  \n",
            "Train Epoch: 47 [51200/60000 (85%) / Learning rate:0.0001]\tLoss:1.506482  \n",
            "Test set accuracy: 9585/10000 (95.85000000000001%)\n",
            "////Epoch elapsed time: 17.739519357681274////\n",
            "\n",
            "Train Epoch: 48 [0/60000 (0%) / Learning rate:0.0001]\tLoss:1.501221  \n",
            "Train Epoch: 48 [51200/60000 (85%) / Learning rate:0.0001]\tLoss:1.499656  \n",
            "Test set accuracy: 9594/10000 (95.94%)\n",
            "////Epoch elapsed time: 17.598487854003906////\n",
            "\n",
            "Train Epoch: 49 [0/60000 (0%) / Learning rate:0.0001]\tLoss:1.505413  \n",
            "Train Epoch: 49 [51200/60000 (85%) / Learning rate:0.0001]\tLoss:1.510489  \n",
            "Test set accuracy: 9603/10000 (96.03%)\n",
            "////Epoch elapsed time: 17.561770915985107////\n",
            "\n",
            "Train Epoch: 50 [0/60000 (0%) / Learning rate:0.0001]\tLoss:1.518828  \n",
            "Train Epoch: 50 [51200/60000 (85%) / Learning rate:0.0001]\tLoss:1.523703  \n",
            "Test set accuracy: 9581/10000 (95.81%)\n",
            "////Epoch elapsed time: 17.973008155822754////\n",
            "\n",
            "Train Epoch: 51 [0/60000 (0%) / Learning rate:0.0001]\tLoss:1.495666  \n",
            "Train Epoch: 51 [51200/60000 (85%) / Learning rate:0.0001]\tLoss:1.498085  \n",
            "Test set accuracy: 9595/10000 (95.95%)\n",
            "////Epoch elapsed time: 17.762887954711914////\n",
            "\n",
            "Train Epoch: 52 [0/60000 (0%) / Learning rate:0.0001]\tLoss:1.499480  \n",
            "Train Epoch: 52 [51200/60000 (85%) / Learning rate:0.0001]\tLoss:1.519435  \n",
            "Test set accuracy: 9564/10000 (95.64%)\n",
            "////Epoch elapsed time: 17.597533464431763////\n",
            "\n",
            "Train Epoch: 53 [0/60000 (0%) / Learning rate:0.0001]\tLoss:1.525797  \n",
            "Train Epoch: 53 [51200/60000 (85%) / Learning rate:0.0001]\tLoss:1.482444  \n",
            "Test set accuracy: 9599/10000 (95.99%)\n",
            "////Epoch elapsed time: 17.724143981933594////\n",
            "\n",
            "Train Epoch: 54 [0/60000 (0%) / Learning rate:0.0001]\tLoss:1.504776  \n",
            "Train Epoch: 54 [51200/60000 (85%) / Learning rate:0.0001]\tLoss:1.502516  \n",
            "Test set accuracy: 9587/10000 (95.87%)\n",
            "////Epoch elapsed time: 17.870131492614746////\n",
            "\n",
            "Train Epoch: 55 [0/60000 (0%) / Learning rate:0.0001]\tLoss:1.502738  \n",
            "Train Epoch: 55 [51200/60000 (85%) / Learning rate:0.0001]\tLoss:1.508886  \n",
            "Test set accuracy: 9623/10000 (96.23%)\n",
            "////Epoch elapsed time: 17.562530755996704////\n",
            "\n",
            "Train Epoch: 56 [0/60000 (0%) / Learning rate:0.0001]\tLoss:1.504903  \n",
            "Train Epoch: 56 [51200/60000 (85%) / Learning rate:0.0001]\tLoss:1.504373  \n",
            "Test set accuracy: 9597/10000 (95.97%)\n",
            "////Epoch elapsed time: 17.615912675857544////\n",
            "\n",
            "Train Epoch: 57 [0/60000 (0%) / Learning rate:0.0001]\tLoss:1.488791  \n",
            "Train Epoch: 57 [51200/60000 (85%) / Learning rate:0.0001]\tLoss:1.508694  \n",
            "Test set accuracy: 9577/10000 (95.77%)\n",
            "////Epoch elapsed time: 17.63878846168518////\n",
            "\n",
            "Train Epoch: 58 [0/60000 (0%) / Learning rate:0.0001]\tLoss:1.522775  \n",
            "Train Epoch: 58 [51200/60000 (85%) / Learning rate:0.0001]\tLoss:1.499462  \n",
            "Test set accuracy: 9593/10000 (95.93%)\n",
            "////Epoch elapsed time: 17.744056224822998////\n",
            "\n",
            "Train Epoch: 59 [0/60000 (0%) / Learning rate:0.0001]\tLoss:1.521124  \n",
            "Train Epoch: 59 [51200/60000 (85%) / Learning rate:0.0001]\tLoss:1.501411  \n",
            "Test set accuracy: 9603/10000 (96.03%)\n",
            "////Epoch elapsed time: 17.59568738937378////\n",
            "\n"
          ]
        }
      ]
    },
    {
      "cell_type": "markdown",
      "metadata": {
        "id": "EgPo5F4x2OYC"
      },
      "source": [
        "#### Best accuracy of the model without ST module\n"
      ]
    },
    {
      "cell_type": "code",
      "source": [
        "print('Best accuracy of our model without ST module: ', best_acc)"
      ],
      "metadata": {
        "colab": {
          "base_uri": "https://localhost:8080/"
        },
        "id": "6xxzk37_9xED",
        "outputId": "cd6fe0ad-8830-4667-e859-4072f2e3ea3a"
      },
      "execution_count": 120,
      "outputs": [
        {
          "output_type": "stream",
          "name": "stdout",
          "text": [
            "Best accuracy of our model without ST module:  96.23\n"
          ]
        }
      ]
    },
    {
      "cell_type": "markdown",
      "metadata": {
        "id": "LLpVgYys2OYF"
      },
      "source": [
        "### *References*\n",
        "[1] https://arxiv.org/pdf/1506.02025.pdf <br>\n",
        "[2] https://en.wikipedia.org/wiki/Affine_transformation <br>\n",
        "[3] https://en.wikipedia.org/wiki/Transformation_matrix#Affine_transformations <br>\n",
        "[4] https://pytorch.org/docs/stable/nn.html#affine-grid <br>\n",
        "[5] https://pytorch.org/docs/stable/nn.html#torch.nn.functional.grid_sample <br>\n",
        "[6] http://cs231n.github.io/neural-networks-3/#anneal <br>\n",
        "[7] https://pytorch.org/docs/stable/optim.html#how-to-adjust-learning-rate <br>"
      ]
    },
    {
      "cell_type": "markdown",
      "source": [
        "#Discussion\n",
        "\n",
        "- STN을 CNN에 적용한 모델과 그렇지 않은 모델 간의 성능을 비교했을 때, test set에서 최대 accuracy가 각각 98.2%, 96.23%로, STN을 적용한 모델이 그렇지 않은 모델보다 1.97% 뛰어난 성능을 보였다. 이때, STN의 적용 유무 이외의 모든 조건들(CNN model의 구조, hyperparameters, dataset 등)은 동일하게 주어졌다.\n",
        "- 이는 STN을 적용시킨 모델에서 CNN에 들어가는 input이 \b위에서 visualize한 것처럼, 원래 무작위로 변형되어 주어진 MNIST input data들을 STN을 통해 CNN이 학습하기 더 유리한 형태로 transform시켰기 때문이라고 할 수 있다. \n",
        "- STN을 적용시킨 network와 그렇지 않은 모델을 비교했을 때, 한 epoch당 경과한 시간은 STN을 적용시킨 모델이 평균적으로 약 0.2초 정도 더 짧은 것으로 나타난다. \n",
        "- 이러한 결과는 논문에도 언급되어 있듯이, STN에서 요구하는 행렬 연산 자체의 연산량\b도 크지 않을 뿐더러, STN을 통해 생성된 transform된 input은 CNN이 학습하기 용이한 feature들을 뽑아 downsample된 형태이기 때문에 이후 CNN에서 학습될 때 연산 및 처리되는 속도가 더 빠르게 나타난 것으로 보인다. \n",
        "- STN은 CNN과 합쳐졌음에도 하나의 연결된 모듈로서 backward propagation을 통해 end-to-end training이 가능했다. 이는 STN의 각각의 layer들과 그 안의 parameter들이 미분 가능한 형태이기 때문이다. 따라서, 이후 CNN이 학습하기 좋은 형태로 transform하는 최적의 방법을 backward propagation을 통해 학습한다. "
      ],
      "metadata": {
        "id": "eap7XclzDmmF"
      }
    },
    {
      "cell_type": "code",
      "source": [],
      "metadata": {
        "id": "eiQ-U4u6Pn5V"
      },
      "execution_count": null,
      "outputs": []
    }
  ],
  "metadata": {
    "colab": {
      "provenance": [],
      "machine_shape": "hm"
    },
    "kernelspec": {
      "display_name": "Python 3 (ipykernel)",
      "language": "python",
      "name": "python3"
    },
    "language_info": {
      "codemirror_mode": {
        "name": "ipython",
        "version": 3
      },
      "file_extension": ".py",
      "mimetype": "text/x-python",
      "name": "python",
      "nbconvert_exporter": "python",
      "pygments_lexer": "ipython3",
      "version": "3.7.10"
    },
    "accelerator": "GPU",
    "gpuClass": "premium"
  },
  "nbformat": 4,
  "nbformat_minor": 0
}
