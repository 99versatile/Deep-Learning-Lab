{
 "cells": [
  {
   "cell_type": "markdown",
   "metadata": {
    "id": "clIFh_guHNFv"
   },
   "source": [
    "> ### EEE4423: Deep Learning Lab\n",
    "\n",
    "# LAB \\#11: Character Generation using LSTM"
   ]
  },
  {
   "cell_type": "markdown",
   "metadata": {
    "id": "Un-_JnG1HNF1"
   },
   "source": [
    "<h4><div style=\"text-align: right\"> Due date: May 19, 2023. </div> <br>\n",
    "<div style=\"text-align: right\"> Please upload your file @ LearnUs by 9 AM in the form of [ID_Name_Lab11.ipynb]. </div></h4>\n",
    "\n",
    "### *Instructions:*\n",
    "- Write a program implementing a particular algorithm to solve a given problem.   \n",
    "- <span style=\"color:red\">**Report and discuss your results. Analyze the algorithm, theoretically and empirically.**</span> \n",
    "- Each team must write their own answers and codes (<span style=\"color:red\">**if not you will get a F grade**</span>)."
   ]
  },
  {
   "cell_type": "markdown",
   "metadata": {
    "id": "Nats-XhJHNF2"
   },
   "source": [
    "<h2><span style=\"color:blue\">[2018142102] [Euijin Hong]</span> </h2>"
   ]
  },
  {
   "cell_type": "code",
   "execution_count": 1,
   "metadata": {
    "id": "DUNE2wXfHNF2",
    "outputId": "cf8804ce-9063-463d-988f-cd900bd149b1",
    "tags": []
   },
   "outputs": [
    {
     "name": "stdout",
     "output_type": "stream",
     "text": [
      "This code is written at 2023-05-14 07:41:49.065993\n"
     ]
    }
   ],
   "source": [
    "import datetime\n",
    "print(\"This code is written at \" + str(datetime.datetime.now()))"
   ]
  },
  {
   "cell_type": "code",
   "execution_count": 2,
   "metadata": {
    "tags": []
   },
   "outputs": [
    {
     "name": "stdout",
     "output_type": "stream",
     "text": [
      "Collecting unidecode\n",
      "  Downloading Unidecode-1.3.6-py3-none-any.whl (235 kB)\n",
      "\u001b[2K     \u001b[90m━━━━━━━━━━━━━━━━━━━━━━━━━━━━━━━━━━━━━━━\u001b[0m \u001b[32m235.9/235.9 kB\u001b[0m \u001b[31m9.7 MB/s\u001b[0m eta \u001b[36m0:00:00\u001b[0m\n",
      "\u001b[?25hInstalling collected packages: unidecode\n",
      "\u001b[33m  WARNING: The script unidecode is installed in '/root/.local/bin' which is not on PATH.\n",
      "  Consider adding this directory to PATH or, if you prefer to suppress this warning, use --no-warn-script-location.\u001b[0m\u001b[33m\n",
      "\u001b[0mSuccessfully installed unidecode-1.3.6\n",
      "\u001b[33mWARNING: Running pip as the 'root' user can result in broken permissions and conflicting behaviour with the system package manager. It is recommended to use a virtual environment instead: https://pip.pypa.io/warnings/venv\u001b[0m\u001b[33m\n",
      "\u001b[0m"
     ]
    }
   ],
   "source": [
    "!pip install unidecode --user"
   ]
  },
  {
   "cell_type": "code",
   "execution_count": 1,
   "metadata": {
    "id": "J8vQvyjWHNF5",
    "tags": []
   },
   "outputs": [],
   "source": [
    "import unidecode\n",
    "import string\n",
    "import random\n",
    "import re\n",
    "import os\n",
    "\n",
    "import torch\n",
    "import torch.nn as nn\n",
    "from torch.autograd import Variable"
   ]
  },
  {
   "cell_type": "markdown",
   "metadata": {
    "id": "O9OP9XM9HNF5"
   },
   "source": [
    "These sorts of generative models form the basis of machine translation, image captioning, question answering and more.\n",
    "\n",
    "<img src=\"http://drive.google.com/uc?export=view&id=16E7HG_dCyfTo9u9qrrhp2eClq6xK6-f_\" style=\"width: 600px;\"/>"
   ]
  },
  {
   "cell_type": "markdown",
   "metadata": {
    "id": "6YQl92mwHNF6"
   },
   "source": [
    "### 1. Prepare data\n",
    "\n",
    "The file we are using is a plain text file. We turn any potential unicode characters into plain ASCII by using the `unidecode` package"
   ]
  },
  {
   "cell_type": "markdown",
   "metadata": {
    "id": "ymNU_-ZGHNF6"
   },
   "source": [
    "<img src=\"http://drive.google.com/uc?export=view&id=171lX3vxj60AQNScQi872BHx2Rz6J7-3J\" />"
   ]
  },
  {
   "cell_type": "code",
   "execution_count": 2,
   "metadata": {
    "id": "TFK9sT_1HNF6",
    "outputId": "1bbcf9b6-7367-4aba-ff59-7a3e6134441d",
    "tags": []
   },
   "outputs": [
    {
     "name": "stdout",
     "output_type": "stream",
     "text": [
      "file_len = 4063\n"
     ]
    }
   ],
   "source": [
    "file = unidecode.unidecode(open('./dataset-dllab/lab11/lose_yourself_eminem.txt').read())\n",
    "file_len = len(file)\n",
    "print('file_len =', file_len)"
   ]
  },
  {
   "cell_type": "markdown",
   "metadata": {
    "id": "TUyRw-C2HNF6"
   },
   "source": [
    "To make inputs out of this big string of data, we will be splitting it into chunks."
   ]
  },
  {
   "cell_type": "code",
   "execution_count": 3,
   "metadata": {
    "id": "6nPqv8tuHNF7",
    "outputId": "2a05a019-0267-43fd-9e6a-cbcf9c5ac4c3",
    "tags": []
   },
   "outputs": [
    {
     "name": "stdout",
     "output_type": "stream",
     "text": [
      "r\n",
      "The souls escaping, through this hole that its gaping\n",
      "This world is mine for the taking\n",
      "Make me king, as we move toward a, new world order\n",
      "A normal life is borin', but super stardom's close to post m\n"
     ]
    }
   ],
   "source": [
    "chunk_len = 200\n",
    "\n",
    "def random_chunk():\n",
    "    start_index = random.randint(0, file_len - chunk_len)\n",
    "    end_index = start_index + chunk_len + 1\n",
    "    return file[start_index:end_index]\n",
    "\n",
    "print(random_chunk())"
   ]
  },
  {
   "cell_type": "markdown",
   "metadata": {
    "id": "ScRzeDr8HNF9"
   },
   "source": [
    "Each chunk will be turned into a tensor by looping through the characters of the string and looking up the index of each character in `all_characters`."
   ]
  },
  {
   "cell_type": "code",
   "execution_count": 4,
   "metadata": {
    "id": "TylqhpuyHNF9",
    "outputId": "9e4b9d7e-bea0-41a5-d853-caaa711be679",
    "tags": []
   },
   "outputs": [
    {
     "name": "stdout",
     "output_type": "stream",
     "text": [
      "0123456789abcdefghijklmnopqrstuvwxyzABCDEFGHIJKLMNOPQRSTUVWXYZ!\"#$%&'()*+,-./:;<=>?@[\\]^_`{|}~ \t\n",
      "\u000b",
      "\f",
      "\n",
      "abcDEF is changed to  tensor([10, 11, 12, 39, 40, 41])\n"
     ]
    }
   ],
   "source": [
    "# Turn string into list of longs\n",
    "all_characters = string.printable\n",
    "print(all_characters)\n",
    "\n",
    "def char_tensor(string):\n",
    "    tensor = torch.zeros(len(string)).long()\n",
    "    for c in range(len(string)):\n",
    "        tensor[c] = all_characters.index(string[c])\n",
    "    return Variable(tensor)\n",
    "\n",
    "print('abcDEF is changed to ', char_tensor('abcDEF'))"
   ]
  },
  {
   "cell_type": "markdown",
   "metadata": {
    "id": "b1XvIwnaHNF9"
   },
   "source": [
    "Finally we can assemble a pair of input and target tensors for training, from a random chunk. The input will be all characters *up to the last*, and the target will be all characters *from the first*. So if our chunk is \"abc\" the input will correspond to \"ab\" while the target is \"bc\"."
   ]
  },
  {
   "cell_type": "code",
   "execution_count": 5,
   "metadata": {
    "id": "YfaPPbDMHNF-",
    "tags": []
   },
   "outputs": [],
   "source": [
    "def random_training_set():    \n",
    "    chunk = random_chunk()\n",
    "    inputs = char_tensor(chunk[:-1])\n",
    "    targets = char_tensor(chunk[1:])\n",
    "    return inputs, targets"
   ]
  },
  {
   "cell_type": "markdown",
   "metadata": {
    "id": "uaQ88mGNHNF-"
   },
   "source": [
    "### 2. Build the LSTM model [4 points]\n",
    "\n",
    "#### [Diagram of LSTM]\n",
    "<img src=\"http://drive.google.com/uc?export=view&id=1baQ6Ffu-vDcXbOEBYGeLzhmfvaj4DGgW\" style=\"width: 800px;\"/>\n",
    "LSTM consists of cell state, hidden state and 3 gates that modify or use the cell state. The cell state is the key part of the LSTM and you can think that information \"flows\" in there. The operation of 3 gates are described in below.\n",
    "\n",
    "#### [Forget Gate]\n",
    "The forget gate determines which information in the cell state should be erased.\n",
    "<img src=\"http://drive.google.com/uc?export=view&id=1sJisl5P0hggmvH4qrcYgSETFKdFdBSH_\" style=\"width: 600px;\"/>\n",
    "\n",
    "#### [Input Gate]\n",
    "First, the candidate cell state is created using the current input and the previous hidden state. And the input gate determines how much the candidate cell state is reflected to the cell state.\n",
    "<img src=\"http://drive.google.com/uc?export=view&id=1Df-k5FORGH7PnXauYcb8qqUpY3Uot9A7\" style=\"width: 600px;\"/>\n",
    "\n",
    "#### [Output Gate]\n",
    "The output gate determines which elements should be extracted from the cell state to produce the output.\n",
    "<img src=\"http://drive.google.com/uc?export=view&id=1JLCGPcrZLOYfjyJhMTvmfixHq5plFj8L\" style=\"width: 600px;\"/>\n",
    "\n",
    "The above expression is summarized as follows,\n",
    "<img src=\"http://drive.google.com/uc?export=view&id=1kGq8DwwzizuNcg6GF0GaP1DAu26FFlrB\" style=\"width: 300px;\"/>\n"
   ]
  },
  {
   "cell_type": "markdown",
   "metadata": {
    "id": "my4efNewHNF-"
   },
   "source": [
    "This model will take as input the character for step $t_{-1}$ and is expected to output the next character $t$. There are three layers - one linear layer that encodes the input character into an internal state, one LSTM layer that operates on that internal state and a hidden state, and a decoder layer that outputs the probability distribution."
   ]
  },
  {
   "cell_type": "code",
   "execution_count": 6,
   "metadata": {},
   "outputs": [
    {
     "data": {
      "text/plain": [
       "LSTMModel(\n",
       "  (encoder): Embedding(100, 100)\n",
       "  (sigmoid): Sigmoid()\n",
       "  (forget_layer): Linear(in_features=100, out_features=100, bias=True)\n",
       "  (input_layer): Linear(in_features=100, out_features=100, bias=True)\n",
       "  (output_layer): Linear(in_features=100, out_features=100, bias=True)\n",
       "  (c_state_layer): Linear(in_features=100, out_features=100, bias=True)\n",
       "  (decoder): Linear(in_features=100, out_features=100, bias=True)\n",
       ")"
      ]
     },
     "execution_count": 6,
     "metadata": {},
     "output_type": "execute_result"
    }
   ],
   "source": [
    "class LSTMModel(nn.Module):\n",
    "    def __init__(self, input_dim, hidden_dim, layer_dim, output_dim):\n",
    "        super(LSTMModel, self).__init__()\n",
    "        \n",
    "        self.input_dim = input_dim\n",
    "        self.hidden_dim = hidden_dim\n",
    "        self.layer_dim = layer_dim\n",
    "        self.output_dim = output_dim\n",
    "        \n",
    "        self.encoder = nn.Embedding(input_dim, hidden_dim)\n",
    "        \n",
    "        # lstm\n",
    "        # The size of input is (batch_size, seq_dim, hidden_dim)\n",
    "        #############\n",
    "        self.sigmoid = nn.Sigmoid()\n",
    "        \n",
    "        # one-depth fully-connected layer in forget gate\n",
    "        self.forget_layer = nn.Linear(hidden_dim, hidden_dim)\n",
    "        \n",
    "        # one-depth fully-connected layer in input gate\n",
    "        self.input_layer = nn.Linear(hidden_dim, hidden_dim)\n",
    "        \n",
    "        # one-depth fully-connected layer in output gate\n",
    "        self.output_layer = nn.Linear(hidden_dim, hidden_dim)\n",
    "        \n",
    "        # one-depth fully-connected layer in candidate cell state\n",
    "        self.c_state_layer = nn.Linear(hidden_dim, hidden_dim)\n",
    "        #############\n",
    "        \n",
    "        self.decoder = nn.Linear(hidden_dim, output_dim)\n",
    "    \n",
    "    def forward(self, input, hn, cn):\n",
    "        #############\n",
    "        # iterate for number of LSTM layers\n",
    "        for n in range(n_layers):\n",
    "            # previous hn and cn are given as an input of a forward function\n",
    "            hn_1, cn_1 = hn, cn\n",
    "            \n",
    "            # for initial LSTM layer, input is the input of the multi-layered LSTM\n",
    "            if n == 0:\n",
    "                # convert the input into same shape as hidden input, xn size: [1, 1, 100]\n",
    "                xn = self.encoder(input)\n",
    "            # for consequtive LSTM layer, input is the output of the previous LSTM layer\n",
    "            else:\n",
    "                # convert the previous ouptut into same shape as hidden input, xn size: [1, 1, 100]\n",
    "                xn = self.encoder(output.argmax().unsqueeze(0).unsqueeze(0))\n",
    "\n",
    "            # add encoded input and hidden input to form a gate input (h_(n-1), x_t), size: [1, 1, 100]\n",
    "            gate_input = torch.add(hn_1, xn)\n",
    "            \n",
    "            # calculate f_n\n",
    "            f_n = self.sigmoid(self.forget_layer(gate_input))\n",
    "            # calculate i_n\n",
    "            i_n = self.sigmoid(self.input_layer(gate_input))\n",
    "            # calculate candidate cell state C^~_n(= g)\n",
    "            g = torch.tanh(self.c_state_layer(gate_input))\n",
    "            # calculate o_n\n",
    "            o_n = self.sigmoid(self.output_layer(gate_input))\n",
    "            \n",
    "            # calculate C_n \n",
    "            cn = f_n * cn_1 + i_n * g\n",
    "            # calculate h_n\n",
    "            hn = o_n * torch.tanh(cn)\n",
    "            \n",
    "            # obtain output by propagating decoding layer h_n, size: [1, 1, 100]\n",
    "            output = self.decoder(hn)\n",
    "        #############\n",
    "            \n",
    "        return output, hn, cn\n",
    "\n",
    "    def init_hidden(self):\n",
    "        # The size of h0, c0 should be (layer_dim, batch_size, hidden_dim)\n",
    "        #############\n",
    "        # initialzing the cell state and input to the hidden layer to zero, both size: [1, 1, 100]\n",
    "        # batch size given as 1\n",
    "        if torch.cuda.is_available():  # if environment supports GPU\n",
    "            h0 = Variable(torch.zeros(self.layer_dim, 1, self.hidden_dim)).cuda()\n",
    "            c0 = Variable(torch.zeros(self.layer_dim, 1, self.hidden_dim)).cuda()\n",
    "        else:  # if environment does not support GPU\n",
    "            h0 = Variable(torch.zeros(self.layer_dim, 1, self.hidden_dim))\n",
    "            c0 = Variable(torch.zeros(self.layer_dim, 1, self.hidden_dim))\n",
    "        return h0, c0\n",
    "        #############\n",
    "    \n",
    "hidden_dim = 100\n",
    "n_layers = 1\n",
    "n_characters = len(all_characters)\n",
    "\n",
    "model = LSTMModel(n_characters, hidden_dim, n_layers, n_characters)\n",
    "model.cuda()"
   ]
  },
  {
   "cell_type": "markdown",
   "metadata": {
    "id": "2qajoki2HNF_"
   },
   "source": [
    "### 3. Loss function and optimizer"
   ]
  },
  {
   "cell_type": "code",
   "execution_count": 7,
   "metadata": {
    "id": "xvm-picHHNF_"
   },
   "outputs": [],
   "source": [
    "criterion = nn.CrossEntropyLoss()\n",
    "\n",
    "lr = 0.005\n",
    "optimizer = torch.optim.Adam(model.parameters(), lr=lr)"
   ]
  },
  {
   "cell_type": "markdown",
   "metadata": {
    "id": "5haXxzwOHNF_"
   },
   "source": [
    "### 4 . Write the character level generation code [4 points]\n",
    "\n",
    "- Generate a sentence with a length of $predict\\_len$, starting from a single character $prime\\_str$.\n",
    "- Example) evaluate(prime_str='Y', predict_len=20) -> You better let it go"
   ]
  },
  {
   "cell_type": "code",
   "execution_count": 8,
   "metadata": {
    "id": "JKkMfsh1HNF_"
   },
   "outputs": [],
   "source": [
    "def evaluate(prime_str='W', predict_len=100):\n",
    "    # suppose prime_str is a single character\n",
    "    # and use greedy search to predict the next character\n",
    "\n",
    "    hn, cn = model.init_hidden()\n",
    "    predicted = str()\n",
    "    # initially add the prime_str character to the predicted string\n",
    "    predicted += prime_str\n",
    "    \n",
    "    for i in range(predict_len):\n",
    "        #############        \n",
    "        # prime_str converted to an input character index tensor\n",
    "        in_char_index = char_tensor(prime_str).unsqueeze(0).cuda()\n",
    "        # forwarding the model with given input character index, hn, and cn\n",
    "        output, hn, cn = model(in_char_index, hn, cn)\n",
    "        # obtain the predicted next character from a greedy search method\n",
    "        out_char_index = output[-1].argmax()\n",
    "        # concatenate the next character to the predicted string\n",
    "        predicted += all_characters[out_char_index]\n",
    "        # update the prime_str to the latest character added in the predicted string\n",
    "        prime_str = predicted[-1]\n",
    "        #############\n",
    "    return predicted"
   ]
  },
  {
   "cell_type": "markdown",
   "metadata": {
    "id": "vt4VFJd5HNF_"
   },
   "source": [
    "### 5 . Write the code to train the model [2 points]\n",
    "\n",
    "- Plot the training loss curve.\n",
    "- Print the output sentence with a length of 100, using $evaluate()$ function."
   ]
  },
  {
   "cell_type": "code",
   "execution_count": 80,
   "metadata": {
    "id": "LC0xsnlRHNF_",
    "outputId": "069881bd-f136-4501-fcbc-e8bb0bf3afbd",
    "scrolled": true
   },
   "outputs": [
    {
     "name": "stdout",
     "output_type": "stream",
     "text": [
      "************************* epoch100 *************************\n",
      "loss 361.4271\n",
      "I mout one the the the the the the the the the the the the the the the the the the the the the the th \n",
      "\n",
      "************************* epoch200 *************************\n",
      "loss 358.5416\n",
      "I can't the moment one the moment one the moment one the moment one the moment one the moment one the \n",
      "\n",
      "************************* epoch300 *************************\n",
      "loss 335.5292\n",
      "I mama dand it go\n",
      "You better never let it go\n",
      "You better never let it go\n",
      "You better never let it go\n",
      "Yo \n",
      "\n",
      "************************* epoch400 *************************\n",
      "loss 301.8921\n",
      "I moment\n",
      "You better never let it go\n",
      "You better never let it go\n",
      "You better never let it go\n",
      "You better  \n",
      "\n",
      "************************* epoch500 *************************\n",
      "loss 184.0570\n",
      "I moment\n",
      "You own it, you better never let it go\n",
      "You own it, you better never let it go\n",
      "You own it, yo \n",
      "\n",
      "************************* epoch600 *************************\n",
      "loss 253.9429\n",
      "I move, he's grows here goes Rabbit, he knows his opportunity comes once in a lifetime you better nev \n",
      "\n",
      "************************* epoch700 *************************\n",
      "loss 216.0641\n",
      "I now\n",
      "This opportunity comes once in a lifetime you better\n",
      "You better never let it go\n",
      "You only get on \n",
      "\n",
      "************************* epoch800 *************************\n",
      "loss 129.3167\n",
      "I mover there and souls capture that its go move to to fore the next shows, he nose yourself in the m \n",
      "\n",
      "************************* epoch900 *************************\n",
      "loss 170.4731\n",
      "I wan here goes so low\n",
      "This opportunity comes once in a lifetime you better\n",
      "You better lose yourself  \n",
      "\n",
      "************************* epoch1000 *************************\n",
      "loss 47.7578\n",
      "I move it, he knows his world one shot, do not miss your chance to blow\n",
      "This opportunity comes once i \n",
      "\n",
      "************************* epoch1100 *************************\n",
      "loss 107.8363\n",
      "I wan he moment\n",
      "You own it, you better never let it go\n",
      "You only get one shot, do not miss your chance \n",
      "\n",
      "************************* epoch1200 *************************\n",
      "loss 58.2808\n",
      "I wan he moment\n",
      "You own it, you better never let it go\n",
      "You only get one shot, do not miss your chance \n",
      "\n",
      "************************* epoch1300 *************************\n",
      "loss 45.5687\n",
      "I got\n",
      "To opportunity comes once in a lifetime you better\n",
      "You better lose yourself in the music, the m \n",
      "\n",
      "************************* epoch1400 *************************\n",
      "loss 12.2119\n",
      "I got\n",
      "You better lose yourself in the music, the moment\n",
      "You own it, you better never let it go\n",
      "You on \n",
      "\n",
      "************************* epoch1500 *************************\n",
      "loss 38.3523\n",
      "I got\n",
      "He been chewed up and spit out and booed off stage\n",
      "But I kept rhymin' and stepwritin' the next  \n",
      "\n",
      "************************* epoch1600 *************************\n",
      "loss 16.9852\n",
      "I got\n",
      "To formulate a plot fore I end up in jail or shot\n",
      "Feer shot\n",
      "Feet fail me not miss your chance t \n",
      "\n",
      "************************* epoch1700 *************************\n",
      "loss 32.1396\n",
      "I got\n",
      "You better lose yourself in the music, the moment\n",
      "You own it, you better never let it go\n",
      "You on \n",
      "\n",
      "************************* epoch1800 *************************\n",
      "loss 18.2474\n",
      "I got\n",
      "You better lose yourself in the music, the moment\n",
      "You own it, you better never let it go\n",
      "You on \n",
      "\n",
      "************************* epoch1900 *************************\n",
      "loss 33.0148\n",
      "I fold in Sale comes once in a lifetime you better\n",
      "You better lose yourself in the music, the moment\n",
      " \n",
      "\n",
      "************************* epoch2000 *************************\n",
      "loss 15.8835\n",
      "I got\n",
      "You better lose yourself in the music, the moment\n",
      "You own it, you better never let it go\n",
      "You on \n",
      "\n"
     ]
    },
    {
     "data": {
      "text/plain": [
       "[<matplotlib.lines.Line2D at 0x7f3e7a1b7490>]"
      ]
     },
     "execution_count": 80,
     "metadata": {},
     "output_type": "execute_result"
    },
    {
     "data": {
      "image/png": "[encoded data removed]",
      "text/plain": [
       "<Figure size 432x288 with 1 Axes>"
      ]
     },
     "metadata": {
      "needs_background": "light"
     },
     "output_type": "display_data"
    }
   ],
   "source": [
    "n_epochs = 2000\n",
    "print_every = 100\n",
    "plot_every = 10\n",
    "\n",
    "all_losses = []\n",
    "loss_avg = 0\n",
    "\n",
    "for epoch in range(1, n_epochs + 1):\n",
    "    #############\n",
    "    # initialzing the cell state and input to the hidden layer, size: [1, 1, 100]\n",
    "    hn, cn = model.init_hidden()\n",
    "    #############\n",
    "    # Load text\n",
    "    inputs, targets = random_training_set()\n",
    "    if inputs.size()[0] < 200: continue\n",
    "    \n",
    "    # Clear gradients w.r.t. parameters\n",
    "    #############\n",
    "    optimizer.zero_grad()\n",
    "    #############\n",
    "    \n",
    "    # Forward pass\n",
    "    loss = 0\n",
    "    #############\n",
    "    # repeat the forward pass for every characters in an input string\n",
    "    for i in range(inputs.size()[0]):\n",
    "        output, hn, cn = model(inputs[i].unsqueeze(0).unsqueeze(0).cuda(), hn, cn)\n",
    "        # calculating the cross entropy loss between the predicted character and the target character\n",
    "        loss += criterion(output[-1], targets[i].unsqueeze(0).cuda())\n",
    "    #############\n",
    "    \n",
    "    # Backward pass\n",
    "    #############\n",
    "    loss.backward()\n",
    "    #############\n",
    "    \n",
    "    # Updating parameters\n",
    "    #############\n",
    "    optimizer.step()\n",
    "    #############\n",
    "    \n",
    "    loss_avg += loss.item() / chunk_len\n",
    "\n",
    "    if epoch % print_every == 0:\n",
    "        print('*'*25, 'epoch%d'%epoch, '*'*25)\n",
    "        print('loss %.4f'%loss.item())\n",
    "        print(evaluate('I', 100), '\\n')\n",
    "\n",
    "    if epoch % plot_every == 0:\n",
    "        all_losses.append(loss_avg / plot_every)\n",
    "        loss_avg = 0\n",
    "\n",
    "#################################################\n",
    "import matplotlib.pyplot as plt\n",
    "%matplotlib inline\n",
    "\n",
    "plt.figure()\n",
    "plt.plot(all_losses)"
   ]
  },
  {
   "cell_type": "markdown",
   "metadata": {},
   "source": [
    "# Discussion\n",
    "- 논문에서 주어진 것과 같이 cell state, hidden state에 해당하는 값들과, forget gate, input gate, output gate 연산들을 활용하여 LSTM 모델을 구현하였다. \n",
    "- training과 evaluation에 해당하는 부분은 input으로 들어오는 문자열에 대해 for 문을 통해 각각의 문자들을 순차적으로 입력해 주었으며, batch size는 1로 두었다. 거기에 더해 이전 output으로 생성된 cell state, hidden state값을 input으로 받아 직전 character prediction에 대한 정보를 바탕으로 학습할 수 있었다. \n",
    "- 총 2000번의 epoch동안 Eminem의 'Lose Yourself'로부터 랜덤하게 생성된 문자열에 대해 학습을 시켰으며, epoch을 거듭할수록 각각의 gate들에 연결되어 있는 layer들은 input에 대한 최적의 cell state, hidden state가 생성되도록 학습되었다. \n",
    "- 이는 epoch가 거듭할수록 predicted string과 target string 사이의 loss 값이 감소함을 통해 정량적으로 확인할 수 있는데, 초기 100번째 epoch에서는 361.4271의 loss값을 보인 반면, 최종적으로 2000번째 epoch에서는 15.8835의 loss로 수렴하였다. \n",
    "- 실제로 예측되는 string의 값을 확인해보면, 초기 epoch에서는 같은 문자열이 여러 번 반복되는 등 실제 target string인 Eminem의 가사와는 거리가 멀었지만, 최종적으로 얻은 predicted string을 보면 target string의 일부분과 정확히 일치함을 확인할 수 있었다. 이를 통해 주어진 문자열에 대한 학습이 매우 잘 이뤄졌음을 정성적으로 확인할 수 있었다. \n",
    "- 이를 통해 길이 200의 긴 문자열을 대상으로 학습을 시키고, 길이 100짜리 예측된 긴 문자열을 출력시키는 task에서는 LSTM의 강점이 드러남을 확인할 수 있었다. "
   ]
  },
  {
   "cell_type": "markdown",
   "metadata": {
    "id": "XCGRgEuZHNF_"
   },
   "source": [
    "### *References*\n",
    "[1] [practical pytorch](https://github.com/spro/practical-pytorch)(https://github.com/spro/practical-pytorch)\n",
    "\n",
    "[2] [CS 231n](http://cs231n.stanford.edu/syllabus.html)(http://cs231n.stanford.edu/syllabus.html)"
   ]
  },
  {
   "cell_type": "code",
   "execution_count": null,
   "metadata": {},
   "outputs": [],
   "source": []
  }
 ],
 "metadata": {
  "colab": {
   "collapsed_sections": [],
   "name": "EEE4423_lab10_Character Generation using LSTM.ipynb",
   "provenance": []
  },
  "kernelspec": {
   "display_name": "Full on Python 3.6 (GPU)",
   "language": "python",
   "name": "python3"
  },
  "language_info": {
   "codemirror_mode": {
    "name": "ipython",
    "version": 3
   },
   "file_extension": ".py",
   "mimetype": "text/x-python",
   "name": "python",
   "nbconvert_exporter": "python",
   "pygments_lexer": "ipython3",
   "version": "3.6.14"
  }
 },
 "nbformat": 4,
 "nbformat_minor": 4
}
